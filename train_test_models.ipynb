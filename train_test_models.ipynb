{
 "cells": [
  {
   "cell_type": "code",
   "execution_count": 1,
   "metadata": {},
   "outputs": [
    {
     "name": "stderr",
     "output_type": "stream",
     "text": [
      "WARNING (pytensor.configdefaults): g++ not available, if using conda: `conda install m2w64-toolchain`\n",
      "WARNING (pytensor.configdefaults): g++ not detected!  PyTensor will be unable to compile C-implementations and will default to Python. Performance may be severely degraded. To remove this warning, set PyTensor flags cxx to an empty string.\n",
      "WARNING (pytensor.tensor.blas): Using NumPy C-API based implementation for BLAS functions.\n"
     ]
    }
   ],
   "source": [
    "from utils import (construct_nn, bayesian_model_w_factors, simple_bayesian_model, extract_data,\n",
    "                   train_model, train_nn_model, model_inference, nn_model_inference, save_model, \n",
    "                   save_model_nn, read_model, metricas, curvas_metricas)"
   ]
  },
  {
   "cell_type": "code",
   "execution_count": 2,
   "metadata": {},
   "outputs": [],
   "source": [
    "path_bayesian = 'modelos/trace_bayesian.pkl'\n",
    "path_cov = 'modelos/trace_cov.pkl'\n",
    "path_nn = 'modelos/tace_nn.pkl'\n",
    "\n",
    "path_slope_PP = 'data/processed/X_slope_PP.csv'\n",
    "path_slope_PP_vhs1 = 'data/processed/X_slope_PP_vhs1.csv'\n",
    "\n",
    "X_train, X_test, y_train, y_test = extract_data(path_slope_PP_vhs1)\n",
    "\n",
    "neural_network_ = construct_nn(X_train, y_train)\n",
    "bayesian_regression_tree_ = bayesian_model_w_factors(X_train, y_train)\n",
    "modelo_formula_cov_ = simple_bayesian_model(X_train, y_train)"
   ]
  },
  {
   "cell_type": "code",
   "execution_count": 7,
   "metadata": {},
   "outputs": [
    {
     "name": "stderr",
     "output_type": "stream",
     "text": [
      "Sampling: []\n"
     ]
    },
    {
     "data": {
      "text/html": [
       "\n",
       "<style>\n",
       "    /* Turns off some styling */\n",
       "    progress {\n",
       "        /* gets rid of default border in Firefox and Opera. */\n",
       "        border: none;\n",
       "        /* Needs to be in here for Safari polyfill so background images work as expected. */\n",
       "        background-size: auto;\n",
       "    }\n",
       "    progress:not([value]), progress:not([value])::-webkit-progress-bar {\n",
       "        background: repeating-linear-gradient(45deg, #7e7e7e, #7e7e7e 10px, #5c5c5c 10px, #5c5c5c 20px);\n",
       "    }\n",
       "    .progress-bar-interrupted, .progress-bar-interrupted::-webkit-progress-bar {\n",
       "        background: #F44336;\n",
       "    }\n",
       "</style>\n"
      ],
      "text/plain": [
       "<IPython.core.display.HTML object>"
      ]
     },
     "metadata": {},
     "output_type": "display_data"
    },
    {
     "data": {
      "text/html": [
       "\n",
       "    <div>\n",
       "      <progress value='5000' class='' max='5000' style='width:300px; height:20px; vertical-align: middle;'></progress>\n",
       "      100.00% [5000/5000 00:47&lt;00:00]\n",
       "    </div>\n",
       "    "
      ],
      "text/plain": [
       "<IPython.core.display.HTML object>"
      ]
     },
     "metadata": {},
     "output_type": "display_data"
    },
    {
     "name": "stdout",
     "output_type": "stream",
     "text": [
      "Accuracy = 91.07142857142857%\n",
      "RECALL: 0.946\n",
      "PRECISION: 0.883\n"
     ]
    },
    {
     "data": {
      "image/png": "[encoded data removed]",
      "text/plain": [
       "<Figure size 640x480 with 2 Axes>"
      ]
     },
     "metadata": {},
     "output_type": "display_data"
    },
    {
     "data": {
      "text/plain": [
       "'\\nTN FP\\nFN TP\\n'"
      ]
     },
     "execution_count": 7,
     "metadata": {},
     "output_type": "execute_result"
    }
   ],
   "source": [
    "trace_bayesian = read_model(path_bayesian)\n",
    "y_score, trace = model_inference(bayesian_regression_tree_, trace_bayesian)\n",
    "metricas(y_test, y_score)\n",
    "\"\"\"\n",
    "TN FP\n",
    "FN TP\n",
    "\"\"\""
   ]
  },
  {
   "cell_type": "code",
   "execution_count": 3,
   "metadata": {},
   "outputs": [
    {
     "data": {
      "text/plain": [
       "'y_score_nn, trace_nn = train_nn_model(neural_network_)\\ny_score_bayesian, trace_bayesian = train_model(bayesian_regression_tree_)\\ny_score_cov, trace_cov = train_model(modelo_formula_cov_)'"
      ]
     },
     "execution_count": 3,
     "metadata": {},
     "output_type": "execute_result"
    }
   ],
   "source": [
    "\"\"\"y_score_nn, trace_nn = train_nn_model(neural_network_)\n",
    "y_score_bayesian, trace_bayesian = train_model(bayesian_regression_tree_)\n",
    "y_score_cov, trace_cov = train_model(modelo_formula_cov_)\"\"\""
   ]
  },
  {
   "cell_type": "code",
   "execution_count": 6,
   "metadata": {},
   "outputs": [
    {
     "data": {
      "text/plain": [
       "\"save_model(bayesian_regression_tree_, 'bayesian_regression_tree', 'trace_bayesian')\\nsave_model(modelo_formula_cov_, 'modelo_formula_cov', 'trace_cov')\\nsave_model_nn(neural_network_, 'neural_network', 'trace_nn')\""
      ]
     },
     "execution_count": 6,
     "metadata": {},
     "output_type": "execute_result"
    }
   ],
   "source": [
    "\"\"\"save_model(bayesian_regression_tree_, 'bayesian_regression_tree', 'trace_bayesian')\n",
    "save_model(modelo_formula_cov_, 'modelo_formula_cov', 'trace_cov')\n",
    "save_model_nn(neural_network_, 'neural_network', 'trace_nn')\"\"\""
   ]
  }
 ],
 "metadata": {
  "kernelspec": {
   "display_name": "Python 3 (ipykernel)",
   "language": "python",
   "name": "python3"
  },
  "language_info": {
   "codemirror_mode": {
    "name": "ipython",
    "version": 3
   },
   "file_extension": ".py",
   "mimetype": "text/x-python",
   "name": "python",
   "nbconvert_exporter": "python",
   "pygments_lexer": "ipython3",
   "version": "3.9.0"
  }
 },
 "nbformat": 4,
 "nbformat_minor": 4
}
