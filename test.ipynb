{
 "cells": [
  {
   "cell_type": "code",
   "execution_count": 1,
   "metadata": {},
   "outputs": [],
   "source": [
    "import pandas as pd\n",
    "import numpy as np\n",
    "import seaborn as sns\n",
    "import arviz as az\n",
    "import pymc as pm\n",
    "import matplotlib.pyplot as plt"
   ]
  },
  {
   "cell_type": "code",
   "execution_count": 2,
   "metadata": {},
   "outputs": [],
   "source": [
    "PATH = 'data/New_DB.xlsx'\n",
    "df = pd.read_excel(PATH)\n",
    "\n",
    "columns =['slope', 'PP', 'valor_humedad_suelo1']\n",
    "X = df.loc[:,columns]\n",
    "train_size = 0.80\n",
    "df_general = X * 1\n",
    "n_df_general = X * 0.8\n",
    "df_general['output'] = 1\n",
    "n_df_general['output'] = 0\n",
    "\n",
    "df_output = pd.concat([df_general, n_df_general])\n",
    "\n",
    "X_slope_PP = df_output.drop('valor_humedad_suelo1', axis=1)\n",
    "X_slope_PP_vhs1 = df_output\n",
    "\n",
    "X_slope_PP = X_slope_PP.dropna()\n",
    "X_slope_PP_vhs1 = X_slope_PP_vhs1.dropna()\n",
    "X_slope_PP = X_slope_PP.reset_index(drop=True)\n",
    "X_slope_PP_vhs1 = X_slope_PP_vhs1.reset_index(drop=True)\n",
    "\n",
    "y_slope_PP = X_slope_PP.output\n",
    "X_slope_PP = X_slope_PP.drop(labels='output', axis=1)\n",
    "\n",
    "y_slope_PP_vhs1 = X_slope_PP_vhs1.output\n",
    "X_slope_PP_vhs1 = X_slope_PP_vhs1.drop(labels='output', axis=1)\n",
    "\n",
    "from sklearn.preprocessing import StandardScaler\n",
    "from sklearn.model_selection import train_test_split\n",
    "import pytensor\n",
    "import pytensor.tensor as pt"
   ]
  },
  {
   "cell_type": "code",
   "execution_count": 3,
   "metadata": {},
   "outputs": [],
   "source": [
    "X_train, X_test, y_train, y_test = train_test_split(X_slope_PP_vhs1, y_slope_PP_vhs1, train_size=train_size, stratify=y_slope_PP_vhs1, random_state=42)\n",
    "sc = StandardScaler()\n",
    "floatX = pytensor.config.floatX\n",
    "#X_slope_PP_vhs1 = X_slope_PP_vhs1.astype(floatX)\n",
    "#y_slope_PP_vhs1 = y_slope_PP_vhs1.astype(floatX)\n",
    "X_train, X_test, y_train, y_test = train_test_split(X_slope_PP_vhs1, y_slope_PP_vhs1, train_size=train_size, stratify=y_slope_PP_vhs1,random_state=42)\n",
    "X_train = sc.fit_transform(X_train)\n",
    "X_test = sc.transform(X_test)\n",
    "\n",
    "random_seed = 12\n",
    "rng = np.random.default_rng(random_seed)"
   ]
  },
  {
   "cell_type": "code",
   "execution_count": 4,
   "metadata": {},
   "outputs": [],
   "source": [
    "def construct_nn(ann_input, ann_output):\n",
    "    n_hidden = 5\n",
    "\n",
    "    # Initialize random weights between each layer\n",
    "    init_1 = rng.standard_normal(size=(X_train.shape[1], n_hidden)).astype(floatX)\n",
    "    init_2 = rng.standard_normal(size=(n_hidden, n_hidden)).astype(floatX)\n",
    "    init_out = rng.standard_normal(size=n_hidden).astype(floatX)\n",
    "\n",
    "    coords = {\n",
    "        \"hidden_layer_1\": np.arange(n_hidden),\n",
    "        \"hidden_layer_2\": np.arange(n_hidden),\n",
    "        \"train_cols\": np.arange(X_train.shape[1]),\n",
    "        # \"obs_id\": np.arange(X_train.shape[0]),\n",
    "    }\n",
    "    with pm.Model(coords=coords) as neural_network:\n",
    "        ann_input = pm.Data(\"ann_input\", X_train, mutable=True, dims=(\"obs_id\", \"train_cols\"))\n",
    "        ann_output = pm.Data(\"ann_output\", y_train, mutable=True, dims=\"obs_id\")\n",
    "\n",
    "        # Weights from input to hidden layer\n",
    "        weights_in_1 = pm.Normal(\n",
    "            \"w_in_1\", 0, sigma=1, initval=init_1, dims=(\"train_cols\", \"hidden_layer_1\")\n",
    "        )\n",
    "\n",
    "        # Weights from 1st to 2nd layer\n",
    "        weights_1_2 = pm.Normal(\n",
    "            \"w_1_2\", 0, sigma=1, initval=init_2, dims=(\"hidden_layer_1\", \"hidden_layer_2\")\n",
    "        )\n",
    "\n",
    "        # Weights from hidden layer to output\n",
    "        weights_2_out = pm.Normal(\"w_2_out\", 0, sigma=1, initval=init_out, dims=\"hidden_layer_2\")\n",
    "\n",
    "        # Build neural-network using tanh activation function\n",
    "        act_1 = pm.math.tanh(pm.math.dot(ann_input, weights_in_1))\n",
    "        act_2 = pm.math.tanh(pm.math.dot(act_1, weights_1_2))\n",
    "        act_out = pm.math.sigmoid(pm.math.dot(act_2, weights_2_out))\n",
    "\n",
    "        # Binary classification -> Bernoulli likelihood\n",
    "        out = pm.Bernoulli(\n",
    "            \"out\",\n",
    "            act_out,\n",
    "            observed=ann_output,\n",
    "            total_size=y_train.shape[0],  # IMPORTANT for minibatches\n",
    "            dims=\"obs_id\",\n",
    "        )\n",
    "    return neural_network\n",
    "\n",
    "\n",
    "neural_network_ = construct_nn(X_train, y_train)"
   ]
  },
  {
   "cell_type": "code",
   "execution_count": 5,
   "metadata": {},
   "outputs": [],
   "source": [
    "def bayesian_regression_tree(input, output):\n",
    "    coords = {\n",
    "        'train_cols': np.arange(X_train.shape[1]),\n",
    "        #'obs_id': np.arange(X_train.shape[0])\n",
    "    }\n",
    "    with pm.Model(coords=coords) as model:\n",
    "        input = pm.Data('input', X_train, mutable=True, dims=('obs_id','train_cols'))\n",
    "        observed = pm.Data('observed', y_train, mutable=True, dims='dims_id')\n",
    "        intercept = pm.Normal('intercept', mu = 0, sigma = 5) #5\n",
    "        beta = pm.Normal('beta',mu=0, sigma=5)\n",
    "        beta2 = pm.Normal('beta2', mu=0, sigma=5)\n",
    "        beta3 = pm.Normal('beta3', mu = 0, sigma=5)\n",
    "        alpha = pm.Normal('alpha', mu = 0, sigma=0.1)\n",
    "        alpha2 = pm.Normal('alpha2', mu = 0, sigma = 0.1) #0.1\n",
    "        alpha3 = pm.Normal('alpha3', mu = 0, sigma=1)\n",
    "        alpha4 = pm.Normal('alpha4', mu = 0, sigma = 0.1) #0.1\n",
    "        alpha5 = pm.Normal('alpha5', mu = 0 , sigma = 1) #1\n",
    "        alpha6 = pm.Normal('alpha6', mu = 0 , sigma = 1) #1\n",
    "        p = pm.Deterministic(\n",
    "            'p', \n",
    "            pm.math.invlogit(\n",
    "                intercept + input[:,0]*beta + input[:,1]*beta2 + input[:,2]*beta3 + \n",
    "                (input[:,1]**2)*alpha**2 + (input[:,2]**2)*alpha2**2 + (input[:,0]**2)*alpha3**2 + \n",
    "                (input[:,1]**3)*alpha4**3 + (input[:,2]**3)*alpha5**3 + (input[:,0]**3)*alpha6**3))\n",
    "        final = pm.Bernoulli('out',p , observed = observed, dims='obs_id')\n",
    "        \n",
    "    return model\n",
    "\n",
    "bayesian_regression_tree_ = bayesian_regression_tree(X_train, y_train)"
   ]
  },
  {
   "cell_type": "code",
   "execution_count": 6,
   "metadata": {},
   "outputs": [],
   "source": [
    "def modelo_formula_cov(input, output):\n",
    "    coords = {\n",
    "        'train_cols': np.arange(X_train.shape[1]),\n",
    "        #'obs_id': np.arange(X_train.shape[0])\n",
    "    }\n",
    "    with pm.Model(coords=coords) as model:\n",
    "        input = pm.Data('input', X_train, mutable=True, )#dims=('obs_id','train_cols'))\n",
    "        observed = pm.Data('observed', y_train, mutable=True, )#dims='dims_id')\n",
    "        intercept = pm.Normal('intercept', mu=0,sigma=5)\n",
    "    \n",
    "        beta_1 = pm.Normal('beta_1',mu=0, sigma=5)\n",
    "        beta_2 = pm.Normal('beta_2', mu=0, sigma=5)\n",
    "        beta_3 = pm.Normal('beta_3', mu = 0, sigma=5)\n",
    "        p = pm.Deterministic(\n",
    "            'p', \n",
    "            pm.math.invlogit(\n",
    "                intercept + input[:,0]*beta_1 + input[:,1]*beta_2 + input[:,2]*beta_3\n",
    "            ))\n",
    "            \n",
    "        out = pm.Bernoulli('out', p, observed = observed,)# dims='obs_id')\n",
    "    return model\n",
    "\n",
    "modelo_formula_cov_ = modelo_formula_cov(X_train, y_train)"
   ]
  },
  {
   "cell_type": "code",
   "execution_count": 7,
   "metadata": {},
   "outputs": [],
   "source": [
    "def train_nn_model(model):\n",
    "    with model:\n",
    "        approx = pm.fit(n=20_000)\n",
    "    trace = approx.sample(draws=5000)\n",
    "    with model:\n",
    "        pm.set_data(new_data={\"ann_input\": X_test})\n",
    "        ppc = pm.sample_posterior_predictive(trace)\n",
    "        trace.extend(ppc)\n",
    "\n",
    "    pred = ppc.posterior_predictive[\"out\"].mean((\"chain\", \"draw\")) > 0.50\n",
    "    print(f\"Accuracy = {(y_test == pred.values).mean() * 100}%\")\n",
    "    return pred.values, trace"
   ]
  },
  {
   "cell_type": "code",
   "execution_count": 8,
   "metadata": {},
   "outputs": [],
   "source": [
    "def train_model(model):\n",
    "    with model:\n",
    "        start = pm.find_MAP()\n",
    "        #hessian_inv = np.linalg.inv(pm.find_hessian(start, model=bayesian_regression_tree))\n",
    "        approx = pm.fit(n=10_000, start=start)\n",
    "        step = pm.Metropolis()\n",
    "        trace = approx.sample(draws=5000,)#step = step, start = start)# nuts_sampler_kwargs={'hess_inv': hessian_inv})\n",
    "\n",
    "    with model:\n",
    "        pm.set_data(new_data={\"input\": X_test})\n",
    "        ppc = pm.sample_posterior_predictive(trace, var_names=['p'], return_inferencedata=True, predictions=True, extend_inferencedata=True)\n",
    "        trace.extend(ppc)\n",
    "    #pred = ppc.posterior_predictive[\"out\"].mean((\"chain\", \"draw\")) > 0.50\n",
    "    #print(f\"Accuracy = {(y_test == pred.values).mean() * 100}%\")\n",
    "    pred = ppc.predictions['p'].mean(('chain', 'draw')) > 0.5\n",
    "    print(f\"Accuracy = {(y_test == pred.values).mean() * 100}%\")\n",
    "    return pred.values, trace \n",
    "    "
   ]
  },
  {
   "cell_type": "code",
   "execution_count": 16,
   "metadata": {},
   "outputs": [],
   "source": [
    "import pickle\n",
    "def save_model(model, name_model, name_trace):\n",
    "    with model:\n",
    "        start = pm.find_MAP()\n",
    "        #hessian_inv = np.linalg.inv(pm.find_hessian(start, model=bayesian_regression_tree))\n",
    "        approx = pm.fit(n=10_000, start=start)\n",
    "        step = pm.Metropolis()\n",
    "        trace = approx.sample(draws=5000,)#step = step, start = start)# nuts_sampler_kwargs={'hess_inv': hessian_inv})\n",
    "\n",
    "    \"\"\"with open(f'{name_model}.pkl', 'wb') as f:\n",
    "        pickle.dump(model, f)\"\"\"\n",
    "\n",
    "    with open(f'{name_trace}.pkl', 'wb') as f:\n",
    "        pickle.dump(trace, f)\n",
    "        \n",
    "def save_model_nn(model, name_model, name_trace):\n",
    "    with model:\n",
    "        approx = pm.fit(n=20_000)\n",
    "    trace = approx.sample(draws=5000)\n",
    "\n",
    "    \"\"\"with open(f'{name_model}.pkl', 'wb') as f:\n",
    "        pickle.dump(model, f)\"\"\"\n",
    "    with open(f'{name_trace}.pkl', 'wb') as f:\n",
    "        pickle.dump(trace, f)"
   ]
  },
  {
   "cell_type": "code",
   "execution_count": 17,
   "metadata": {},
   "outputs": [
    {
     "data": {
      "text/plain": [
       "'y_score_nn, trace_nn = train_nn_model(neural_network_)\\ny_score_bayesian, trace_bayesian = train_model(bayesian_regression_tree_)\\ny_score_cov, trace_cov = train_model(modelo_formula_cov_)'"
      ]
     },
     "execution_count": 17,
     "metadata": {},
     "output_type": "execute_result"
    }
   ],
   "source": [
    "\"\"\"y_score_nn, trace_nn = train_nn_model(neural_network_)\n",
    "y_score_bayesian, trace_bayesian = train_model(bayesian_regression_tree_)\n",
    "y_score_cov, trace_cov = train_model(modelo_formula_cov_)\"\"\""
   ]
  },
  {
   "cell_type": "code",
   "execution_count": 18,
   "metadata": {},
   "outputs": [
    {
     "data": {
      "text/html": [
       "\n",
       "<style>\n",
       "    /* Turns off some styling */\n",
       "    progress {\n",
       "        /* gets rid of default border in Firefox and Opera. */\n",
       "        border: none;\n",
       "        /* Needs to be in here for Safari polyfill so background images work as expected. */\n",
       "        background-size: auto;\n",
       "    }\n",
       "    progress:not([value]), progress:not([value])::-webkit-progress-bar {\n",
       "        background: repeating-linear-gradient(45deg, #7e7e7e, #7e7e7e 10px, #5c5c5c 10px, #5c5c5c 20px);\n",
       "    }\n",
       "    .progress-bar-interrupted, .progress-bar-interrupted::-webkit-progress-bar {\n",
       "        background: #F44336;\n",
       "    }\n",
       "</style>\n"
      ],
      "text/plain": [
       "<IPython.core.display.HTML object>"
      ]
     },
     "metadata": {},
     "output_type": "display_data"
    },
    {
     "data": {
      "text/html": [
       "\n",
       "    <div>\n",
       "      <progress value='11' class='' max='11' style='width:300px; height:20px; vertical-align: middle;'></progress>\n",
       "      100.00% [11/11 00:00&lt;00:00 logp = -146.24, ||grad|| = 4.2566e-05]\n",
       "    </div>\n",
       "    "
      ],
      "text/plain": [
       "<IPython.core.display.HTML object>"
      ]
     },
     "metadata": {},
     "output_type": "display_data"
    },
    {
     "name": "stdout",
     "output_type": "stream",
     "text": [
      "\n"
     ]
    },
    {
     "data": {
      "text/html": [
       "\n",
       "<style>\n",
       "    /* Turns off some styling */\n",
       "    progress {\n",
       "        /* gets rid of default border in Firefox and Opera. */\n",
       "        border: none;\n",
       "        /* Needs to be in here for Safari polyfill so background images work as expected. */\n",
       "        background-size: auto;\n",
       "    }\n",
       "    progress:not([value]), progress:not([value])::-webkit-progress-bar {\n",
       "        background: repeating-linear-gradient(45deg, #7e7e7e, #7e7e7e 10px, #5c5c5c 10px, #5c5c5c 20px);\n",
       "    }\n",
       "    .progress-bar-interrupted, .progress-bar-interrupted::-webkit-progress-bar {\n",
       "        background: #F44336;\n",
       "    }\n",
       "</style>\n"
      ],
      "text/plain": [
       "<IPython.core.display.HTML object>"
      ]
     },
     "metadata": {},
     "output_type": "display_data"
    },
    {
     "data": {
      "text/html": [
       "\n",
       "    <div>\n",
       "      <progress value='10000' class='' max='10000' style='width:300px; height:20px; vertical-align: middle;'></progress>\n",
       "      100.00% [10000/10000 00:02&lt;00:00 Average Loss = 167.49]\n",
       "    </div>\n",
       "    "
      ],
      "text/plain": [
       "<IPython.core.display.HTML object>"
      ]
     },
     "metadata": {},
     "output_type": "display_data"
    },
    {
     "name": "stderr",
     "output_type": "stream",
     "text": [
      "Finished [100%]: Average Loss = 167.49\n"
     ]
    },
    {
     "data": {
      "text/html": [
       "\n",
       "<style>\n",
       "    /* Turns off some styling */\n",
       "    progress {\n",
       "        /* gets rid of default border in Firefox and Opera. */\n",
       "        border: none;\n",
       "        /* Needs to be in here for Safari polyfill so background images work as expected. */\n",
       "        background-size: auto;\n",
       "    }\n",
       "    progress:not([value]), progress:not([value])::-webkit-progress-bar {\n",
       "        background: repeating-linear-gradient(45deg, #7e7e7e, #7e7e7e 10px, #5c5c5c 10px, #5c5c5c 20px);\n",
       "    }\n",
       "    .progress-bar-interrupted, .progress-bar-interrupted::-webkit-progress-bar {\n",
       "        background: #F44336;\n",
       "    }\n",
       "</style>\n"
      ],
      "text/plain": [
       "<IPython.core.display.HTML object>"
      ]
     },
     "metadata": {},
     "output_type": "display_data"
    },
    {
     "data": {
      "text/html": [
       "\n",
       "    <div>\n",
       "      <progress value='11' class='' max='11' style='width:300px; height:20px; vertical-align: middle;'></progress>\n",
       "      100.00% [11/11 00:00&lt;00:00 logp = -147.63, ||grad|| = 4.2566e-05]\n",
       "    </div>\n",
       "    "
      ],
      "text/plain": [
       "<IPython.core.display.HTML object>"
      ]
     },
     "metadata": {},
     "output_type": "display_data"
    },
    {
     "name": "stdout",
     "output_type": "stream",
     "text": [
      "\n"
     ]
    },
    {
     "data": {
      "text/html": [
       "\n",
       "<style>\n",
       "    /* Turns off some styling */\n",
       "    progress {\n",
       "        /* gets rid of default border in Firefox and Opera. */\n",
       "        border: none;\n",
       "        /* Needs to be in here for Safari polyfill so background images work as expected. */\n",
       "        background-size: auto;\n",
       "    }\n",
       "    progress:not([value]), progress:not([value])::-webkit-progress-bar {\n",
       "        background: repeating-linear-gradient(45deg, #7e7e7e, #7e7e7e 10px, #5c5c5c 10px, #5c5c5c 20px);\n",
       "    }\n",
       "    .progress-bar-interrupted, .progress-bar-interrupted::-webkit-progress-bar {\n",
       "        background: #F44336;\n",
       "    }\n",
       "</style>\n"
      ],
      "text/plain": [
       "<IPython.core.display.HTML object>"
      ]
     },
     "metadata": {},
     "output_type": "display_data"
    },
    {
     "data": {
      "text/html": [
       "\n",
       "    <div>\n",
       "      <progress value='10000' class='' max='10000' style='width:300px; height:20px; vertical-align: middle;'></progress>\n",
       "      100.00% [10000/10000 00:01&lt;00:00 Average Loss = 151.32]\n",
       "    </div>\n",
       "    "
      ],
      "text/plain": [
       "<IPython.core.display.HTML object>"
      ]
     },
     "metadata": {},
     "output_type": "display_data"
    },
    {
     "name": "stderr",
     "output_type": "stream",
     "text": [
      "Finished [100%]: Average Loss = 151.32\n"
     ]
    },
    {
     "data": {
      "text/html": [
       "\n",
       "<style>\n",
       "    /* Turns off some styling */\n",
       "    progress {\n",
       "        /* gets rid of default border in Firefox and Opera. */\n",
       "        border: none;\n",
       "        /* Needs to be in here for Safari polyfill so background images work as expected. */\n",
       "        background-size: auto;\n",
       "    }\n",
       "    progress:not([value]), progress:not([value])::-webkit-progress-bar {\n",
       "        background: repeating-linear-gradient(45deg, #7e7e7e, #7e7e7e 10px, #5c5c5c 10px, #5c5c5c 20px);\n",
       "    }\n",
       "    .progress-bar-interrupted, .progress-bar-interrupted::-webkit-progress-bar {\n",
       "        background: #F44336;\n",
       "    }\n",
       "</style>\n"
      ],
      "text/plain": [
       "<IPython.core.display.HTML object>"
      ]
     },
     "metadata": {},
     "output_type": "display_data"
    },
    {
     "data": {
      "text/html": [
       "\n",
       "    <div>\n",
       "      <progress value='20000' class='' max='20000' style='width:300px; height:20px; vertical-align: middle;'></progress>\n",
       "      100.00% [20000/20000 00:16&lt;00:00 Average Loss = 191.25]\n",
       "    </div>\n",
       "    "
      ],
      "text/plain": [
       "<IPython.core.display.HTML object>"
      ]
     },
     "metadata": {},
     "output_type": "display_data"
    },
    {
     "name": "stderr",
     "output_type": "stream",
     "text": [
      "Finished [100%]: Average Loss = 191.19\n"
     ]
    }
   ],
   "source": [
    "save_model(bayesian_regression_tree_, 'bayesian_regression_tree', 'trace_bayesian')\n",
    "save_model(modelo_formula_cov_, 'modelo_formula_cov', 'trace_cov')\n",
    "save_model_nn(neural_network_, 'neural_network', 'trace_nn')"
   ]
  },
  {
   "cell_type": "code",
   "execution_count": null,
   "metadata": {},
   "outputs": [],
   "source": []
  },
  {
   "cell_type": "code",
   "execution_count": null,
   "metadata": {},
   "outputs": [],
   "source": [
    "from sklearn.metrics import roc_curve, roc_auc_score, accuracy_score, precision_score, recall_score, f1_score, confusion_matrix, classification_report\n"
   ]
  },
  {
   "cell_type": "code",
   "execution_count": null,
   "metadata": {},
   "outputs": [
    {
     "data": {
      "image/svg+xml": [
       "<?xml version=\"1.0\" encoding=\"UTF-8\" standalone=\"no\"?>\n",
       "<!DOCTYPE svg PUBLIC \"-//W3C//DTD SVG 1.1//EN\"\n",
       " \"http://www.w3.org/Graphics/SVG/1.1/DTD/svg11.dtd\">\n",
       "<!-- Generated by graphviz version 9.0.0 (0)\n",
       " -->\n",
       "<!-- Pages: 1 -->\n",
       "<svg width=\"520pt\" height=\"451pt\"\n",
       " viewBox=\"0.00 0.00 519.72 451.32\" xmlns=\"http://www.w3.org/2000/svg\" xmlns:xlink=\"http://www.w3.org/1999/xlink\">\n",
       "<g id=\"graph0\" class=\"graph\" transform=\"scale(1 1) rotate(0) translate(4 447.32)\">\n",
       "<polygon fill=\"white\" stroke=\"none\" points=\"-4,4 -4,-447.32 515.72,-447.32 515.72,4 -4,4\"/>\n",
       "<g id=\"clust3\" class=\"cluster\">\n",
       "<title>cluster112</title>\n",
       "<path fill=\"none\" stroke=\"black\" d=\"M222,-231.32C222,-231.32 304,-231.32 304,-231.32 310,-231.32 316,-237.32 316,-243.32 316,-243.32 316,-317.32 316,-317.32 316,-323.32 310,-329.32 304,-329.32 304,-329.32 222,-329.32 222,-329.32 216,-329.32 210,-323.32 210,-317.32 210,-317.32 210,-243.32 210,-243.32 210,-237.32 216,-231.32 222,-231.32\"/>\n",
       "<text text-anchor=\"middle\" x=\"297.88\" y=\"-238.52\" font-family=\"Times New Roman,serif\" font-size=\"14.00\">112</text>\n",
       "</g>\n",
       "<g id=\"clust1\" class=\"cluster\">\n",
       "<title>cluster112 x 3</title>\n",
       "<path fill=\"none\" stroke=\"black\" d=\"M20,-337.32C20,-337.32 100,-337.32 100,-337.32 106,-337.32 112,-343.32 112,-349.32 112,-349.32 112,-423.32 112,-423.32 112,-429.32 106,-435.32 100,-435.32 100,-435.32 20,-435.32 20,-435.32 14,-435.32 8,-429.32 8,-423.32 8,-423.32 8,-349.32 8,-349.32 8,-343.32 14,-337.32 20,-337.32\"/>\n",
       "<text text-anchor=\"middle\" x=\"83.38\" y=\"-344.52\" font-family=\"Times New Roman,serif\" font-size=\"14.00\">112 x 3</text>\n",
       "</g>\n",
       "<g id=\"clust2\" class=\"cluster\">\n",
       "<title>cluster446</title>\n",
       "<path fill=\"none\" stroke=\"black\" d=\"M220,-8C220,-8 306,-8 306,-8 312,-8 318,-14 318,-20 318,-20 318,-211.32 318,-211.32 318,-217.32 312,-223.32 306,-223.32 306,-223.32 220,-223.32 220,-223.32 214,-223.32 208,-217.32 208,-211.32 208,-211.32 208,-20 208,-20 208,-14 214,-8 220,-8\"/>\n",
       "<text text-anchor=\"middle\" x=\"299.88\" y=\"-15.2\" font-family=\"Times New Roman,serif\" font-size=\"14.00\">446</text>\n",
       "</g>\n",
       "<!-- input -->\n",
       "<g id=\"node1\" class=\"node\">\n",
       "<title>input</title>\n",
       "<path fill=\"lightgrey\" stroke=\"black\" d=\"M91.62,-427.32C91.62,-427.32 28.38,-427.32 28.38,-427.32 22.38,-427.32 16.38,-421.32 16.38,-415.32 16.38,-415.32 16.38,-381.82 16.38,-381.82 16.38,-375.82 22.38,-369.82 28.38,-369.82 28.38,-369.82 91.62,-369.82 91.62,-369.82 97.62,-369.82 103.62,-375.82 103.62,-381.82 103.62,-381.82 103.62,-415.32 103.62,-415.32 103.62,-421.32 97.62,-427.32 91.62,-427.32\"/>\n",
       "<text text-anchor=\"middle\" x=\"60\" y=\"-410.02\" font-family=\"Times New Roman,serif\" font-size=\"14.00\">input</text>\n",
       "<text text-anchor=\"middle\" x=\"60\" y=\"-393.52\" font-family=\"Times New Roman,serif\" font-size=\"14.00\">~</text>\n",
       "<text text-anchor=\"middle\" x=\"60\" y=\"-377.02\" font-family=\"Times New Roman,serif\" font-size=\"14.00\">MutableData</text>\n",
       "</g>\n",
       "<!-- p -->\n",
       "<g id=\"node8\" class=\"node\">\n",
       "<title>p</title>\n",
       "<polygon fill=\"none\" stroke=\"black\" points=\"308.12,-321.32 217.88,-321.32 217.88,-263.82 308.12,-263.82 308.12,-321.32\"/>\n",
       "<text text-anchor=\"middle\" x=\"263\" y=\"-304.02\" font-family=\"Times New Roman,serif\" font-size=\"14.00\">p</text>\n",
       "<text text-anchor=\"middle\" x=\"263\" y=\"-287.52\" font-family=\"Times New Roman,serif\" font-size=\"14.00\">~</text>\n",
       "<text text-anchor=\"middle\" x=\"263\" y=\"-271.02\" font-family=\"Times New Roman,serif\" font-size=\"14.00\">Deterministic</text>\n",
       "</g>\n",
       "<!-- input&#45;&gt;p -->\n",
       "<g id=\"edge2\" class=\"edge\">\n",
       "<title>input&#45;&gt;p</title>\n",
       "<path fill=\"none\" stroke=\"black\" d=\"M79.19,-369.46C88.26,-358.05 99.95,-345.62 113,-337.32 141.21,-319.37 177.03,-308.56 206.59,-302.18\"/>\n",
       "<polygon fill=\"black\" stroke=\"black\" points=\"206.99,-305.67 216.1,-300.25 205.6,-298.81 206.99,-305.67\"/>\n",
       "</g>\n",
       "<!-- observed -->\n",
       "<g id=\"node2\" class=\"node\">\n",
       "<title>observed</title>\n",
       "<path fill=\"lightgrey\" stroke=\"black\" d=\"M294.62,-98C294.62,-98 231.38,-98 231.38,-98 225.38,-98 219.38,-92 219.38,-86 219.38,-86 219.38,-52.5 219.38,-52.5 219.38,-46.5 225.38,-40.5 231.38,-40.5 231.38,-40.5 294.62,-40.5 294.62,-40.5 300.62,-40.5 306.62,-46.5 306.62,-52.5 306.62,-52.5 306.62,-86 306.62,-86 306.62,-92 300.62,-98 294.62,-98\"/>\n",
       "<text text-anchor=\"middle\" x=\"263\" y=\"-80.7\" font-family=\"Times New Roman,serif\" font-size=\"14.00\">observed</text>\n",
       "<text text-anchor=\"middle\" x=\"263\" y=\"-64.2\" font-family=\"Times New Roman,serif\" font-size=\"14.00\">~</text>\n",
       "<text text-anchor=\"middle\" x=\"263\" y=\"-47.7\" font-family=\"Times New Roman,serif\" font-size=\"14.00\">MutableData</text>\n",
       "</g>\n",
       "<!-- out -->\n",
       "<g id=\"node3\" class=\"node\">\n",
       "<title>out</title>\n",
       "<ellipse fill=\"lightgrey\" stroke=\"black\" cx=\"263\" cy=\"-174.66\" rx=\"47.38\" ry=\"40.66\"/>\n",
       "<text text-anchor=\"middle\" x=\"263\" y=\"-186.11\" font-family=\"Times New Roman,serif\" font-size=\"14.00\">out</text>\n",
       "<text text-anchor=\"middle\" x=\"263\" y=\"-169.61\" font-family=\"Times New Roman,serif\" font-size=\"14.00\">~</text>\n",
       "<text text-anchor=\"middle\" x=\"263\" y=\"-153.11\" font-family=\"Times New Roman,serif\" font-size=\"14.00\">Bernoulli</text>\n",
       "</g>\n",
       "<!-- out&#45;&gt;observed -->\n",
       "<g id=\"edge1\" class=\"edge\">\n",
       "<title>out&#45;&gt;observed</title>\n",
       "<path fill=\"none\" stroke=\"black\" d=\"M263,-133.68C263,-125.83 263,-117.6 263,-109.76\"/>\n",
       "<polygon fill=\"black\" stroke=\"black\" points=\"266.5,-109.79 263,-99.79 259.5,-109.79 266.5,-109.79\"/>\n",
       "</g>\n",
       "<!-- beta_2 -->\n",
       "<g id=\"node4\" class=\"node\">\n",
       "<title>beta_2</title>\n",
       "<ellipse fill=\"none\" stroke=\"black\" cx=\"163\" cy=\"-398.57\" rx=\"41.01\" ry=\"40.66\"/>\n",
       "<text text-anchor=\"middle\" x=\"163\" y=\"-410.02\" font-family=\"Times New Roman,serif\" font-size=\"14.00\">beta_2</text>\n",
       "<text text-anchor=\"middle\" x=\"163\" y=\"-393.52\" font-family=\"Times New Roman,serif\" font-size=\"14.00\">~</text>\n",
       "<text text-anchor=\"middle\" x=\"163\" y=\"-377.02\" font-family=\"Times New Roman,serif\" font-size=\"14.00\">Normal</text>\n",
       "</g>\n",
       "<!-- beta_2&#45;&gt;p -->\n",
       "<g id=\"edge3\" class=\"edge\">\n",
       "<title>beta_2&#45;&gt;p</title>\n",
       "<path fill=\"none\" stroke=\"black\" d=\"M187.78,-365.79C195.56,-356.35 204.37,-346.18 213,-337.32 215.54,-334.71 218.2,-332.09 220.93,-329.49\"/>\n",
       "<polygon fill=\"black\" stroke=\"black\" points=\"223.17,-332.19 228.13,-322.83 218.41,-327.05 223.17,-332.19\"/>\n",
       "</g>\n",
       "<!-- beta_1 -->\n",
       "<g id=\"node5\" class=\"node\">\n",
       "<title>beta_1</title>\n",
       "<ellipse fill=\"none\" stroke=\"black\" cx=\"263\" cy=\"-398.57\" rx=\"41.01\" ry=\"40.66\"/>\n",
       "<text text-anchor=\"middle\" x=\"263\" y=\"-410.02\" font-family=\"Times New Roman,serif\" font-size=\"14.00\">beta_1</text>\n",
       "<text text-anchor=\"middle\" x=\"263\" y=\"-393.52\" font-family=\"Times New Roman,serif\" font-size=\"14.00\">~</text>\n",
       "<text text-anchor=\"middle\" x=\"263\" y=\"-377.02\" font-family=\"Times New Roman,serif\" font-size=\"14.00\">Normal</text>\n",
       "</g>\n",
       "<!-- beta_1&#45;&gt;p -->\n",
       "<g id=\"edge6\" class=\"edge\">\n",
       "<title>beta_1&#45;&gt;p</title>\n",
       "<path fill=\"none\" stroke=\"black\" d=\"M263,-357.66C263,-349.57 263,-341.08 263,-333.01\"/>\n",
       "<polygon fill=\"black\" stroke=\"black\" points=\"266.5,-333.11 263,-323.11 259.5,-333.11 266.5,-333.11\"/>\n",
       "</g>\n",
       "<!-- beta_3 -->\n",
       "<g id=\"node6\" class=\"node\">\n",
       "<title>beta_3</title>\n",
       "<ellipse fill=\"none\" stroke=\"black\" cx=\"363\" cy=\"-398.57\" rx=\"41.01\" ry=\"40.66\"/>\n",
       "<text text-anchor=\"middle\" x=\"363\" y=\"-410.02\" font-family=\"Times New Roman,serif\" font-size=\"14.00\">beta_3</text>\n",
       "<text text-anchor=\"middle\" x=\"363\" y=\"-393.52\" font-family=\"Times New Roman,serif\" font-size=\"14.00\">~</text>\n",
       "<text text-anchor=\"middle\" x=\"363\" y=\"-377.02\" font-family=\"Times New Roman,serif\" font-size=\"14.00\">Normal</text>\n",
       "</g>\n",
       "<!-- beta_3&#45;&gt;p -->\n",
       "<g id=\"edge5\" class=\"edge\">\n",
       "<title>beta_3&#45;&gt;p</title>\n",
       "<path fill=\"none\" stroke=\"black\" d=\"M338.22,-365.79C330.44,-356.35 321.63,-346.18 313,-337.32 310.46,-334.71 307.8,-332.09 305.07,-329.49\"/>\n",
       "<polygon fill=\"black\" stroke=\"black\" points=\"307.59,-327.05 297.87,-322.83 302.83,-332.19 307.59,-327.05\"/>\n",
       "</g>\n",
       "<!-- intercept -->\n",
       "<g id=\"node7\" class=\"node\">\n",
       "<title>intercept</title>\n",
       "<ellipse fill=\"none\" stroke=\"black\" cx=\"467\" cy=\"-398.57\" rx=\"44.72\" ry=\"40.66\"/>\n",
       "<text text-anchor=\"middle\" x=\"467\" y=\"-410.02\" font-family=\"Times New Roman,serif\" font-size=\"14.00\">intercept</text>\n",
       "<text text-anchor=\"middle\" x=\"467\" y=\"-393.52\" font-family=\"Times New Roman,serif\" font-size=\"14.00\">~</text>\n",
       "<text text-anchor=\"middle\" x=\"467\" y=\"-377.02\" font-family=\"Times New Roman,serif\" font-size=\"14.00\">Normal</text>\n",
       "</g>\n",
       "<!-- intercept&#45;&gt;p -->\n",
       "<g id=\"edge4\" class=\"edge\">\n",
       "<title>intercept&#45;&gt;p</title>\n",
       "<path fill=\"none\" stroke=\"black\" d=\"M442.92,-364.17C434.42,-354.34 424.17,-344.35 413,-337.32 384.71,-319.5 348.89,-308.7 319.35,-302.29\"/>\n",
       "<polygon fill=\"black\" stroke=\"black\" points=\"320.34,-298.92 309.84,-300.34 318.94,-305.78 320.34,-298.92\"/>\n",
       "</g>\n",
       "<!-- p&#45;&gt;out -->\n",
       "<g id=\"edge7\" class=\"edge\">\n",
       "<title>p&#45;&gt;out</title>\n",
       "<path fill=\"none\" stroke=\"black\" d=\"M263,-263.51C263,-252.53 263,-239.58 263,-227.05\"/>\n",
       "<polygon fill=\"black\" stroke=\"black\" points=\"266.5,-227.24 263,-217.24 259.5,-227.24 266.5,-227.24\"/>\n",
       "</g>\n",
       "</g>\n",
       "</svg>\n"
      ],
      "text/plain": [
       "<graphviz.graphs.Digraph at 0x207a97625e0>"
      ]
     },
     "execution_count": 12,
     "metadata": {},
     "output_type": "execute_result"
    }
   ],
   "source": [
    "pm.model_to_graphviz(modelo_formula_cov)"
   ]
  },
  {
   "cell_type": "code",
   "execution_count": null,
   "metadata": {},
   "outputs": [],
   "source": [
    "from sklearn.metrics import (roc_curve, roc_auc_score, confusion_matrix, accuracy_score, f1_score, \n",
    "                             precision_recall_curve, classification_report, ConfusionMatrixDisplay) \n",
    "from sklearn.metrics import recall_score, precision_score, classification_report"
   ]
  },
  {
   "cell_type": "code",
   "execution_count": null,
   "metadata": {},
   "outputs": [
    {
     "ename": "NameError",
     "evalue": "name 'pred' is not defined",
     "output_type": "error",
     "traceback": [
      "\u001b[1;31m---------------------------------------------------------------------------\u001b[0m",
      "\u001b[1;31mNameError\u001b[0m                                 Traceback (most recent call last)",
      "Cell \u001b[1;32mIn[14], line 1\u001b[0m\n\u001b[1;32m----> 1\u001b[0m y_score \u001b[38;5;241m=\u001b[39m \u001b[43mpred\u001b[49m\n",
      "\u001b[1;31mNameError\u001b[0m: name 'pred' is not defined"
     ]
    }
   ],
   "source": [
    "y_score = pred"
   ]
  },
  {
   "cell_type": "code",
   "execution_count": null,
   "metadata": {},
   "outputs": [],
   "source": [
    "def curvas_metricas(y_test, y_score):\n",
    "    pred_scores = dict(y_true=y_test, y_score=y_score)\n",
    "    cols = ['False Positive Rate', 'True Positive Rate', 'threshold']\n",
    "    roc = pd.DataFrame(dict(zip(cols, roc_curve(**pred_scores))))\n",
    "    precision, recall, ts = precision_recall_curve(y_true=y_test, probas_pred=y_score)\n",
    "    pr_curve = pd.DataFrame({'Precision': precision, 'Recall': recall})\n",
    "    f1 = pd.Series({t: f1_score(y_true=y_test, y_pred=y_score>t) for t in ts})\n",
    "    best_threshold = f1.idxmax()\n",
    "    fig, axes = plt.subplots(ncols=3, figsize=(13, 5))\n",
    "\n",
    "    ax = sns.scatterplot(x='False Positive Rate', y='True Positive Rate', data=roc, s=50, legend=False, ax=axes[0])\n",
    "    axes[0].plot('False Positive Rate', 'True Positive Rate', data=roc, lw=1, color='k')\n",
    "    axes[0].plot(np.linspace(0,1,100), np.linspace(0,1,100), color='k', ls='--', lw=1)\n",
    "    axes[0].fill_between(y1=roc['True Positive Rate'], x=roc['False Positive Rate'], alpha=.3, color='red')\n",
    "    axes[0].set_title('Receiver Operating Characteristic')\n",
    "\n",
    "\n",
    "    sns.scatterplot(x='Recall', y='Precision', data=pr_curve, ax=axes[1])\n",
    "    axes[1].set_ylim(0,1)\n",
    "    axes[1].set_title('Precision-Recall Curve')\n",
    "\n",
    "\n",
    "    f1.plot(ax=axes[2], title='F1 Scores', ylim=(0,1))\n",
    "    axes[2].set_xlabel('Threshold')\n",
    "    axes[2].axvline(best_threshold, lw=1, ls='--', color='k')\n",
    "    #axes[2].text(text=f'Max F1 @ {best_threshold:.2f}', x=.60, y=.95, s=5)\n",
    "    fig.suptitle(f'roc_auc_score = {round(roc_auc_score(**pred_scores),2)}', fontsize=24)\n",
    "    fig.tight_layout()\n",
    "    plt.subplots_adjust(top=.8)\n",
    "    plt.show();\n",
    "\n"
   ]
  },
  {
   "cell_type": "code",
   "execution_count": null,
   "metadata": {},
   "outputs": [],
   "source": [
    "def metricas_cm(y_test, y_score):\n",
    "    recall = recall_score(y_test, y_score)\n",
    "    precision = precision_score(y_test,y_score)\n",
    "    print(f'RECALL:{recall: .3f}\\nPRECISION:{precision: .3f}')\n",
    "    confusion_matrix_ = confusion_matrix(y_test, y_score)\n",
    "    disp = ConfusionMatrixDisplay(confusion_matrix_)\n",
    "    disp.plot()\n",
    "    plt.show()\n"
   ]
  },
  {
   "cell_type": "code",
   "execution_count": null,
   "metadata": {},
   "outputs": [
    {
     "name": "stdout",
     "output_type": "stream",
     "text": [
      "RECALL: 0.946\n",
      "PRECISION: 0.883\n"
     ]
    },
    {
     "data": {
      "image/png": "[encoded data removed]",
      "text/plain": [
       "<Figure size 640x480 with 2 Axes>"
      ]
     },
     "metadata": {},
     "output_type": "display_data"
    }
   ],
   "source": [
    "\"\"\"\n",
    "TN FP\n",
    "FN TP\n",
    "\"\"\"\n",
    "metricas_cm(y_test, y_score)"
   ]
  },
  {
   "cell_type": "code",
   "execution_count": null,
   "metadata": {},
   "outputs": [
    {
     "data": {
      "text/plain": [
       "'\\nproyecto-remociones-en-masa/\\n│\\n├── data/\\n│   ├── raw/\\n│   │   ├── datos_crudos.csv\\n│   ├── processed/\\n│       ├── datos_preprocesados.csv\\n│\\n├── modelos/\\n│   ├── entrenamiento/\\n│       ├── train_model.ipynb\\n│   ├── inferencia/\\n│       ├── inferencia_modelo.ipynb\\n│\\n├── otro/\\n│   ├── utilidades.py\\n│   ├── exploracion_datos.ipynb\\n│\\n├── requirements.txt\\n├── README.md\\n├── LICENSE\\n'"
      ]
     },
     "execution_count": 19,
     "metadata": {},
     "output_type": "execute_result"
    }
   ],
   "source": [
    "\"\"\"\n",
    "proyecto-remociones-en-masa/\n",
    "│\n",
    "├── data/\n",
    "│   ├── raw/\n",
    "│   │   ├── datos_crudos.csv\n",
    "│   ├── processed/\n",
    "│       ├── datos_preprocesados.csv\n",
    "│\n",
    "├── modelos/\n",
    "│   ├── entrenamiento/\n",
    "│       ├── train_model.ipynb\n",
    "│   ├── inferencia/\n",
    "│       ├── inferencia_modelo.ipynb\n",
    "│\n",
    "├── otro/\n",
    "│   ├── utilidades.py\n",
    "│   ├── exploracion_datos.ipynb\n",
    "│\n",
    "├── requirements.txt\n",
    "├── README.md\n",
    "├── LICENSE\n",
    "\"\"\""
   ]
  }
 ],
 "metadata": {
  "kernelspec": {
   "display_name": "Python 3 (ipykernel)",
   "language": "python",
   "name": "python3"
  },
  "language_info": {
   "codemirror_mode": {
    "name": "ipython",
    "version": 3
   },
   "file_extension": ".py",
   "mimetype": "text/x-python",
   "name": "python",
   "nbconvert_exporter": "python",
   "pygments_lexer": "ipython3",
   "version": "3.9.0"
  }
 },
 "nbformat": 4,
 "nbformat_minor": 4
}
