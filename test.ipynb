{
 "cells": [
  {
   "cell_type": "code",
   "execution_count": 1,
   "metadata": {},
   "outputs": [],
   "source": [
    "import pandas as pd\n",
    "import numpy as np\n",
    "import seaborn as sns\n",
    "import arviz as az\n",
    "import pymc as pm\n",
    "import matplotlib.pyplot as plt"
   ]
  },
  {
   "cell_type": "code",
   "execution_count": 9,
   "metadata": {},
   "outputs": [],
   "source": [
    "PATH = 'data/New_DB.xlsx'\n",
    "df = pd.read_excel(PATH)\n",
    "\n",
    "columns =['slope', 'PP', 'valor_humedad_suelo1']\n",
    "X = df.loc[:,columns]\n",
    "train_size = 0.8\n",
    "df_general = X * 1\n",
    "n_df_general = X * 0.85\n",
    "df_general['output'] = 1\n",
    "n_df_general['output'] = 0\n",
    "\n",
    "df_output = pd.concat([df_general, n_df_general])\n",
    "\n",
    "X_slope_PP = df_output.drop('valor_humedad_suelo1', axis=1)\n",
    "X_slope_PP_vhs1 = df_output\n",
    "\n",
    "X_slope_PP = X_slope_PP.dropna()\n",
    "X_slope_PP_vhs1 = X_slope_PP_vhs1.dropna()\n",
    "X_slope_PP = X_slope_PP.reset_index(drop=True)\n",
    "X_slope_PP_vhs1 = X_slope_PP_vhs1.reset_index(drop=True)\n",
    "\n",
    "y_slope_PP = X_slope_PP.output\n",
    "X_slope_PP = X_slope_PP.drop(labels='output', axis=1)\n",
    "\n",
    "y_slope_PP_vhs1 = X_slope_PP_vhs1.output\n",
    "X_slope_PP_vhs1 = X_slope_PP_vhs1.drop(labels='output', axis=1)\n",
    "\n",
    "from sklearn.preprocessing import StandardScaler\n",
    "from sklearn.model_selection import train_test_split\n",
    "import pytensor\n",
    "import pytensor.tensor as pt"
   ]
  },
  {
   "cell_type": "code",
   "execution_count": 10,
   "metadata": {},
   "outputs": [],
   "source": [
    "#X_slope_PP_vhs1['valor_pp'] = X_slope_PP_vhs1['PP'] / X_slope_PP_vhs1['valor_humedad_suelo1']"
   ]
  },
  {
   "cell_type": "code",
   "execution_count": 11,
   "metadata": {},
   "outputs": [],
   "source": [
    "X_train, X_test, y_train, y_test = train_test_split(X_slope_PP_vhs1, y_slope_PP_vhs1, train_size=train_size, stratify=y_slope_PP_vhs1, random_state=42)\n",
    "sc = StandardScaler()\n",
    "floatX = pytensor.config.floatX\n",
    "X_slope_PP_vhs1 = X_slope_PP_vhs1.astype(floatX)\n",
    "y_slope_PP_vhs1 = y_slope_PP_vhs1.astype(floatX)\n",
    "X_train, X_test, y_train, y_test = train_test_split(X_slope_PP_vhs1, y_slope_PP_vhs1, train_size=train_size, stratify=y_slope_PP_vhs1, random_state=42)\n",
    "X_train = sc.fit_transform(X_train)\n",
    "X_test = sc.transform(X_test)\n",
    "\n",
    "random_seed = 12\n",
    "rng = np.random.default_rng(random_seed)"
   ]
  },
  {
   "cell_type": "code",
   "execution_count": 246,
   "metadata": {},
   "outputs": [],
   "source": [
    "def construct_nn(ann_input, ann_output):\n",
    "    n_hidden = 5\n",
    "\n",
    "    # Initialize random weights between each layer\n",
    "    init_1 = rng.standard_normal(size=(X_train.shape[1], n_hidden)).astype(floatX)\n",
    "    init_2 = rng.standard_normal(size=(n_hidden, n_hidden)).astype(floatX)\n",
    "    init_out = rng.standard_normal(size=n_hidden).astype(floatX)\n",
    "\n",
    "    coords = {\n",
    "        \"hidden_layer_1\": np.arange(n_hidden),\n",
    "        \"hidden_layer_2\": np.arange(n_hidden),\n",
    "        \"train_cols\": np.arange(X_train.shape[1]),\n",
    "        # \"obs_id\": np.arange(X_train.shape[0]),\n",
    "    }\n",
    "    with pm.Model(coords=coords) as neural_network:\n",
    "        ann_input = pm.Data(\"ann_input\", X_train, mutable=True, dims=(\"obs_id\", \"train_cols\"))\n",
    "        ann_output = pm.Data(\"ann_output\", y_train, mutable=True, dims=\"obs_id\")\n",
    "\n",
    "        # Weights from input to hidden layer\n",
    "        weights_in_1 = pm.Normal(\n",
    "            \"w_in_1\", 0, sigma=1, initval=init_1, dims=(\"train_cols\", \"hidden_layer_1\")\n",
    "        )\n",
    "\n",
    "        # Weights from 1st to 2nd layer\n",
    "        weights_1_2 = pm.Normal(\n",
    "            \"w_1_2\", 0, sigma=1, initval=init_2, dims=(\"hidden_layer_1\", \"hidden_layer_2\")\n",
    "        )\n",
    "\n",
    "        # Weights from hidden layer to output\n",
    "        weights_2_out = pm.Normal(\"w_2_out\", 0, sigma=1, initval=init_out, dims=\"hidden_layer_2\")\n",
    "\n",
    "        # Build neural-network using tanh activation function\n",
    "        act_1 = pm.math.tanh(pm.math.dot(ann_input, weights_in_1))\n",
    "        act_2 = pm.math.tanh(pm.math.dot(act_1, weights_1_2))\n",
    "        act_out = pm.math.sigmoid(pm.math.dot(act_2, weights_2_out))\n",
    "\n",
    "        # Binary classification -> Bernoulli likelihood\n",
    "        out = pm.Bernoulli(\n",
    "            \"out\",\n",
    "            act_out,\n",
    "            observed=ann_output,\n",
    "            total_size=y_train.shape[0],  # IMPORTANT for minibatches\n",
    "            dims=\"obs_id\",\n",
    "        )\n",
    "    return neural_network\n",
    "\n",
    "\n",
    "neural_network = construct_nn(X_train, y_train)"
   ]
  },
  {
   "cell_type": "code",
   "execution_count": 247,
   "metadata": {},
   "outputs": [
    {
     "data": {
      "text/html": [
       "\n",
       "<style>\n",
       "    /* Turns off some styling */\n",
       "    progress {\n",
       "        /* gets rid of default border in Firefox and Opera. */\n",
       "        border: none;\n",
       "        /* Needs to be in here for Safari polyfill so background images work as expected. */\n",
       "        background-size: auto;\n",
       "    }\n",
       "    progress:not([value]), progress:not([value])::-webkit-progress-bar {\n",
       "        background: repeating-linear-gradient(45deg, #7e7e7e, #7e7e7e 10px, #5c5c5c 10px, #5c5c5c 20px);\n",
       "    }\n",
       "    .progress-bar-interrupted, .progress-bar-interrupted::-webkit-progress-bar {\n",
       "        background: #F44336;\n",
       "    }\n",
       "</style>\n"
      ],
      "text/plain": [
       "<IPython.core.display.HTML object>"
      ]
     },
     "metadata": {},
     "output_type": "display_data"
    },
    {
     "data": {
      "text/html": [
       "\n",
       "    <div>\n",
       "      <progress value='3320' class='' max='30000' style='width:300px; height:20px; vertical-align: middle;'></progress>\n",
       "      11.07% [3320/30000 00:03&lt;00:24 Average Loss = 339.57]\n",
       "    </div>\n",
       "    "
      ],
      "text/plain": [
       "<IPython.core.display.HTML object>"
      ]
     },
     "metadata": {},
     "output_type": "display_data"
    },
    {
     "name": "stderr",
     "output_type": "stream",
     "text": [
      "Interrupted at 3,498 [11%]: Average Loss = 362.64\n"
     ]
    },
    {
     "name": "stdout",
     "output_type": "stream",
     "text": [
      "CPU times: total: 20.1 s\n",
      "Wall time: 5.1 s\n"
     ]
    }
   ],
   "source": [
    "%%time\n",
    "with neural_network:\n",
    "    approx = pm.fit(n=30_000)"
   ]
  },
  {
   "cell_type": "code",
   "execution_count": null,
   "metadata": {},
   "outputs": [
    {
     "name": "stderr",
     "output_type": "stream",
     "text": [
      "Sampling: [out]\n"
     ]
    },
    {
     "data": {
      "text/html": [
       "\n",
       "<style>\n",
       "    /* Turns off some styling */\n",
       "    progress {\n",
       "        /* gets rid of default border in Firefox and Opera. */\n",
       "        border: none;\n",
       "        /* Needs to be in here for Safari polyfill so background images work as expected. */\n",
       "        background-size: auto;\n",
       "    }\n",
       "    progress:not([value]), progress:not([value])::-webkit-progress-bar {\n",
       "        background: repeating-linear-gradient(45deg, #7e7e7e, #7e7e7e 10px, #5c5c5c 10px, #5c5c5c 20px);\n",
       "    }\n",
       "    .progress-bar-interrupted, .progress-bar-interrupted::-webkit-progress-bar {\n",
       "        background: #F44336;\n",
       "    }\n",
       "</style>\n"
      ],
      "text/plain": [
       "<IPython.core.display.HTML object>"
      ]
     },
     "metadata": {},
     "output_type": "display_data"
    },
    {
     "data": {
      "text/html": [
       "\n",
       "    <div>\n",
       "      <progress value='5000' class='' max='5000' style='width:300px; height:20px; vertical-align: middle;'></progress>\n",
       "      100.00% [5000/5000 00:01&lt;00:00]\n",
       "    </div>\n",
       "    "
      ],
      "text/plain": [
       "<IPython.core.display.HTML object>"
      ]
     },
     "metadata": {},
     "output_type": "display_data"
    },
    {
     "name": "stdout",
     "output_type": "stream",
     "text": [
      "Accuracy = 91.96428571428571%\n"
     ]
    }
   ],
   "source": [
    "trace = approx.sample(draws=5000)\n",
    "with neural_network:\n",
    "    pm.set_data(new_data={\"ann_input\": X_test})\n",
    "    ppc = pm.sample_posterior_predictive(trace)\n",
    "    trace.extend(ppc)\n",
    "\n",
    "pred = ppc.posterior_predictive[\"out\"].mean((\"chain\", \"draw\")) > 0.50\n",
    "print(f\"Accuracy = {(y_test == pred.values).mean() * 100}%\")"
   ]
  },
  {
   "cell_type": "code",
   "execution_count": null,
   "metadata": {},
   "outputs": [],
   "source": [
    "from sklearn.metrics import roc_curve, roc_auc_score, accuracy_score, precision_score, recall_score, f1_score, confusion_matrix, classification_report\n"
   ]
  },
  {
   "cell_type": "code",
   "execution_count": null,
   "metadata": {},
   "outputs": [
    {
     "data": {
      "text/plain": [
       "\"X_train, X_test, y_train, y_test = train_test_split(X_slope_PP_vhs1, y_slope_PP_vhs1, train_size=train_size, stratify=y_slope_PP_vhs1, random_state=random_seed)\\n\\nslope_mean = X_train['slope'].mean()\\nslope_std = X_train['slope'].std()\\n\\nPP_mean = X_train['PP'].mean()\\nPP_std = X_train['PP'].std()\\n\\nvhs1_mean = X_train['valor_humedad_suelo1'].mean()\\nvhs1_std = X_train['valor_humedad_suelo1'].std()\\n\\nX_train['slope'] = (X_train['slope'] - slope_mean) / slope_std\\nX_test['slope'] = (X_test['slope'] - slope_mean) / slope_std\\n\\nX_train['PP'] = (X_train['PP'] - PP_mean) / PP_std\\nX_test['PP'] = (X_test['PP'] - PP_mean) / PP_std\\n\\nX_train['valor_humedad_suelo1'] = (X_train['valor_humedad_suelo1'] - vhs1_mean) / vhs1_std\\nX_test['valor_humedad_suelo1'] = (X_test['valor_humedad_suelo1'] - vhs1_mean) / vhs1_std\\n\""
      ]
     },
     "execution_count": 229,
     "metadata": {},
     "output_type": "execute_result"
    }
   ],
   "source": [
    "\"\"\"X_train, X_test, y_train, y_test = train_test_split(X_slope_PP_vhs1, y_slope_PP_vhs1, train_size=train_size, stratify=y_slope_PP_vhs1, random_state=random_seed)\n",
    "\n",
    "slope_mean = X_train['slope'].mean()\n",
    "slope_std = X_train['slope'].std()\n",
    "\n",
    "PP_mean = X_train['PP'].mean()\n",
    "PP_std = X_train['PP'].std()\n",
    "\n",
    "vhs1_mean = X_train['valor_humedad_suelo1'].mean()\n",
    "vhs1_std = X_train['valor_humedad_suelo1'].std()\n",
    "\n",
    "X_train['slope'] = (X_train['slope'] - slope_mean) / slope_std\n",
    "X_test['slope'] = (X_test['slope'] - slope_mean) / slope_std\n",
    "\n",
    "X_train['PP'] = (X_train['PP'] - PP_mean) / PP_std\n",
    "X_test['PP'] = (X_test['PP'] - PP_mean) / PP_std\n",
    "\n",
    "X_train['valor_humedad_suelo1'] = (X_train['valor_humedad_suelo1'] - vhs1_mean) / vhs1_std\n",
    "X_test['valor_humedad_suelo1'] = (X_test['valor_humedad_suelo1'] - vhs1_mean) / vhs1_std\n",
    "\"\"\""
   ]
  },
  {
   "cell_type": "code",
   "execution_count": null,
   "metadata": {},
   "outputs": [
    {
     "data": {
      "text/plain": [
       "\"from sklearn.neighbors import KNeighborsClassifier\\n\\nknn_model = KNeighborsClassifier(n_neighbors=5)\\nknn_model.fit(X_train, y_train)\\n\\ndef augment_data_with_knn(data, model, num_neighbors=5, num_augmentations=2):\\n    augmented_data = []\\n\\n    for _, row in data.iterrows():\\n        features = row[['slope', 'PP', 'valor_humedad_suelo1', 'valor_pp']].values.reshape(1, -1)\\n        neighbors = model.kneighbors(features, n_neighbors=num_neighbors, return_distance=False)[0]\\n\\n        for _ in range(num_augmentations):\\n            # Selecciona aleatoriamente uno de los vecinos más cercanos\\n            neighbor_index = np.random.choice(neighbors)\\n            augmented_row = X_train.iloc[neighbor_index].to_dict()\\n            augmented_row['output'] = y_train.iloc[neighbor_index]\\n            augmented_data.append(augmented_row)\\n\\n    return pd.DataFrame(augmented_data)\\n\\naugemented_df = augment_data_with_knn(X_test, knn_model, num_neighbors=5)\\n\\naugemented_df.head() , len(augemented_df)\""
      ]
     },
     "execution_count": 230,
     "metadata": {},
     "output_type": "execute_result"
    }
   ],
   "source": [
    "\"\"\"from sklearn.neighbors import KNeighborsClassifier\n",
    "\n",
    "knn_model = KNeighborsClassifier(n_neighbors=5)\n",
    "knn_model.fit(X_train, y_train)\n",
    "\n",
    "def augment_data_with_knn(data, model, num_neighbors=5, num_augmentations=2):\n",
    "    augmented_data = []\n",
    "\n",
    "    for _, row in data.iterrows():\n",
    "        features = row[['slope', 'PP', 'valor_humedad_suelo1', 'valor_pp']].values.reshape(1, -1)\n",
    "        neighbors = model.kneighbors(features, n_neighbors=num_neighbors, return_distance=False)[0]\n",
    "\n",
    "        for _ in range(num_augmentations):\n",
    "            # Selecciona aleatoriamente uno de los vecinos más cercanos\n",
    "            neighbor_index = np.random.choice(neighbors)\n",
    "            augmented_row = X_train.iloc[neighbor_index].to_dict()\n",
    "            augmented_row['output'] = y_train.iloc[neighbor_index]\n",
    "            augmented_data.append(augmented_row)\n",
    "\n",
    "    return pd.DataFrame(augmented_data)\n",
    "\n",
    "augemented_df = augment_data_with_knn(X_test, knn_model, num_neighbors=5)\n",
    "\n",
    "augemented_df.head() , len(augemented_df)\"\"\""
   ]
  },
  {
   "cell_type": "code",
   "execution_count": null,
   "metadata": {},
   "outputs": [
    {
     "data": {
      "text/plain": [
       "\"y_train = pd.concat([y_train, augemented_df.output])\\nX_train = pd.concat([X_train, augemented_df.drop(labels='output', axis=1)])\\nX_train.shape, X_test.shape\\nsc = StandardScaler()\\nX_train = sc.fit_transform(X_train)\\nX_test = sc.transform(X_test)\""
      ]
     },
     "execution_count": 231,
     "metadata": {},
     "output_type": "execute_result"
    }
   ],
   "source": [
    "\"\"\"y_train = pd.concat([y_train, augemented_df.output])\n",
    "X_train = pd.concat([X_train, augemented_df.drop(labels='output', axis=1)])\n",
    "X_train.shape, X_test.shape\n",
    "sc = StandardScaler()\n",
    "X_train = sc.fit_transform(X_train)\n",
    "X_test = sc.transform(X_test)\"\"\""
   ]
  },
  {
   "cell_type": "code",
   "execution_count": null,
   "metadata": {},
   "outputs": [
    {
     "data": {
      "text/html": [
       "\n",
       "<style>\n",
       "    /* Turns off some styling */\n",
       "    progress {\n",
       "        /* gets rid of default border in Firefox and Opera. */\n",
       "        border: none;\n",
       "        /* Needs to be in here for Safari polyfill so background images work as expected. */\n",
       "        background-size: auto;\n",
       "    }\n",
       "    progress:not([value]), progress:not([value])::-webkit-progress-bar {\n",
       "        background: repeating-linear-gradient(45deg, #7e7e7e, #7e7e7e 10px, #5c5c5c 10px, #5c5c5c 20px);\n",
       "    }\n",
       "    .progress-bar-interrupted, .progress-bar-interrupted::-webkit-progress-bar {\n",
       "        background: #F44336;\n",
       "    }\n",
       "</style>\n"
      ],
      "text/plain": [
       "<IPython.core.display.HTML object>"
      ]
     },
     "metadata": {},
     "output_type": "display_data"
    },
    {
     "data": {
      "text/html": [
       "\n",
       "    <div>\n",
       "      <progress value='30000' class='' max='30000' style='width:300px; height:20px; vertical-align: middle;'></progress>\n",
       "      100.00% [30000/30000 00:26&lt;00:00 Average Loss = 183.27]\n",
       "    </div>\n",
       "    "
      ],
      "text/plain": [
       "<IPython.core.display.HTML object>"
      ]
     },
     "metadata": {},
     "output_type": "display_data"
    },
    {
     "name": "stderr",
     "output_type": "stream",
     "text": [
      "Finished [100%]: Average Loss = 183.32\n",
      "Sampling: [out]\n"
     ]
    },
    {
     "data": {
      "text/html": [
       "\n",
       "<style>\n",
       "    /* Turns off some styling */\n",
       "    progress {\n",
       "        /* gets rid of default border in Firefox and Opera. */\n",
       "        border: none;\n",
       "        /* Needs to be in here for Safari polyfill so background images work as expected. */\n",
       "        background-size: auto;\n",
       "    }\n",
       "    progress:not([value]), progress:not([value])::-webkit-progress-bar {\n",
       "        background: repeating-linear-gradient(45deg, #7e7e7e, #7e7e7e 10px, #5c5c5c 10px, #5c5c5c 20px);\n",
       "    }\n",
       "    .progress-bar-interrupted, .progress-bar-interrupted::-webkit-progress-bar {\n",
       "        background: #F44336;\n",
       "    }\n",
       "</style>\n"
      ],
      "text/plain": [
       "<IPython.core.display.HTML object>"
      ]
     },
     "metadata": {},
     "output_type": "display_data"
    },
    {
     "data": {
      "text/html": [
       "\n",
       "    <div>\n",
       "      <progress value='5000' class='' max='5000' style='width:300px; height:20px; vertical-align: middle;'></progress>\n",
       "      100.00% [5000/5000 00:01&lt;00:00]\n",
       "    </div>\n",
       "    "
      ],
      "text/plain": [
       "<IPython.core.display.HTML object>"
      ]
     },
     "metadata": {},
     "output_type": "display_data"
    },
    {
     "name": "stdout",
     "output_type": "stream",
     "text": [
      "Accuracy = 91.07142857142857%\n"
     ]
    }
   ],
   "source": [
    "neural_network = construct_nn(X_train, y_train)\n",
    "with neural_network:\n",
    "    approx = pm.fit(n=30_000)\n",
    "\n",
    "trace = approx.sample(draws=5000)\n",
    "with neural_network:\n",
    "    pm.set_data(new_data={\"ann_input\": X_test})\n",
    "    ppc = pm.sample_posterior_predictive(trace)\n",
    "    trace.extend(ppc)\n",
    "\n",
    "pred = ppc.posterior_predictive[\"out\"].mean((\"chain\", \"draw\")) > 0.50\n",
    "print(f\"Accuracy = {(y_test == pred.values).mean() * 100}%\")"
   ]
  },
  {
   "cell_type": "code",
   "execution_count": 18,
   "metadata": {},
   "outputs": [],
   "source": [
    "def bayesian_regression_tree(input, output):\n",
    "    coords = {\n",
    "        'train_cols': np.arange(X_train.shape[1]),\n",
    "        #'obs_id': np.arange(X_train.shape[0])\n",
    "    }\n",
    "    with pm.Model(coords=coords) as model:\n",
    "        input = pm.Data('input', X_train, mutable=True, dims=('obs_id','train_cols'))\n",
    "        observed = pm.Data('observed', y_train, mutable=True, dims='dims_id')\n",
    "        intercept = pm.Normal('intercept', mu = 0, sigma = 10) #5\n",
    "        beta = pm.Normal('beta',mu=0, sigma=5)\n",
    "        beta2 = pm.Normal('beta2', mu=0, sigma=5)\n",
    "        beta3 = pm.Normal('beta3', mu = 0, sigma=5)\n",
    "        alpha = pm.Normal('alpha', mu = 0, sigma=0.1)\n",
    "        alpha2 = pm.Normal('alpha2', mu = 0, sigma = 0.1) #0.1\n",
    "        alpha3 = pm.Normal('alpha3', mu = 0, sigma=1)\n",
    "        alpha4 = pm.Normal('alpha4', mu = 0, sigma = 0.1) #0.1\n",
    "        alpha5 = pm.Normal('alpha5', mu = 0 , sigma = 1) #1\n",
    "        alpha6 = pm.Normal('alpha6', mu = 0 , sigma = 1) #1\n",
    "        p = pm.Deterministic(\n",
    "            'p', \n",
    "            pm.math.invlogit(\n",
    "                intercept + input[:,0]*beta + input[:,1]*beta2 + input[:,2]*beta3 + \n",
    "                (input[:,1]**2)*alpha**2 + (input[:,2]**2)*alpha2**2 + (input[:,0]**2)*alpha3**2 + \n",
    "                (input[:,1]**3)*alpha4**3 + (input[:,2]**3)*alpha5**3 + (input[:,0]**3)*alpha6**3))\n",
    "        final = pm.Bernoulli('out',p , observed = observed, dims='obs_id')\n",
    "        \n",
    "    return model\n",
    "\n",
    "bayesian_regression_tree = bayesian_regression_tree(X_train, y_train)"
   ]
  },
  {
   "cell_type": "code",
   "execution_count": 19,
   "metadata": {},
   "outputs": [
    {
     "data": {
      "text/html": [
       "\n",
       "<style>\n",
       "    /* Turns off some styling */\n",
       "    progress {\n",
       "        /* gets rid of default border in Firefox and Opera. */\n",
       "        border: none;\n",
       "        /* Needs to be in here for Safari polyfill so background images work as expected. */\n",
       "        background-size: auto;\n",
       "    }\n",
       "    progress:not([value]), progress:not([value])::-webkit-progress-bar {\n",
       "        background: repeating-linear-gradient(45deg, #7e7e7e, #7e7e7e 10px, #5c5c5c 10px, #5c5c5c 20px);\n",
       "    }\n",
       "    .progress-bar-interrupted, .progress-bar-interrupted::-webkit-progress-bar {\n",
       "        background: #F44336;\n",
       "    }\n",
       "</style>\n"
      ],
      "text/plain": [
       "<IPython.core.display.HTML object>"
      ]
     },
     "metadata": {},
     "output_type": "display_data"
    },
    {
     "data": {
      "text/html": [
       "\n",
       "    <div>\n",
       "      <progress value='9' class='' max='9' style='width:300px; height:20px; vertical-align: middle;'></progress>\n",
       "      100.00% [9/9 00:00&lt;00:00 logp = -318.56, ||grad|| = 145.9]\n",
       "    </div>\n",
       "    "
      ],
      "text/plain": [
       "<IPython.core.display.HTML object>"
      ]
     },
     "metadata": {},
     "output_type": "display_data"
    },
    {
     "name": "stdout",
     "output_type": "stream",
     "text": [
      "\n"
     ]
    },
    {
     "name": "stderr",
     "output_type": "stream",
     "text": [
      "C:\\Users\\Manuel\\AppData\\Local\\Temp\\ipykernel_14996\\2638288232.py:6: FutureWarning: The `start` kwarg was renamed to `initvals` and can now do more. Please check the docstring.\n",
      "  trace = pm.sample(draws=5000, step = step, start = start)# nuts_sampler_kwargs={'hess_inv': hessian_inv})\n",
      "Multiprocess sampling (4 chains in 4 jobs)\n",
      "CompoundStep\n",
      ">Metropolis: [intercept]\n",
      ">Metropolis: [beta]\n",
      ">Metropolis: [beta2]\n",
      ">Metropolis: [beta3]\n",
      ">Metropolis: [alpha]\n",
      ">Metropolis: [alpha2]\n",
      ">Metropolis: [alpha3]\n",
      ">Metropolis: [alpha4]\n",
      ">Metropolis: [alpha5]\n",
      ">Metropolis: [alpha6]\n"
     ]
    },
    {
     "data": {
      "text/html": [
       "\n",
       "<style>\n",
       "    /* Turns off some styling */\n",
       "    progress {\n",
       "        /* gets rid of default border in Firefox and Opera. */\n",
       "        border: none;\n",
       "        /* Needs to be in here for Safari polyfill so background images work as expected. */\n",
       "        background-size: auto;\n",
       "    }\n",
       "    progress:not([value]), progress:not([value])::-webkit-progress-bar {\n",
       "        background: repeating-linear-gradient(45deg, #7e7e7e, #7e7e7e 10px, #5c5c5c 10px, #5c5c5c 20px);\n",
       "    }\n",
       "    .progress-bar-interrupted, .progress-bar-interrupted::-webkit-progress-bar {\n",
       "        background: #F44336;\n",
       "    }\n",
       "</style>\n"
      ],
      "text/plain": [
       "<IPython.core.display.HTML object>"
      ]
     },
     "metadata": {},
     "output_type": "display_data"
    },
    {
     "data": {
      "text/html": [
       "\n",
       "    <div>\n",
       "      <progress value='24000' class='' max='24000' style='width:300px; height:20px; vertical-align: middle;'></progress>\n",
       "      100.00% [24000/24000 00:33&lt;00:00 Sampling 4 chains, 0 divergences]\n",
       "    </div>\n",
       "    "
      ],
      "text/plain": [
       "<IPython.core.display.HTML object>"
      ]
     },
     "metadata": {},
     "output_type": "display_data"
    },
    {
     "name": "stderr",
     "output_type": "stream",
     "text": [
      "Sampling 4 chains for 1_000 tune and 5_000 draw iterations (4_000 + 20_000 draws total) took 49 seconds.\n",
      "Sampling: []\n"
     ]
    },
    {
     "data": {
      "text/html": [
       "\n",
       "<style>\n",
       "    /* Turns off some styling */\n",
       "    progress {\n",
       "        /* gets rid of default border in Firefox and Opera. */\n",
       "        border: none;\n",
       "        /* Needs to be in here for Safari polyfill so background images work as expected. */\n",
       "        background-size: auto;\n",
       "    }\n",
       "    progress:not([value]), progress:not([value])::-webkit-progress-bar {\n",
       "        background: repeating-linear-gradient(45deg, #7e7e7e, #7e7e7e 10px, #5c5c5c 10px, #5c5c5c 20px);\n",
       "    }\n",
       "    .progress-bar-interrupted, .progress-bar-interrupted::-webkit-progress-bar {\n",
       "        background: #F44336;\n",
       "    }\n",
       "</style>\n"
      ],
      "text/plain": [
       "<IPython.core.display.HTML object>"
      ]
     },
     "metadata": {},
     "output_type": "display_data"
    },
    {
     "data": {
      "text/html": [
       "\n",
       "    <div>\n",
       "      <progress value='20000' class='' max='20000' style='width:300px; height:20px; vertical-align: middle;'></progress>\n",
       "      100.00% [20000/20000 00:02&lt;00:00]\n",
       "    </div>\n",
       "    "
      ],
      "text/plain": [
       "<IPython.core.display.HTML object>"
      ]
     },
     "metadata": {},
     "output_type": "display_data"
    },
    {
     "name": "stdout",
     "output_type": "stream",
     "text": [
      "Accuracy = 88.39285714285714%\n"
     ]
    }
   ],
   "source": [
    "with bayesian_regression_tree:\n",
    "    start = pm.find_MAP()\n",
    "    #hessian_inv = np.linalg.inv(pm.find_hessian(start, model=bayesian_regression_tree))\n",
    "    #approx = pm.fit(n=10_000, start=start)\n",
    "    step = pm.Metropolis()\n",
    "    trace = pm.sample(draws=5000, step = step, start = start)# nuts_sampler_kwargs={'hess_inv': hessian_inv})\n",
    "\n",
    "with bayesian_regression_tree:\n",
    "    pm.set_data(new_data={\"input\": X_test})\n",
    "    ppc = pm.sample_posterior_predictive(trace, var_names=['p'], return_inferencedata=True, predictions=True, extend_inferencedata=True)\n",
    "    trace.extend(ppc)\n",
    "#pred = ppc.posterior_predictive[\"out\"].mean((\"chain\", \"draw\")) > 0.50\n",
    "#print(f\"Accuracy = {(y_test == pred.values).mean() * 100}%\")\n",
    "pred = ppc.predictions['p'].mean(('chain', 'draw')) > 0.5\n",
    "print(f\"Accuracy = {(y_test == pred.values).mean() * 100}%\")"
   ]
  },
  {
   "cell_type": "code",
   "execution_count": null,
   "metadata": {},
   "outputs": [],
   "source": []
  }
 ],
 "metadata": {
  "kernelspec": {
   "display_name": "fjerez_mlabbe",
   "language": "python",
   "name": "python3"
  },
  "language_info": {
   "codemirror_mode": {
    "name": "ipython",
    "version": 3
   },
   "file_extension": ".py",
   "mimetype": "text/x-python",
   "name": "python",
   "nbconvert_exporter": "python",
   "pygments_lexer": "ipython3",
   "version": "3.9.0"
  }
 },
 "nbformat": 4,
 "nbformat_minor": 2
}
