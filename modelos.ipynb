{
 "cells": [
  {
   "cell_type": "code",
   "execution_count": 1,
   "metadata": {},
   "outputs": [
    {
     "name": "stderr",
     "output_type": "stream",
     "text": [
      "WARNING (pytensor.configdefaults): g++ not available, if using conda: `conda install m2w64-toolchain`\n",
      "WARNING (pytensor.configdefaults): g++ not detected!  PyTensor will be unable to compile C-implementations and will default to Python. Performance may be severely degraded. To remove this warning, set PyTensor flags cxx to an empty string.\n",
      "WARNING (pytensor.tensor.blas): Using NumPy C-API based implementation for BLAS functions.\n"
     ]
    }
   ],
   "source": [
    "import pandas as pd\n",
    "import numpy as np\n",
    "import seaborn as sns\n",
    "import arviz as az\n",
    "import pymc as pm\n",
    "import matplotlib.pyplot as plt"
   ]
  },
  {
   "cell_type": "code",
   "execution_count": 2,
   "metadata": {},
   "outputs": [],
   "source": [
    "PATH = 'data/New_DB.xlsx'\n",
    "df = pd.read_excel(PATH)"
   ]
  },
  {
   "cell_type": "code",
   "execution_count": 3,
   "metadata": {},
   "outputs": [],
   "source": [
    "columns =['slope', 'PP', 'valor_humedad_suelo1']\n",
    "X = df.loc[:,columns]"
   ]
  },
  {
   "cell_type": "code",
   "execution_count": 4,
   "metadata": {},
   "outputs": [],
   "source": [
    "df_general = X\n",
    "n_df_general = X * 0.9\n",
    "df_general['output'] = 1\n",
    "n_df_general['output'] = 0\n",
    "\n",
    "df_output = pd.concat([df_general, n_df_general])"
   ]
  },
  {
   "cell_type": "code",
   "execution_count": 5,
   "metadata": {},
   "outputs": [
    {
     "data": {
      "text/plain": [
       "slope                     2\n",
       "PP                        0\n",
       "valor_humedad_suelo1    276\n",
       "output                    0\n",
       "dtype: int64"
      ]
     },
     "execution_count": 5,
     "metadata": {},
     "output_type": "execute_result"
    }
   ],
   "source": [
    "df_output.isnull().sum()"
   ]
  },
  {
   "cell_type": "code",
   "execution_count": 6,
   "metadata": {},
   "outputs": [],
   "source": [
    "X_slope_PP = df_output.drop('valor_humedad_suelo1', axis=1)\n",
    "X_slope_PP_vhs1 = df_output"
   ]
  },
  {
   "cell_type": "code",
   "execution_count": 7,
   "metadata": {},
   "outputs": [],
   "source": [
    "X_slope_PP = X_slope_PP.dropna()\n",
    "X_slope_PP_vhs1 = X_slope_PP_vhs1.dropna()\n",
    "X_slope_PP = X_slope_PP.reset_index(drop=True)\n",
    "X_slope_PP_vhs1 = X_slope_PP_vhs1.reset_index(drop=True)"
   ]
  },
  {
   "cell_type": "code",
   "execution_count": 8,
   "metadata": {},
   "outputs": [
    {
     "data": {
      "text/plain": [
       "((832, 3), (558, 4))"
      ]
     },
     "execution_count": 8,
     "metadata": {},
     "output_type": "execute_result"
    }
   ],
   "source": [
    "X_slope_PP.shape, X_slope_PP_vhs1.shape"
   ]
  },
  {
   "cell_type": "code",
   "execution_count": 9,
   "metadata": {},
   "outputs": [],
   "source": [
    "y_slope_PP = X_slope_PP.output\n",
    "X_slope_PP = X_slope_PP.drop(labels='output', axis=1)\n",
    "\n",
    "y_slope_PP_vhs1 = X_slope_PP_vhs1.output\n",
    "X_slope_PP_vhs1 = X_slope_PP_vhs1.drop(labels='output', axis=1)"
   ]
  },
  {
   "cell_type": "code",
   "execution_count": 10,
   "metadata": {},
   "outputs": [],
   "source": [
    "from sklearn.preprocessing import StandardScaler\n",
    "from sklearn.model_selection import train_test_split\n",
    "import pytensor\n",
    "import pytensor.tensor as pt\n",
    "# TODO:\n",
    "#   Separar el train con y sin vhs y definir correctamente nombre de variables\n",
    "#   Intentar formato floatX de la forma:\n",
    "#                                       floatX = pytensor.config.floatX\n",
    "#                                       \"X.astype(floatX)\"\n",
    "sc = StandardScaler()\n",
    "floatX = pytensor.config.floatX\n",
    "X_slope_PP_vhs1 = X_slope_PP_vhs1.astype(floatX)\n",
    "y_slope_PP_vhs1 = y_slope_PP_vhs1.astype(floatX)\n",
    "X_train, X_test, y_train, y_test = train_test_split(X_slope_PP_vhs1, y_slope_PP_vhs1, train_size=0.7, stratify=y_slope_PP_vhs1, random_state=42)\n",
    "X_train = sc.fit_transform(X_train)\n",
    "X_test = sc.transform(X_test)"
   ]
  },
  {
   "cell_type": "code",
   "execution_count": 11,
   "metadata": {},
   "outputs": [],
   "source": [
    "random_seed = 12\n",
    "rng = np.random.default_rng(random_seed)"
   ]
  },
  {
   "cell_type": "code",
   "execution_count": 12,
   "metadata": {},
   "outputs": [],
   "source": [
    "def construct_nn(ann_input, ann_output):\n",
    "    n_hidden = 5\n",
    "\n",
    "    # Initialize random weights between each layer\n",
    "    init_1 = rng.standard_normal(size=(X_train.shape[1], n_hidden)).astype(floatX)\n",
    "    init_2 = rng.standard_normal(size=(n_hidden, n_hidden)).astype(floatX)\n",
    "    init_out = rng.standard_normal(size=n_hidden).astype(floatX)\n",
    "\n",
    "    coords = {\n",
    "        \"hidden_layer_1\": np.arange(n_hidden),\n",
    "        \"hidden_layer_2\": np.arange(n_hidden),\n",
    "        \"train_cols\": np.arange(X_train.shape[1]),\n",
    "        # \"obs_id\": np.arange(X_train.shape[0]),\n",
    "    }\n",
    "    with pm.Model(coords=coords) as neural_network:\n",
    "        ann_input = pm.Data(\"ann_input\", X_train, mutable=True, dims=(\"obs_id\", \"train_cols\"))\n",
    "        ann_output = pm.Data(\"ann_output\", y_train, mutable=True, dims=\"obs_id\")\n",
    "\n",
    "        # Weights from input to hidden layer\n",
    "        weights_in_1 = pm.Normal(\n",
    "            \"w_in_1\", 0, sigma=1, initval=init_1, dims=(\"train_cols\", \"hidden_layer_1\")\n",
    "        )\n",
    "\n",
    "        # Weights from 1st to 2nd layer\n",
    "        weights_1_2 = pm.Normal(\n",
    "            \"w_1_2\", 0, sigma=1, initval=init_2, dims=(\"hidden_layer_1\", \"hidden_layer_2\")\n",
    "        )\n",
    "\n",
    "        # Weights from hidden layer to output\n",
    "        weights_2_out = pm.Normal(\"w_2_out\", 0, sigma=1, initval=init_out, dims=\"hidden_layer_2\")\n",
    "\n",
    "        # Build neural-network using tanh activation function\n",
    "        act_1 = pm.math.tanh(pm.math.dot(ann_input, weights_in_1))\n",
    "        act_2 = pm.math.tanh(pm.math.dot(act_1, weights_1_2))\n",
    "        act_out = pm.math.sigmoid(pm.math.dot(act_2, weights_2_out))\n",
    "\n",
    "        # Binary classification -> Bernoulli likelihood\n",
    "        out = pm.Bernoulli(\n",
    "            \"out\",\n",
    "            act_out,\n",
    "            observed=ann_output,\n",
    "            total_size=y_train.shape[0],  # IMPORTANT for minibatches\n",
    "            dims=\"obs_id\",\n",
    "        )\n",
    "    return neural_network\n",
    "\n",
    "\n",
    "neural_network = construct_nn(X_train, y_train)"
   ]
  },
  {
   "cell_type": "code",
   "execution_count": 13,
   "metadata": {},
   "outputs": [
    {
     "data": {
      "text/html": [
       "\n",
       "<style>\n",
       "    /* Turns off some styling */\n",
       "    progress {\n",
       "        /* gets rid of default border in Firefox and Opera. */\n",
       "        border: none;\n",
       "        /* Needs to be in here for Safari polyfill so background images work as expected. */\n",
       "        background-size: auto;\n",
       "    }\n",
       "    progress:not([value]), progress:not([value])::-webkit-progress-bar {\n",
       "        background: repeating-linear-gradient(45deg, #7e7e7e, #7e7e7e 10px, #5c5c5c 10px, #5c5c5c 20px);\n",
       "    }\n",
       "    .progress-bar-interrupted, .progress-bar-interrupted::-webkit-progress-bar {\n",
       "        background: #F44336;\n",
       "    }\n",
       "</style>\n"
      ],
      "text/plain": [
       "<IPython.core.display.HTML object>"
      ]
     },
     "metadata": {},
     "output_type": "display_data"
    },
    {
     "data": {
      "text/html": [
       "\n",
       "    <div>\n",
       "      <progress value='4944' class='' max='30000' style='width:300px; height:20px; vertical-align: middle;'></progress>\n",
       "      16.48% [4944/30000 03:54&lt;19:50 Average Loss = 280.48]\n",
       "    </div>\n",
       "    "
      ],
      "text/plain": [
       "<IPython.core.display.HTML object>"
      ]
     },
     "metadata": {},
     "output_type": "display_data"
    },
    {
     "name": "stderr",
     "output_type": "stream",
     "text": [
      "Interrupted at 4,947 [16%]: Average Loss = 308.91\n"
     ]
    },
    {
     "name": "stdout",
     "output_type": "stream",
     "text": [
      "CPU times: total: 3min 57s\n",
      "Wall time: 3min 57s\n"
     ]
    }
   ],
   "source": [
    "%%time\n",
    "with neural_network:\n",
    "    approx = pm.fit(n=30_000)"
   ]
  },
  {
   "cell_type": "code",
   "execution_count": 14,
   "metadata": {},
   "outputs": [
    {
     "data": {
      "text/plain": [
       "[<matplotlib.lines.Line2D at 0x1818049fac0>]"
      ]
     },
     "execution_count": 14,
     "metadata": {},
     "output_type": "execute_result"
    },
    {
     "data": {
      "image/png": "[encoded data removed]",
      "text/plain": [
       "<Figure size 640x480 with 1 Axes>"
      ]
     },
     "metadata": {},
     "output_type": "display_data"
    }
   ],
   "source": [
    "plt.plot(approx.hist)"
   ]
  },
  {
   "cell_type": "code",
   "execution_count": 15,
   "metadata": {},
   "outputs": [],
   "source": [
    "trace = approx.sample(draws=5000)"
   ]
  },
  {
   "cell_type": "code",
   "execution_count": 16,
   "metadata": {},
   "outputs": [
    {
     "name": "stderr",
     "output_type": "stream",
     "text": [
      "Sampling: [out]\n"
     ]
    },
    {
     "data": {
      "text/html": [
       "\n",
       "<style>\n",
       "    /* Turns off some styling */\n",
       "    progress {\n",
       "        /* gets rid of default border in Firefox and Opera. */\n",
       "        border: none;\n",
       "        /* Needs to be in here for Safari polyfill so background images work as expected. */\n",
       "        background-size: auto;\n",
       "    }\n",
       "    progress:not([value]), progress:not([value])::-webkit-progress-bar {\n",
       "        background: repeating-linear-gradient(45deg, #7e7e7e, #7e7e7e 10px, #5c5c5c 10px, #5c5c5c 20px);\n",
       "    }\n",
       "    .progress-bar-interrupted, .progress-bar-interrupted::-webkit-progress-bar {\n",
       "        background: #F44336;\n",
       "    }\n",
       "</style>\n"
      ],
      "text/plain": [
       "<IPython.core.display.HTML object>"
      ]
     },
     "metadata": {},
     "output_type": "display_data"
    },
    {
     "data": {
      "text/html": [
       "\n",
       "    <div>\n",
       "      <progress value='5000' class='' max='5000' style='width:300px; height:20px; vertical-align: middle;'></progress>\n",
       "      100.00% [5000/5000 00:01&lt;00:00]\n",
       "    </div>\n",
       "    "
      ],
      "text/plain": [
       "<IPython.core.display.HTML object>"
      ]
     },
     "metadata": {},
     "output_type": "display_data"
    }
   ],
   "source": [
    "with neural_network:\n",
    "    pm.set_data(new_data={\"ann_input\": X_test})\n",
    "    ppc = pm.sample_posterior_predictive(trace)\n",
    "    trace.extend(ppc)"
   ]
  },
  {
   "cell_type": "code",
   "execution_count": 17,
   "metadata": {},
   "outputs": [
    {
     "name": "stdout",
     "output_type": "stream",
     "text": [
      "Accuracy = 82.73809523809523%\n"
     ]
    }
   ],
   "source": [
    "pred = ppc.posterior_predictive[\"out\"].mean((\"chain\", \"draw\")) > 0.50\n",
    "print(f\"Accuracy = {(y_test == pred.values).mean() * 100}%\")"
   ]
  },
  {
   "cell_type": "code",
   "execution_count": null,
   "metadata": {},
   "outputs": [
    {
     "data": {
      "text/plain": [
       "array([[ 1.5951236 , -0.79059004, -0.56115686],\n",
       "       [ 0.08544225, -0.62395294,  1.91257742],\n",
       "       [-0.0086636 ,  2.01502272,  0.57054062],\n",
       "       ...,\n",
       "       [ 0.89638573, -0.82875774, -1.3257493 ],\n",
       "       [-0.29029637,  2.68331237,  1.14792506],\n",
       "       [-0.21558164, -0.82721909, -1.01239764]])"
      ]
     },
     "execution_count": 19,
     "metadata": {},
     "output_type": "execute_result"
    }
   ],
   "source": [
    "X_train"
   ]
  },
  {
   "cell_type": "code",
   "execution_count": 18,
   "metadata": {},
   "outputs": [],
   "source": [
    "import bambi as bmb\n",
    "X_train, X_test, y_train, y_test = train_test_split(X_slope_PP_vhs1, y_slope_PP_vhs1, train_size=0.7, stratify=y_slope_PP_vhs1, random_state=42)\n",
    "\n",
    "slope_mean = X_train['slope'].mean()\n",
    "slope_std = X_train['slope'].std()\n",
    "\n",
    "PP_mean = X_train['PP'].mean()\n",
    "PP_std = X_train['PP'].std()\n",
    "\n",
    "#vhs1_mean = X_train['valor_humedad_suelo1'].mean()\n",
    "#vhs1_std = X_train['valor_humedad_suelo1'].std()\n",
    "\n",
    "#X_train['slope'] = (X_train['slope'] - slope_mean) / slope_std\n",
    "#X_test['slope'] = (X_test['slope'] - slope_mean) / slope_std\n",
    "\n",
    "#X_train['PP'] = (X_train['PP'] - PP_mean) / PP_std\n",
    "#X_test['PP'] = (X_test['PP'] - PP_mean) / PP_std\n",
    "\n",
    "#X_train['valor_humedad_suelo1'] = (X_train['valor_humedad_suelo1'] - vhs1_mean) / vhs1_std\n",
    "#X_test['valor_humedad_suelo1'] = (X_test['valor_humedad_suelo1'] - vhs1_mean) / vhs1_std\n",
    "\n",
    "#X_train['PP_2'] = X_train['valor_humedad_suelo1'] / X_train['PP'] \n",
    "#X_test['PP_2'] = X_test['valor_humedad_suelo1'] / X_test['PP'] \n",
    "\n",
    "\n",
    "X_train = pd.concat([X_train, y_train], axis=1)"
   ]
  },
  {
   "cell_type": "code",
   "execution_count": 19,
   "metadata": {},
   "outputs": [
    {
     "data": {
      "text/plain": [
       "(41.42002598164937, 13.117719634164368)"
      ]
     },
     "execution_count": 19,
     "metadata": {},
     "output_type": "execute_result"
    }
   ],
   "source": [
    "slope_mean, slope_std"
   ]
  },
  {
   "cell_type": "code",
   "execution_count": 20,
   "metadata": {},
   "outputs": [
    {
     "name": "stderr",
     "output_type": "stream",
     "text": [
      "Modeling the probability that output==1\n",
      "Auto-assigning NUTS sampler...\n",
      "Initializing NUTS using jitter+adapt_diag...\n",
      "Multiprocess sampling (4 chains in 4 jobs)\n",
      "NUTS: [Intercept, slope, PP, valor_humedad_suelo1]\n"
     ]
    },
    {
     "data": {
      "text/html": [
       "\n",
       "<style>\n",
       "    /* Turns off some styling */\n",
       "    progress {\n",
       "        /* gets rid of default border in Firefox and Opera. */\n",
       "        border: none;\n",
       "        /* Needs to be in here for Safari polyfill so background images work as expected. */\n",
       "        background-size: auto;\n",
       "    }\n",
       "    progress:not([value]), progress:not([value])::-webkit-progress-bar {\n",
       "        background: repeating-linear-gradient(45deg, #7e7e7e, #7e7e7e 10px, #5c5c5c 10px, #5c5c5c 20px);\n",
       "    }\n",
       "    .progress-bar-interrupted, .progress-bar-interrupted::-webkit-progress-bar {\n",
       "        background: #F44336;\n",
       "    }\n",
       "</style>\n"
      ],
      "text/plain": [
       "<IPython.core.display.HTML object>"
      ]
     },
     "metadata": {},
     "output_type": "display_data"
    },
    {
     "data": {
      "text/html": [
       "\n",
       "    <div>\n",
       "      <progress value='222' class='' max='8000' style='width:300px; height:20px; vertical-align: middle;'></progress>\n",
       "      2.77% [222/8000 01:06&lt;38:50 Sampling 4 chains, 0 divergences]\n",
       "    </div>\n",
       "    "
      ],
      "text/plain": [
       "<IPython.core.display.HTML object>"
      ]
     },
     "metadata": {},
     "output_type": "display_data"
    },
    {
     "ename": "ValueError",
     "evalue": "Not enough samples to build a trace.",
     "output_type": "error",
     "traceback": [
      "\u001b[1;31m---------------------------------------------------------------------------\u001b[0m",
      "\u001b[1;31mValueError\u001b[0m                                Traceback (most recent call last)",
      "Cell \u001b[1;32mIn[20], line 2\u001b[0m\n\u001b[0;32m      1\u001b[0m model1 \u001b[38;5;241m=\u001b[39m bmb\u001b[38;5;241m.\u001b[39mModel(\u001b[38;5;124m\"\u001b[39m\u001b[38;5;124moutput ~ (slope + PP + valor_humedad_suelo1)\u001b[39m\u001b[38;5;124m\"\u001b[39m, X_train, family\u001b[38;5;241m=\u001b[39m\u001b[38;5;124m\"\u001b[39m\u001b[38;5;124mbernoulli\u001b[39m\u001b[38;5;124m\"\u001b[39m, link\u001b[38;5;241m=\u001b[39m \u001b[38;5;124m'\u001b[39m\u001b[38;5;124mlogit\u001b[39m\u001b[38;5;124m'\u001b[39m)\n\u001b[1;32m----> 2\u001b[0m fitted1 \u001b[38;5;241m=\u001b[39m \u001b[43mmodel1\u001b[49m\u001b[38;5;241;43m.\u001b[39;49m\u001b[43mfit\u001b[49m\u001b[43m(\u001b[49m\u001b[43mdraws\u001b[49m\u001b[38;5;241;43m=\u001b[39;49m\u001b[38;5;241;43m1000\u001b[39;49m\u001b[43m,\u001b[49m\u001b[43mtune\u001b[49m\u001b[38;5;241;43m=\u001b[39;49m\u001b[38;5;241;43m1000\u001b[39;49m\u001b[43m,\u001b[49m\u001b[43m \u001b[49m\u001b[43midata_kwargs\u001b[49m\u001b[38;5;241;43m=\u001b[39;49m\u001b[43m{\u001b[49m\u001b[38;5;124;43m\"\u001b[39;49m\u001b[38;5;124;43mlog_likelihood\u001b[39;49m\u001b[38;5;124;43m\"\u001b[39;49m\u001b[43m:\u001b[49m\u001b[43m \u001b[49m\u001b[38;5;28;43;01mTrue\u001b[39;49;00m\u001b[43m}\u001b[49m\u001b[43m)\u001b[49m\n",
      "File \u001b[1;32mc:\\Users\\ivo\\.conda\\envs\\fjerez_mlabbe\\lib\\site-packages\\bambi\\models.py:333\u001b[0m, in \u001b[0;36mModel.fit\u001b[1;34m(self, draws, tune, discard_tuned_samples, omit_offsets, include_mean, inference_method, init, n_init, chains, cores, random_seed, **kwargs)\u001b[0m\n\u001b[0;32m    326\u001b[0m     response \u001b[38;5;241m=\u001b[39m \u001b[38;5;28mself\u001b[39m\u001b[38;5;241m.\u001b[39mcomponents[\u001b[38;5;28mself\u001b[39m\u001b[38;5;241m.\u001b[39mresponse_name]\n\u001b[0;32m    327\u001b[0m     _log\u001b[38;5;241m.\u001b[39minfo(\n\u001b[0;32m    328\u001b[0m         \u001b[38;5;124m\"\u001b[39m\u001b[38;5;124mModeling the probability that \u001b[39m\u001b[38;5;132;01m%s\u001b[39;00m\u001b[38;5;124m==\u001b[39m\u001b[38;5;132;01m%s\u001b[39;00m\u001b[38;5;124m\"\u001b[39m,\n\u001b[0;32m    329\u001b[0m         response\u001b[38;5;241m.\u001b[39mresponse_term\u001b[38;5;241m.\u001b[39mname,\n\u001b[0;32m    330\u001b[0m         \u001b[38;5;28mstr\u001b[39m(response\u001b[38;5;241m.\u001b[39mresponse_term\u001b[38;5;241m.\u001b[39msuccess),\n\u001b[0;32m    331\u001b[0m     )\n\u001b[1;32m--> 333\u001b[0m \u001b[38;5;28;01mreturn\u001b[39;00m \u001b[38;5;28mself\u001b[39m\u001b[38;5;241m.\u001b[39mbackend\u001b[38;5;241m.\u001b[39mrun(\n\u001b[0;32m    334\u001b[0m     draws\u001b[38;5;241m=\u001b[39mdraws,\n\u001b[0;32m    335\u001b[0m     tune\u001b[38;5;241m=\u001b[39mtune,\n\u001b[0;32m    336\u001b[0m     discard_tuned_samples\u001b[38;5;241m=\u001b[39mdiscard_tuned_samples,\n\u001b[0;32m    337\u001b[0m     omit_offsets\u001b[38;5;241m=\u001b[39momit_offsets,\n\u001b[0;32m    338\u001b[0m     include_mean\u001b[38;5;241m=\u001b[39minclude_mean,\n\u001b[0;32m    339\u001b[0m     inference_method\u001b[38;5;241m=\u001b[39minference_method,\n\u001b[0;32m    340\u001b[0m     init\u001b[38;5;241m=\u001b[39minit,\n\u001b[0;32m    341\u001b[0m     n_init\u001b[38;5;241m=\u001b[39mn_init,\n\u001b[0;32m    342\u001b[0m     chains\u001b[38;5;241m=\u001b[39mchains,\n\u001b[0;32m    343\u001b[0m     cores\u001b[38;5;241m=\u001b[39mcores,\n\u001b[0;32m    344\u001b[0m     random_seed\u001b[38;5;241m=\u001b[39mrandom_seed,\n\u001b[0;32m    345\u001b[0m     \u001b[38;5;241m*\u001b[39m\u001b[38;5;241m*\u001b[39mkwargs,\n\u001b[0;32m    346\u001b[0m )\n",
      "File \u001b[1;32mc:\\Users\\ivo\\.conda\\envs\\fjerez_mlabbe\\lib\\site-packages\\bambi\\backend\\pymc.py:96\u001b[0m, in \u001b[0;36mPyMCModel.run\u001b[1;34m(self, draws, tune, discard_tuned_samples, omit_offsets, include_mean, inference_method, init, n_init, chains, cores, random_seed, **kwargs)\u001b[0m\n\u001b[0;32m     94\u001b[0m \u001b[38;5;66;03m# NOTE: Methods return different types of objects (idata, approximation, and dictionary)\u001b[39;00m\n\u001b[0;32m     95\u001b[0m \u001b[38;5;28;01mif\u001b[39;00m inference_method \u001b[38;5;129;01min\u001b[39;00m [\u001b[38;5;124m\"\u001b[39m\u001b[38;5;124mmcmc\u001b[39m\u001b[38;5;124m\"\u001b[39m, \u001b[38;5;124m\"\u001b[39m\u001b[38;5;124mnuts_numpyro\u001b[39m\u001b[38;5;124m\"\u001b[39m, \u001b[38;5;124m\"\u001b[39m\u001b[38;5;124mnuts_blackjax\u001b[39m\u001b[38;5;124m\"\u001b[39m]:\n\u001b[1;32m---> 96\u001b[0m     result \u001b[38;5;241m=\u001b[39m \u001b[38;5;28mself\u001b[39m\u001b[38;5;241m.\u001b[39m_run_mcmc(\n\u001b[0;32m     97\u001b[0m         draws,\n\u001b[0;32m     98\u001b[0m         tune,\n\u001b[0;32m     99\u001b[0m         discard_tuned_samples,\n\u001b[0;32m    100\u001b[0m         omit_offsets,\n\u001b[0;32m    101\u001b[0m         include_mean,\n\u001b[0;32m    102\u001b[0m         init,\n\u001b[0;32m    103\u001b[0m         n_init,\n\u001b[0;32m    104\u001b[0m         chains,\n\u001b[0;32m    105\u001b[0m         cores,\n\u001b[0;32m    106\u001b[0m         random_seed,\n\u001b[0;32m    107\u001b[0m         inference_method,\n\u001b[0;32m    108\u001b[0m         \u001b[38;5;241m*\u001b[39m\u001b[38;5;241m*\u001b[39mkwargs,\n\u001b[0;32m    109\u001b[0m     )\n\u001b[0;32m    110\u001b[0m \u001b[38;5;28;01melif\u001b[39;00m inference_method \u001b[38;5;241m==\u001b[39m \u001b[38;5;124m\"\u001b[39m\u001b[38;5;124mvi\u001b[39m\u001b[38;5;124m\"\u001b[39m:\n\u001b[0;32m    111\u001b[0m     result \u001b[38;5;241m=\u001b[39m \u001b[38;5;28mself\u001b[39m\u001b[38;5;241m.\u001b[39m_run_vi(\u001b[38;5;241m*\u001b[39m\u001b[38;5;241m*\u001b[39mkwargs)\n",
      "File \u001b[1;32mc:\\Users\\ivo\\.conda\\envs\\fjerez_mlabbe\\lib\\site-packages\\bambi\\backend\\pymc.py:172\u001b[0m, in \u001b[0;36mPyMCModel._run_mcmc\u001b[1;34m(self, draws, tune, discard_tuned_samples, omit_offsets, include_mean, init, n_init, chains, cores, random_seed, sampler_backend, **kwargs)\u001b[0m\n\u001b[0;32m    170\u001b[0m \u001b[38;5;28;01mif\u001b[39;00m sampler_backend \u001b[38;5;241m==\u001b[39m \u001b[38;5;124m\"\u001b[39m\u001b[38;5;124mmcmc\u001b[39m\u001b[38;5;124m\"\u001b[39m:\n\u001b[0;32m    171\u001b[0m     \u001b[38;5;28;01mtry\u001b[39;00m:\n\u001b[1;32m--> 172\u001b[0m         idata \u001b[38;5;241m=\u001b[39m pm\u001b[38;5;241m.\u001b[39msample(\n\u001b[0;32m    173\u001b[0m             draws\u001b[38;5;241m=\u001b[39mdraws,\n\u001b[0;32m    174\u001b[0m             tune\u001b[38;5;241m=\u001b[39mtune,\n\u001b[0;32m    175\u001b[0m             discard_tuned_samples\u001b[38;5;241m=\u001b[39mdiscard_tuned_samples,\n\u001b[0;32m    176\u001b[0m             init\u001b[38;5;241m=\u001b[39minit,\n\u001b[0;32m    177\u001b[0m             n_init\u001b[38;5;241m=\u001b[39mn_init,\n\u001b[0;32m    178\u001b[0m             chains\u001b[38;5;241m=\u001b[39mchains,\n\u001b[0;32m    179\u001b[0m             cores\u001b[38;5;241m=\u001b[39mcores,\n\u001b[0;32m    180\u001b[0m             random_seed\u001b[38;5;241m=\u001b[39mrandom_seed,\n\u001b[0;32m    181\u001b[0m             \u001b[38;5;241m*\u001b[39m\u001b[38;5;241m*\u001b[39mkwargs,\n\u001b[0;32m    182\u001b[0m         )\n\u001b[0;32m    183\u001b[0m     \u001b[38;5;28;01mexcept\u001b[39;00m (\u001b[38;5;167;01mRuntimeError\u001b[39;00m, \u001b[38;5;167;01mValueError\u001b[39;00m):\n\u001b[0;32m    184\u001b[0m         \u001b[38;5;28;01mif\u001b[39;00m (\n\u001b[0;32m    185\u001b[0m             \u001b[38;5;124m\"\u001b[39m\u001b[38;5;124mValueError: Mass matrix contains\u001b[39m\u001b[38;5;124m\"\u001b[39m \u001b[38;5;129;01min\u001b[39;00m traceback\u001b[38;5;241m.\u001b[39mformat_exc()\n\u001b[0;32m    186\u001b[0m             \u001b[38;5;129;01mand\u001b[39;00m init \u001b[38;5;241m==\u001b[39m \u001b[38;5;124m\"\u001b[39m\u001b[38;5;124mauto\u001b[39m\u001b[38;5;124m\"\u001b[39m\n\u001b[0;32m    187\u001b[0m         ):\n",
      "File \u001b[1;32mc:\\Users\\ivo\\.conda\\envs\\fjerez_mlabbe\\lib\\site-packages\\pymc\\sampling\\mcmc.py:827\u001b[0m, in \u001b[0;36msample\u001b[1;34m(draws, tune, chains, cores, random_seed, progressbar, step, nuts_sampler, initvals, init, jitter_max_retries, n_init, trace, discard_tuned_samples, compute_convergence_checks, keep_warning_stat, return_inferencedata, idata_kwargs, nuts_sampler_kwargs, callback, mp_ctx, model, **kwargs)\u001b[0m\n\u001b[0;32m    823\u001b[0m t_sampling \u001b[38;5;241m=\u001b[39m time\u001b[38;5;241m.\u001b[39mtime() \u001b[38;5;241m-\u001b[39m t_start\n\u001b[0;32m    825\u001b[0m \u001b[38;5;66;03m# Packaging, validating and returning the result was extracted\u001b[39;00m\n\u001b[0;32m    826\u001b[0m \u001b[38;5;66;03m# into a function to make it easier to test and refactor.\u001b[39;00m\n\u001b[1;32m--> 827\u001b[0m \u001b[38;5;28;01mreturn\u001b[39;00m \u001b[43m_sample_return\u001b[49m\u001b[43m(\u001b[49m\n\u001b[0;32m    828\u001b[0m \u001b[43m    \u001b[49m\u001b[43mrun\u001b[49m\u001b[38;5;241;43m=\u001b[39;49m\u001b[43mrun\u001b[49m\u001b[43m,\u001b[49m\n\u001b[0;32m    829\u001b[0m \u001b[43m    \u001b[49m\u001b[43mtraces\u001b[49m\u001b[38;5;241;43m=\u001b[39;49m\u001b[43mtraces\u001b[49m\u001b[43m,\u001b[49m\n\u001b[0;32m    830\u001b[0m \u001b[43m    \u001b[49m\u001b[43mtune\u001b[49m\u001b[38;5;241;43m=\u001b[39;49m\u001b[43mtune\u001b[49m\u001b[43m,\u001b[49m\n\u001b[0;32m    831\u001b[0m \u001b[43m    \u001b[49m\u001b[43mt_sampling\u001b[49m\u001b[38;5;241;43m=\u001b[39;49m\u001b[43mt_sampling\u001b[49m\u001b[43m,\u001b[49m\n\u001b[0;32m    832\u001b[0m \u001b[43m    \u001b[49m\u001b[43mdiscard_tuned_samples\u001b[49m\u001b[38;5;241;43m=\u001b[39;49m\u001b[43mdiscard_tuned_samples\u001b[49m\u001b[43m,\u001b[49m\n\u001b[0;32m    833\u001b[0m \u001b[43m    \u001b[49m\u001b[43mcompute_convergence_checks\u001b[49m\u001b[38;5;241;43m=\u001b[39;49m\u001b[43mcompute_convergence_checks\u001b[49m\u001b[43m,\u001b[49m\n\u001b[0;32m    834\u001b[0m \u001b[43m    \u001b[49m\u001b[43mreturn_inferencedata\u001b[49m\u001b[38;5;241;43m=\u001b[39;49m\u001b[43mreturn_inferencedata\u001b[49m\u001b[43m,\u001b[49m\n\u001b[0;32m    835\u001b[0m \u001b[43m    \u001b[49m\u001b[43mkeep_warning_stat\u001b[49m\u001b[38;5;241;43m=\u001b[39;49m\u001b[43mkeep_warning_stat\u001b[49m\u001b[43m,\u001b[49m\n\u001b[0;32m    836\u001b[0m \u001b[43m    \u001b[49m\u001b[43midata_kwargs\u001b[49m\u001b[38;5;241;43m=\u001b[39;49m\u001b[43midata_kwargs\u001b[49m\u001b[43m \u001b[49m\u001b[38;5;129;43;01mor\u001b[39;49;00m\u001b[43m \u001b[49m\u001b[43m{\u001b[49m\u001b[43m}\u001b[49m\u001b[43m,\u001b[49m\n\u001b[0;32m    837\u001b[0m \u001b[43m    \u001b[49m\u001b[43mmodel\u001b[49m\u001b[38;5;241;43m=\u001b[39;49m\u001b[43mmodel\u001b[49m\u001b[43m,\u001b[49m\n\u001b[0;32m    838\u001b[0m \u001b[43m\u001b[49m\u001b[43m)\u001b[49m\n",
      "File \u001b[1;32mc:\\Users\\ivo\\.conda\\envs\\fjerez_mlabbe\\lib\\site-packages\\pymc\\sampling\\mcmc.py:858\u001b[0m, in \u001b[0;36m_sample_return\u001b[1;34m(run, traces, tune, t_sampling, discard_tuned_samples, compute_convergence_checks, return_inferencedata, keep_warning_stat, idata_kwargs, model)\u001b[0m\n\u001b[0;32m    856\u001b[0m \u001b[38;5;66;03m# Pick and slice chains to keep the maximum number of samples\u001b[39;00m\n\u001b[0;32m    857\u001b[0m \u001b[38;5;28;01mif\u001b[39;00m discard_tuned_samples:\n\u001b[1;32m--> 858\u001b[0m     traces, length \u001b[38;5;241m=\u001b[39m \u001b[43m_choose_chains\u001b[49m\u001b[43m(\u001b[49m\u001b[43mtraces\u001b[49m\u001b[43m,\u001b[49m\u001b[43m \u001b[49m\u001b[43mtune\u001b[49m\u001b[43m)\u001b[49m\n\u001b[0;32m    859\u001b[0m \u001b[38;5;28;01melse\u001b[39;00m:\n\u001b[0;32m    860\u001b[0m     traces, length \u001b[38;5;241m=\u001b[39m _choose_chains(traces, \u001b[38;5;241m0\u001b[39m)\n",
      "File \u001b[1;32mc:\\Users\\ivo\\.conda\\envs\\fjerez_mlabbe\\lib\\site-packages\\pymc\\backends\\base.py:601\u001b[0m, in \u001b[0;36m_choose_chains\u001b[1;34m(traces, tune)\u001b[0m\n\u001b[0;32m    599\u001b[0m lengths \u001b[38;5;241m=\u001b[39m [\u001b[38;5;28mmax\u001b[39m(\u001b[38;5;241m0\u001b[39m, \u001b[38;5;28mlen\u001b[39m(trace) \u001b[38;5;241m-\u001b[39m tune) \u001b[38;5;28;01mfor\u001b[39;00m trace \u001b[38;5;129;01min\u001b[39;00m traces]\n\u001b[0;32m    600\u001b[0m \u001b[38;5;28;01mif\u001b[39;00m \u001b[38;5;129;01mnot\u001b[39;00m \u001b[38;5;28msum\u001b[39m(lengths):\n\u001b[1;32m--> 601\u001b[0m     \u001b[38;5;28;01mraise\u001b[39;00m \u001b[38;5;167;01mValueError\u001b[39;00m(\u001b[38;5;124m\"\u001b[39m\u001b[38;5;124mNot enough samples to build a trace.\u001b[39m\u001b[38;5;124m\"\u001b[39m)\n\u001b[0;32m    603\u001b[0m idxs \u001b[38;5;241m=\u001b[39m np\u001b[38;5;241m.\u001b[39margsort(lengths)\n\u001b[0;32m    604\u001b[0m l_sort \u001b[38;5;241m=\u001b[39m np\u001b[38;5;241m.\u001b[39marray(lengths)[idxs]\n",
      "\u001b[1;31mValueError\u001b[0m: Not enough samples to build a trace."
     ]
    }
   ],
   "source": [
    "model1 = bmb.Model(\"output ~ (slope + PP + valor_humedad_suelo1)\", X_train, family=\"bernoulli\", link= 'logit')\n",
    "fitted1 = model1.fit(draws=1000,tune=1000, idata_kwargs={\"log_likelihood\": True})"
   ]
  },
  {
   "cell_type": "code",
   "execution_count": 21,
   "metadata": {},
   "outputs": [
    {
     "name": "stderr",
     "output_type": "stream",
     "text": [
      "Sampling: [Intercept, PP, slope, valor_humedad_suelo1]\n"
     ]
    },
    {
     "data": {
      "text/plain": [
       "array([<Axes: title={'center': 'Intercept'}>,\n",
       "       <Axes: title={'center': 'slope'}>, <Axes: title={'center': 'PP'}>,\n",
       "       <Axes: title={'center': 'valor_humedad_suelo1'}>], dtype=object)"
      ]
     },
     "execution_count": 21,
     "metadata": {},
     "output_type": "execute_result"
    },
    {
     "data": {
      "image/png": "[encoded data removed]",
      "text/plain": [
       "<Figure size 2944x552 with 4 Axes>"
      ]
     },
     "metadata": {},
     "output_type": "display_data"
    }
   ],
   "source": [
    "model1.plot_priors(draws=1000)"
   ]
  },
  {
   "cell_type": "code",
   "execution_count": 22,
   "metadata": {},
   "outputs": [
    {
     "ename": "NameError",
     "evalue": "name 'fitted1' is not defined",
     "output_type": "error",
     "traceback": [
      "\u001b[1;31m---------------------------------------------------------------------------\u001b[0m",
      "\u001b[1;31mNameError\u001b[0m                                 Traceback (most recent call last)",
      "Cell \u001b[1;32mIn[22], line 1\u001b[0m\n\u001b[1;32m----> 1\u001b[0m az\u001b[38;5;241m.\u001b[39mplot_trace(\u001b[43mfitted1\u001b[49m, compact \u001b[38;5;241m=\u001b[39m \u001b[38;5;28;01mFalse\u001b[39;00m);\n\u001b[0;32m      2\u001b[0m az\u001b[38;5;241m.\u001b[39msummary(fitted1)\n",
      "\u001b[1;31mNameError\u001b[0m: name 'fitted1' is not defined"
     ]
    }
   ],
   "source": [
    "az.plot_trace(fitted1, compact = False);\n",
    "az.summary(fitted1)"
   ]
  },
  {
   "cell_type": "code",
   "execution_count": 23,
   "metadata": {},
   "outputs": [
    {
     "data": {
      "image/svg+xml": [
       "<?xml version=\"1.0\" encoding=\"UTF-8\" standalone=\"no\"?>\n",
       "<!DOCTYPE svg PUBLIC \"-//W3C//DTD SVG 1.1//EN\"\n",
       " \"http://www.w3.org/Graphics/SVG/1.1/DTD/svg11.dtd\">\n",
       "<!-- Generated by graphviz version 9.0.0 (0)\n",
       " -->\n",
       "<!-- Pages: 1 -->\n",
       "<svg width=\"518pt\" height=\"247pt\"\n",
       " viewBox=\"0.00 0.00 517.95 247.13\" xmlns=\"http://www.w3.org/2000/svg\" xmlns:xlink=\"http://www.w3.org/1999/xlink\">\n",
       "<g id=\"graph0\" class=\"graph\" transform=\"scale(1 1) rotate(0) translate(4 243.13)\">\n",
       "<polygon fill=\"white\" stroke=\"none\" points=\"-4,4 -4,-243.13 513.95,-243.13 513.95,4 -4,4\"/>\n",
       "<g id=\"clust1\" class=\"cluster\">\n",
       "<title>clusteroutput_obs (390)</title>\n",
       "<path fill=\"none\" stroke=\"black\" d=\"M269.94,-8C269.94,-8 355.94,-8 355.94,-8 361.94,-8 367.94,-14 367.94,-20 367.94,-20 367.94,-117.82 367.94,-117.82 367.94,-123.82 361.94,-129.82 355.94,-129.82 355.94,-129.82 269.94,-129.82 269.94,-129.82 263.94,-129.82 257.94,-123.82 257.94,-117.82 257.94,-117.82 257.94,-20 257.94,-20 257.94,-14 263.94,-8 269.94,-8\"/>\n",
       "<text text-anchor=\"middle\" x=\"313.44\" y=\"-15.2\" font-family=\"Times New Roman,serif\" font-size=\"14.00\">output_obs (390)</text>\n",
       "</g>\n",
       "<!-- valor_humedad_suelo1 -->\n",
       "<g id=\"node1\" class=\"node\">\n",
       "<title>valor_humedad_suelo1</title>\n",
       "<ellipse fill=\"none\" stroke=\"black\" cx=\"100.94\" cy=\"-198.48\" rx=\"100.94\" ry=\"40.66\"/>\n",
       "<text text-anchor=\"middle\" x=\"100.94\" y=\"-209.93\" font-family=\"Times New Roman,serif\" font-size=\"14.00\">valor_humedad_suelo1</text>\n",
       "<text text-anchor=\"middle\" x=\"100.94\" y=\"-193.43\" font-family=\"Times New Roman,serif\" font-size=\"14.00\">~</text>\n",
       "<text text-anchor=\"middle\" x=\"100.94\" y=\"-176.93\" font-family=\"Times New Roman,serif\" font-size=\"14.00\">Normal</text>\n",
       "</g>\n",
       "<!-- output -->\n",
       "<g id=\"node5\" class=\"node\">\n",
       "<title>output</title>\n",
       "<ellipse fill=\"lightgrey\" stroke=\"black\" cx=\"312.94\" cy=\"-81.16\" rx=\"47.38\" ry=\"40.66\"/>\n",
       "<text text-anchor=\"middle\" x=\"312.94\" y=\"-92.61\" font-family=\"Times New Roman,serif\" font-size=\"14.00\">output</text>\n",
       "<text text-anchor=\"middle\" x=\"312.94\" y=\"-76.11\" font-family=\"Times New Roman,serif\" font-size=\"14.00\">~</text>\n",
       "<text text-anchor=\"middle\" x=\"312.94\" y=\"-59.61\" font-family=\"Times New Roman,serif\" font-size=\"14.00\">Bernoulli</text>\n",
       "</g>\n",
       "<!-- valor_humedad_suelo1&#45;&gt;output -->\n",
       "<g id=\"edge1\" class=\"edge\">\n",
       "<title>valor_humedad_suelo1&#45;&gt;output</title>\n",
       "<path fill=\"none\" stroke=\"black\" d=\"M160.28,-165.2C192.63,-147.6 232.23,-126.06 263,-109.33\"/>\n",
       "<polygon fill=\"black\" stroke=\"black\" points=\"264.62,-112.42 271.74,-104.57 261.28,-106.28 264.62,-112.42\"/>\n",
       "</g>\n",
       "<!-- PP -->\n",
       "<g id=\"node2\" class=\"node\">\n",
       "<title>PP</title>\n",
       "<ellipse fill=\"none\" stroke=\"black\" cx=\"260.94\" cy=\"-198.48\" rx=\"41.01\" ry=\"40.66\"/>\n",
       "<text text-anchor=\"middle\" x=\"260.94\" y=\"-209.93\" font-family=\"Times New Roman,serif\" font-size=\"14.00\">PP</text>\n",
       "<text text-anchor=\"middle\" x=\"260.94\" y=\"-193.43\" font-family=\"Times New Roman,serif\" font-size=\"14.00\">~</text>\n",
       "<text text-anchor=\"middle\" x=\"260.94\" y=\"-176.93\" font-family=\"Times New Roman,serif\" font-size=\"14.00\">Normal</text>\n",
       "</g>\n",
       "<!-- PP&#45;&gt;output -->\n",
       "<g id=\"edge4\" class=\"edge\">\n",
       "<title>PP&#45;&gt;output</title>\n",
       "<path fill=\"none\" stroke=\"black\" d=\"M277.39,-160.99C281.86,-151.09 286.75,-140.23 291.45,-129.81\"/>\n",
       "<polygon fill=\"black\" stroke=\"black\" points=\"294.51,-131.53 295.43,-120.98 288.13,-128.66 294.51,-131.53\"/>\n",
       "</g>\n",
       "<!-- Intercept -->\n",
       "<g id=\"node3\" class=\"node\">\n",
       "<title>Intercept</title>\n",
       "<ellipse fill=\"none\" stroke=\"black\" cx=\"364.94\" cy=\"-198.48\" rx=\"45.25\" ry=\"40.66\"/>\n",
       "<text text-anchor=\"middle\" x=\"364.94\" y=\"-209.93\" font-family=\"Times New Roman,serif\" font-size=\"14.00\">Intercept</text>\n",
       "<text text-anchor=\"middle\" x=\"364.94\" y=\"-193.43\" font-family=\"Times New Roman,serif\" font-size=\"14.00\">~</text>\n",
       "<text text-anchor=\"middle\" x=\"364.94\" y=\"-176.93\" font-family=\"Times New Roman,serif\" font-size=\"14.00\">Normal</text>\n",
       "</g>\n",
       "<!-- Intercept&#45;&gt;output -->\n",
       "<g id=\"edge2\" class=\"edge\">\n",
       "<title>Intercept&#45;&gt;output</title>\n",
       "<path fill=\"none\" stroke=\"black\" d=\"M348.2,-160.35C343.84,-150.68 339.07,-140.12 334.5,-129.97\"/>\n",
       "<polygon fill=\"black\" stroke=\"black\" points=\"337.75,-128.66 330.45,-120.99 331.37,-131.54 337.75,-128.66\"/>\n",
       "</g>\n",
       "<!-- slope -->\n",
       "<g id=\"node4\" class=\"node\">\n",
       "<title>slope</title>\n",
       "<ellipse fill=\"none\" stroke=\"black\" cx=\"468.94\" cy=\"-198.48\" rx=\"41.01\" ry=\"40.66\"/>\n",
       "<text text-anchor=\"middle\" x=\"468.94\" y=\"-209.93\" font-family=\"Times New Roman,serif\" font-size=\"14.00\">slope</text>\n",
       "<text text-anchor=\"middle\" x=\"468.94\" y=\"-193.43\" font-family=\"Times New Roman,serif\" font-size=\"14.00\">~</text>\n",
       "<text text-anchor=\"middle\" x=\"468.94\" y=\"-176.93\" font-family=\"Times New Roman,serif\" font-size=\"14.00\">Normal</text>\n",
       "</g>\n",
       "<!-- slope&#45;&gt;output -->\n",
       "<g id=\"edge3\" class=\"edge\">\n",
       "<title>slope&#45;&gt;output</title>\n",
       "<path fill=\"none\" stroke=\"black\" d=\"M437.39,-172.06C431.31,-167.27 424.96,-162.35 418.94,-157.82 399.47,-143.16 377.6,-127.43 358.81,-114.14\"/>\n",
       "<polygon fill=\"black\" stroke=\"black\" points=\"361,-111.4 350.81,-108.49 356.96,-117.12 361,-111.4\"/>\n",
       "</g>\n",
       "</g>\n",
       "</svg>\n"
      ],
      "text/plain": [
       "<graphviz.graphs.Digraph at 0x18180ca98e0>"
      ]
     },
     "execution_count": 23,
     "metadata": {},
     "output_type": "execute_result"
    }
   ],
   "source": [
    "model1.graph()"
   ]
  },
  {
   "cell_type": "code",
   "execution_count": 24,
   "metadata": {},
   "outputs": [
    {
     "ename": "NameError",
     "evalue": "name 'fitted1' is not defined",
     "output_type": "error",
     "traceback": [
      "\u001b[1;31m---------------------------------------------------------------------------\u001b[0m",
      "\u001b[1;31mNameError\u001b[0m                                 Traceback (most recent call last)",
      "Cell \u001b[1;32mIn[24], line 1\u001b[0m\n\u001b[1;32m----> 1\u001b[0m pred \u001b[38;5;241m=\u001b[39m model1\u001b[38;5;241m.\u001b[39mpredict(\u001b[43mfitted1\u001b[49m, data\u001b[38;5;241m=\u001b[39mX_test)\n\u001b[0;32m      2\u001b[0m \u001b[38;5;66;03m#print(f\"Accuracy = {(y_test == pred.values).mean() * 100}%\")\u001b[39;00m\n",
      "\u001b[1;31mNameError\u001b[0m: name 'fitted1' is not defined"
     ]
    }
   ],
   "source": [
    "pred = model1.predict(fitted1, data=X_test)\n",
    "#print(f\"Accuracy = {(y_test == pred.values).mean() * 100}%\")"
   ]
  },
  {
   "cell_type": "code",
   "execution_count": null,
   "metadata": {},
   "outputs": [],
   "source": [
    "pred = fitted1.posterior['output_mean'].mean(('chain', 'draw')) > 0.5"
   ]
  },
  {
   "cell_type": "code",
   "execution_count": null,
   "metadata": {},
   "outputs": [
    {
     "name": "stdout",
     "output_type": "stream",
     "text": [
      "Accuracy = 80.35714285714286%\n"
     ]
    }
   ],
   "source": [
    "print(f\"Accuracy = {(y_test == pred.values).mean() * 100}%\")"
   ]
  },
  {
   "cell_type": "code",
   "execution_count": 25,
   "metadata": {},
   "outputs": [
    {
     "data": {
      "text/plain": [
       "'with pm.Model() as modelo_bayesiano:\\n    # Priors para los coeficientes\\n    input = pm.Data(\"input\", X_train, mutable=True)\\n    output = pm.Data(\"output\", y_train, mutable= True)\\n    beta0 = pm.Normal(\\'beta0\\', mu=0, sigma=10)\\n    beta_slope = pm.Normal(\\'beta_slope\\', mu=0, sigma=10)\\n    beta_PP = pm.Normal(\\'beta_PP\\', mu=0, sigma=10)\\n    beta_humedad = pm.Normal(\\'beta_humedad\\', mu=0, sigma=10)\\n\\n    # Modelo lineal\\n    logit = beta0 + beta_slope * input[\\'slope\\'] + beta_PP * input[\\'PP\\'] + beta_humedad * input[\\'valor_humedad_suelo1\\']\\n\\n    # Likelihood\\n    output_observed = pm.Bernoulli(\\'output_observed\\', logit_p=logit, observed=output)\\n\\n    # Muestrear el modelo\\n    #trace = pm.sample(2000, tune=1000)\\n\\npm.model_to_graphviz(modelo_bayesiano)\\n'"
      ]
     },
     "execution_count": 25,
     "metadata": {},
     "output_type": "execute_result"
    }
   ],
   "source": [
    "from sklearn.model_selection import train_test_split\n",
    "from sklearn.metrics import accuracy_score, classification_report\n",
    "\n",
    "X_train, X_test, y_train, y_test = train_test_split(X_slope_PP_vhs1, y_slope_PP_vhs1, train_size=0.7, stratify=y_slope_PP_vhs1, random_state=42)\n",
    "# Definir el modelo en PyMC3\n",
    "\"\"\"with pm.Model() as modelo_bayesiano:\n",
    "    # Priors para los coeficientes\n",
    "    input = pm.Data(\"input\", X_train, mutable=True)\n",
    "    output = pm.Data(\"output\", y_train, mutable= True)\n",
    "    beta0 = pm.Normal('beta0', mu=0, sigma=10)\n",
    "    beta_slope = pm.Normal('beta_slope', mu=0, sigma=10)\n",
    "    beta_PP = pm.Normal('beta_PP', mu=0, sigma=10)\n",
    "    beta_humedad = pm.Normal('beta_humedad', mu=0, sigma=10)\n",
    "\n",
    "    # Modelo lineal\n",
    "    logit = beta0 + beta_slope * input['slope'] + beta_PP * input['PP'] + beta_humedad * input['valor_humedad_suelo1']\n",
    "\n",
    "    # Likelihood\n",
    "    output_observed = pm.Bernoulli('output_observed', logit_p=logit, observed=output)\n",
    "\n",
    "    # Muestrear el modelo\n",
    "    #trace = pm.sample(2000, tune=1000)\n",
    "\n",
    "pm.model_to_graphviz(modelo_bayesiano)\n",
    "\"\"\"\n",
    "\n",
    "\n"
   ]
  },
  {
   "cell_type": "code",
   "execution_count": 26,
   "metadata": {},
   "outputs": [],
   "source": [
    "from sklearn.preprocessing import StandardScaler\n",
    "sc = StandardScaler()\n",
    "X_train = sc.fit_transform(X_train)\n",
    "X_test = sc.transform(X_test)"
   ]
  },
  {
   "cell_type": "code",
   "execution_count": 95,
   "metadata": {},
   "outputs": [],
   "source": [
    "def model_test(input, output):\n",
    "    coords = {\n",
    "        'train_cols': np.arange(X_train.shape[1]),\n",
    "        #'obs_id': np.arange(X_train.shape[0])\n",
    "    }\n",
    "    with pm.Model(coords=coords) as model:\n",
    "        input = pm.Data('input', X_train, mutable=True, dims=('obs_id','train_cols'))\n",
    "        observed = pm.Data('observed', y_train, mutable=True, dims='dims_id')\n",
    "        intercept = pm.Normal('intercept', mu=0,sigma=5)\n",
    "        beta = pm.Normal('beta',mu=0, sigma=5)\n",
    "        sigma = pm.Normal('sigma', mu=0, sigma=5)\n",
    "        sigma_2 = pm.Normal('sigma_2', mu = 0, sigma=5)\n",
    "        final = pm.Bernoulli('out',logit_p = intercept + input[:,0]*beta + input[:,1]*sigma + input[:,2]*sigma_2, observed = observed, dims='obs_id')\n",
    "    return model\n",
    "\n",
    "model_test = model_test(X_train, y_train)"
   ]
  },
  {
   "cell_type": "code",
   "execution_count": 96,
   "metadata": {},
   "outputs": [
    {
     "data": {
      "text/html": [
       "\n",
       "<style>\n",
       "    /* Turns off some styling */\n",
       "    progress {\n",
       "        /* gets rid of default border in Firefox and Opera. */\n",
       "        border: none;\n",
       "        /* Needs to be in here for Safari polyfill so background images work as expected. */\n",
       "        background-size: auto;\n",
       "    }\n",
       "    progress:not([value]), progress:not([value])::-webkit-progress-bar {\n",
       "        background: repeating-linear-gradient(45deg, #7e7e7e, #7e7e7e 10px, #5c5c5c 10px, #5c5c5c 20px);\n",
       "    }\n",
       "    .progress-bar-interrupted, .progress-bar-interrupted::-webkit-progress-bar {\n",
       "        background: #F44336;\n",
       "    }\n",
       "</style>\n"
      ],
      "text/plain": [
       "<IPython.core.display.HTML object>"
      ]
     },
     "metadata": {},
     "output_type": "display_data"
    },
    {
     "data": {
      "text/html": [
       "\n",
       "    <div>\n",
       "      <progress value='10000' class='' max='10000' style='width:300px; height:20px; vertical-align: middle;'></progress>\n",
       "      100.00% [10000/10000 05:35&lt;00:00 Average Loss = 238.78]\n",
       "    </div>\n",
       "    "
      ],
      "text/plain": [
       "<IPython.core.display.HTML object>"
      ]
     },
     "metadata": {},
     "output_type": "display_data"
    },
    {
     "name": "stderr",
     "output_type": "stream",
     "text": [
      "Finished [100%]: Average Loss = 238.78\n"
     ]
    }
   ],
   "source": [
    "with model_test:\n",
    "    approx = pm.fit(n=10_000)"
   ]
  },
  {
   "cell_type": "code",
   "execution_count": 99,
   "metadata": {},
   "outputs": [
    {
     "data": {
      "image/svg+xml": [
       "<?xml version=\"1.0\" encoding=\"UTF-8\" standalone=\"no\"?>\n",
       "<!DOCTYPE svg PUBLIC \"-//W3C//DTD SVG 1.1//EN\"\n",
       " \"http://www.w3.org/Graphics/SVG/1.1/DTD/svg11.dtd\">\n",
       "<!-- Generated by graphviz version 9.0.0 (0)\n",
       " -->\n",
       "<!-- Pages: 1 -->\n",
       "<svg width=\"593pt\" height=\"358pt\"\n",
       " viewBox=\"0.00 0.00 592.72 357.82\" xmlns=\"http://www.w3.org/2000/svg\" xmlns:xlink=\"http://www.w3.org/1999/xlink\">\n",
       "<g id=\"graph0\" class=\"graph\" transform=\"scale(1 1) rotate(0) translate(4 353.82)\">\n",
       "<polygon fill=\"white\" stroke=\"none\" points=\"-4,4 -4,-353.82 588.72,-353.82 588.72,4 -4,4\"/>\n",
       "<g id=\"clust1\" class=\"cluster\">\n",
       "<title>clusterobs_id (390) x train_cols (3)</title>\n",
       "<path fill=\"none\" stroke=\"black\" d=\"M20,-243.82C20,-243.82 168,-243.82 168,-243.82 174,-243.82 180,-249.82 180,-255.82 180,-255.82 180,-329.82 180,-329.82 180,-335.82 174,-341.82 168,-341.82 168,-341.82 20,-341.82 20,-341.82 14,-341.82 8,-335.82 8,-329.82 8,-329.82 8,-255.82 8,-255.82 8,-249.82 14,-243.82 20,-243.82\"/>\n",
       "<text text-anchor=\"middle\" x=\"94\" y=\"-251.02\" font-family=\"Times New Roman,serif\" font-size=\"14.00\">obs_id (390) x train_cols (3)</text>\n",
       "</g>\n",
       "<g id=\"clust3\" class=\"cluster\">\n",
       "<title>clusterobs_id (390)</title>\n",
       "<path fill=\"none\" stroke=\"black\" d=\"M287,-114C287,-114 373,-114 373,-114 379,-114 385,-120 385,-126 385,-126 385,-223.82 385,-223.82 385,-229.82 379,-235.82 373,-235.82 373,-235.82 287,-235.82 287,-235.82 281,-235.82 275,-229.82 275,-223.82 275,-223.82 275,-126 275,-126 275,-120 281,-114 287,-114\"/>\n",
       "<text text-anchor=\"middle\" x=\"342.5\" y=\"-121.2\" font-family=\"Times New Roman,serif\" font-size=\"14.00\">obs_id (390)</text>\n",
       "</g>\n",
       "<g id=\"clust2\" class=\"cluster\">\n",
       "<title>clusterdims_id (390)</title>\n",
       "<path fill=\"none\" stroke=\"black\" d=\"M290,-8C290,-8 370,-8 370,-8 376,-8 382,-14 382,-20 382,-20 382,-94 382,-94 382,-100 376,-106 370,-106 370,-106 290,-106 290,-106 284,-106 278,-100 278,-94 278,-94 278,-20 278,-20 278,-14 284,-8 290,-8\"/>\n",
       "<text text-anchor=\"middle\" x=\"335.38\" y=\"-15.2\" font-family=\"Times New Roman,serif\" font-size=\"14.00\">dims_id (390)</text>\n",
       "</g>\n",
       "<!-- input -->\n",
       "<g id=\"node1\" class=\"node\">\n",
       "<title>input</title>\n",
       "<path fill=\"lightgrey\" stroke=\"black\" d=\"M158.62,-333.82C158.62,-333.82 95.38,-333.82 95.38,-333.82 89.38,-333.82 83.38,-327.82 83.38,-321.82 83.38,-321.82 83.38,-288.32 83.38,-288.32 83.38,-282.32 89.38,-276.32 95.38,-276.32 95.38,-276.32 158.62,-276.32 158.62,-276.32 164.62,-276.32 170.62,-282.32 170.62,-288.32 170.62,-288.32 170.62,-321.82 170.62,-321.82 170.62,-327.82 164.62,-333.82 158.62,-333.82\"/>\n",
       "<text text-anchor=\"middle\" x=\"127\" y=\"-316.52\" font-family=\"Times New Roman,serif\" font-size=\"14.00\">input</text>\n",
       "<text text-anchor=\"middle\" x=\"127\" y=\"-300.02\" font-family=\"Times New Roman,serif\" font-size=\"14.00\">~</text>\n",
       "<text text-anchor=\"middle\" x=\"127\" y=\"-283.52\" font-family=\"Times New Roman,serif\" font-size=\"14.00\">MutableData</text>\n",
       "</g>\n",
       "<!-- out -->\n",
       "<g id=\"node7\" class=\"node\">\n",
       "<title>out</title>\n",
       "<ellipse fill=\"lightgrey\" stroke=\"black\" cx=\"330\" cy=\"-187.16\" rx=\"47.38\" ry=\"40.66\"/>\n",
       "<text text-anchor=\"middle\" x=\"330\" y=\"-198.61\" font-family=\"Times New Roman,serif\" font-size=\"14.00\">out</text>\n",
       "<text text-anchor=\"middle\" x=\"330\" y=\"-182.11\" font-family=\"Times New Roman,serif\" font-size=\"14.00\">~</text>\n",
       "<text text-anchor=\"middle\" x=\"330\" y=\"-165.61\" font-family=\"Times New Roman,serif\" font-size=\"14.00\">Bernoulli</text>\n",
       "</g>\n",
       "<!-- input&#45;&gt;out -->\n",
       "<g id=\"edge2\" class=\"edge\">\n",
       "<title>input&#45;&gt;out</title>\n",
       "<path fill=\"none\" stroke=\"black\" d=\"M146.73,-276.1C155.81,-264.84 167.37,-252.5 180,-243.82 208.11,-224.49 243.77,-210.9 273.27,-201.99\"/>\n",
       "<polygon fill=\"black\" stroke=\"black\" points=\"274.16,-205.37 282.79,-199.22 272.21,-198.65 274.16,-205.37\"/>\n",
       "</g>\n",
       "<!-- observed -->\n",
       "<g id=\"node2\" class=\"node\">\n",
       "<title>observed</title>\n",
       "<path fill=\"lightgrey\" stroke=\"black\" d=\"M361.62,-98C361.62,-98 298.38,-98 298.38,-98 292.38,-98 286.38,-92 286.38,-86 286.38,-86 286.38,-52.5 286.38,-52.5 286.38,-46.5 292.38,-40.5 298.38,-40.5 298.38,-40.5 361.62,-40.5 361.62,-40.5 367.62,-40.5 373.62,-46.5 373.62,-52.5 373.62,-52.5 373.62,-86 373.62,-86 373.62,-92 367.62,-98 361.62,-98\"/>\n",
       "<text text-anchor=\"middle\" x=\"330\" y=\"-80.7\" font-family=\"Times New Roman,serif\" font-size=\"14.00\">observed</text>\n",
       "<text text-anchor=\"middle\" x=\"330\" y=\"-64.2\" font-family=\"Times New Roman,serif\" font-size=\"14.00\">~</text>\n",
       "<text text-anchor=\"middle\" x=\"330\" y=\"-47.7\" font-family=\"Times New Roman,serif\" font-size=\"14.00\">MutableData</text>\n",
       "</g>\n",
       "<!-- sigma -->\n",
       "<g id=\"node3\" class=\"node\">\n",
       "<title>sigma</title>\n",
       "<ellipse fill=\"none\" stroke=\"black\" cx=\"230\" cy=\"-305.07\" rx=\"41.01\" ry=\"40.66\"/>\n",
       "<text text-anchor=\"middle\" x=\"230\" y=\"-316.52\" font-family=\"Times New Roman,serif\" font-size=\"14.00\">sigma</text>\n",
       "<text text-anchor=\"middle\" x=\"230\" y=\"-300.02\" font-family=\"Times New Roman,serif\" font-size=\"14.00\">~</text>\n",
       "<text text-anchor=\"middle\" x=\"230\" y=\"-283.52\" font-family=\"Times New Roman,serif\" font-size=\"14.00\">Normal</text>\n",
       "</g>\n",
       "<!-- sigma&#45;&gt;out -->\n",
       "<g id=\"edge4\" class=\"edge\">\n",
       "<title>sigma&#45;&gt;out</title>\n",
       "<path fill=\"none\" stroke=\"black\" d=\"M255.46,-272.91C263.26,-263.5 271.92,-253.18 280,-243.82 284.46,-238.66 289.19,-233.27 293.9,-227.97\"/>\n",
       "<polygon fill=\"black\" stroke=\"black\" points=\"296.17,-230.68 300.22,-220.89 290.95,-226.02 296.17,-230.68\"/>\n",
       "</g>\n",
       "<!-- beta -->\n",
       "<g id=\"node4\" class=\"node\">\n",
       "<title>beta</title>\n",
       "<ellipse fill=\"none\" stroke=\"black\" cx=\"330\" cy=\"-305.07\" rx=\"41.01\" ry=\"40.66\"/>\n",
       "<text text-anchor=\"middle\" x=\"330\" y=\"-316.52\" font-family=\"Times New Roman,serif\" font-size=\"14.00\">beta</text>\n",
       "<text text-anchor=\"middle\" x=\"330\" y=\"-300.02\" font-family=\"Times New Roman,serif\" font-size=\"14.00\">~</text>\n",
       "<text text-anchor=\"middle\" x=\"330\" y=\"-283.52\" font-family=\"Times New Roman,serif\" font-size=\"14.00\">Normal</text>\n",
       "</g>\n",
       "<!-- beta&#45;&gt;out -->\n",
       "<g id=\"edge5\" class=\"edge\">\n",
       "<title>beta&#45;&gt;out</title>\n",
       "<path fill=\"none\" stroke=\"black\" d=\"M330,-264.18C330,-256.26 330,-247.83 330,-239.59\"/>\n",
       "<polygon fill=\"black\" stroke=\"black\" points=\"333.5,-239.63 330,-229.63 326.5,-239.63 333.5,-239.63\"/>\n",
       "</g>\n",
       "<!-- sigma_2 -->\n",
       "<g id=\"node5\" class=\"node\">\n",
       "<title>sigma_2</title>\n",
       "<ellipse fill=\"none\" stroke=\"black\" cx=\"433\" cy=\"-305.07\" rx=\"44.19\" ry=\"40.66\"/>\n",
       "<text text-anchor=\"middle\" x=\"433\" y=\"-316.52\" font-family=\"Times New Roman,serif\" font-size=\"14.00\">sigma_2</text>\n",
       "<text text-anchor=\"middle\" x=\"433\" y=\"-300.02\" font-family=\"Times New Roman,serif\" font-size=\"14.00\">~</text>\n",
       "<text text-anchor=\"middle\" x=\"433\" y=\"-283.52\" font-family=\"Times New Roman,serif\" font-size=\"14.00\">Normal</text>\n",
       "</g>\n",
       "<!-- sigma_2&#45;&gt;out -->\n",
       "<g id=\"edge3\" class=\"edge\">\n",
       "<title>sigma_2&#45;&gt;out</title>\n",
       "<path fill=\"none\" stroke=\"black\" d=\"M405.55,-272.74C397.35,-263.42 388.33,-253.19 380,-243.82 375.47,-238.72 370.69,-233.37 365.96,-228.09\"/>\n",
       "<polygon fill=\"black\" stroke=\"black\" points=\"368.91,-226.13 359.62,-221.02 363.69,-230.8 368.91,-226.13\"/>\n",
       "</g>\n",
       "<!-- intercept -->\n",
       "<g id=\"node6\" class=\"node\">\n",
       "<title>intercept</title>\n",
       "<ellipse fill=\"none\" stroke=\"black\" cx=\"540\" cy=\"-305.07\" rx=\"44.72\" ry=\"40.66\"/>\n",
       "<text text-anchor=\"middle\" x=\"540\" y=\"-316.52\" font-family=\"Times New Roman,serif\" font-size=\"14.00\">intercept</text>\n",
       "<text text-anchor=\"middle\" x=\"540\" y=\"-300.02\" font-family=\"Times New Roman,serif\" font-size=\"14.00\">~</text>\n",
       "<text text-anchor=\"middle\" x=\"540\" y=\"-283.52\" font-family=\"Times New Roman,serif\" font-size=\"14.00\">Normal</text>\n",
       "</g>\n",
       "<!-- intercept&#45;&gt;out -->\n",
       "<g id=\"edge6\" class=\"edge\">\n",
       "<title>intercept&#45;&gt;out</title>\n",
       "<path fill=\"none\" stroke=\"black\" d=\"M515.39,-270.75C506.94,-261.04 496.84,-251.1 486,-243.82 456.13,-223.76 418.19,-210.01 387.2,-201.2\"/>\n",
       "<polygon fill=\"black\" stroke=\"black\" points=\"388.16,-197.83 377.59,-198.57 386.31,-204.58 388.16,-197.83\"/>\n",
       "</g>\n",
       "<!-- out&#45;&gt;observed -->\n",
       "<g id=\"edge1\" class=\"edge\">\n",
       "<title>out&#45;&gt;observed</title>\n",
       "<path fill=\"none\" stroke=\"black\" d=\"M330,-146.27C330,-134.38 330,-121.37 330,-109.53\"/>\n",
       "<polygon fill=\"black\" stroke=\"black\" points=\"333.5,-109.67 330,-99.67 326.5,-109.67 333.5,-109.67\"/>\n",
       "</g>\n",
       "</g>\n",
       "</svg>\n"
      ],
      "text/plain": [
       "<graphviz.graphs.Digraph at 0x18189698d60>"
      ]
     },
     "execution_count": 99,
     "metadata": {},
     "output_type": "execute_result"
    }
   ],
   "source": [
    "pm.model_to_graphviz(model_test)"
   ]
  },
  {
   "cell_type": "code",
   "execution_count": 100,
   "metadata": {},
   "outputs": [],
   "source": [
    "trace = approx.sample(draws=5000)\n",
    "#pred_trace = pm.sample(draws=1000,tune=1000,chains=2, cores = 6, init = 'adapt_diag')"
   ]
  },
  {
   "cell_type": "code",
   "execution_count": 101,
   "metadata": {},
   "outputs": [
    {
     "name": "stderr",
     "output_type": "stream",
     "text": [
      "Sampling: [out]\n"
     ]
    },
    {
     "data": {
      "text/html": [
       "\n",
       "<style>\n",
       "    /* Turns off some styling */\n",
       "    progress {\n",
       "        /* gets rid of default border in Firefox and Opera. */\n",
       "        border: none;\n",
       "        /* Needs to be in here for Safari polyfill so background images work as expected. */\n",
       "        background-size: auto;\n",
       "    }\n",
       "    progress:not([value]), progress:not([value])::-webkit-progress-bar {\n",
       "        background: repeating-linear-gradient(45deg, #7e7e7e, #7e7e7e 10px, #5c5c5c 10px, #5c5c5c 20px);\n",
       "    }\n",
       "    .progress-bar-interrupted, .progress-bar-interrupted::-webkit-progress-bar {\n",
       "        background: #F44336;\n",
       "    }\n",
       "</style>\n"
      ],
      "text/plain": [
       "<IPython.core.display.HTML object>"
      ]
     },
     "metadata": {},
     "output_type": "display_data"
    },
    {
     "data": {
      "text/html": [
       "\n",
       "    <div>\n",
       "      <progress value='5000' class='' max='5000' style='width:300px; height:20px; vertical-align: middle;'></progress>\n",
       "      100.00% [5000/5000 00:20&lt;00:00]\n",
       "    </div>\n",
       "    "
      ],
      "text/plain": [
       "<IPython.core.display.HTML object>"
      ]
     },
     "metadata": {},
     "output_type": "display_data"
    }
   ],
   "source": [
    "with model_test:\n",
    "    pm.set_data(new_data={\"input\": X_test})\n",
    "    ppc = pm.sample_posterior_predictive(trace)\n",
    "    trace.extend(ppc)"
   ]
  },
  {
   "cell_type": "code",
   "execution_count": 102,
   "metadata": {},
   "outputs": [
    {
     "data": {
      "text/plain": [
       "((390, 3), (168, 3))"
      ]
     },
     "execution_count": 102,
     "metadata": {},
     "output_type": "execute_result"
    }
   ],
   "source": [
    "X_train.shape, X_test.shape"
   ]
  },
  {
   "cell_type": "code",
   "execution_count": 103,
   "metadata": {},
   "outputs": [],
   "source": [
    "pred = ppc.posterior_predictive[\"out\"].mean((\"chain\", \"draw\")) > 0.50"
   ]
  },
  {
   "cell_type": "code",
   "execution_count": 104,
   "metadata": {},
   "outputs": [
    {
     "name": "stdout",
     "output_type": "stream",
     "text": [
      "Accuracy = 80.95238095238095%\n"
     ]
    }
   ],
   "source": [
    "print(f\"Accuracy = {(y_test == pred.values).mean() * 100}%\")"
   ]
  },
  {
   "cell_type": "code",
   "execution_count": 235,
   "metadata": {},
   "outputs": [],
   "source": [
    "def bayesian_regression_tree(input, output):\n",
    "    coords = {\n",
    "        'train_cols': np.arange(X_train.shape[1]),\n",
    "        #'obs_id': np.arange(X_train.shape[0])\n",
    "    }\n",
    "    with pm.Model(coords=coords) as model:\n",
    "        input = pm.Data('input', X_train, mutable=True, dims=('obs_id','train_cols'))\n",
    "        observed = pm.Data('observed', y_train, mutable=True, dims='dims_id')\n",
    "        intercept = pm.Normal('intercept', mu = 0, sigma = 10)\n",
    "        beta = pm.Normal('beta',mu=0, sigma=5)\n",
    "        beta2 = pm.Normal('beta2', mu=0, sigma=5)\n",
    "        beta3 = pm.Normal('beta3', mu = 1.2, sigma=5)\n",
    "        p = pm.Deterministic('p', pm.math.invlogit(intercept + input[:,0]*beta + input[:,1]*beta2 + input[:,2]*beta3))\n",
    "        final = pm.Bernoulli('out',p , observed = observed, dims='obs_id')\n",
    "        \n",
    "    return model\n",
    "\n",
    "bayesian_regression_tree = bayesian_regression_tree(X_train, y_train)"
   ]
  },
  {
   "cell_type": "code",
   "execution_count": 236,
   "metadata": {},
   "outputs": [
    {
     "data": {
      "text/html": [
       "\n",
       "<style>\n",
       "    /* Turns off some styling */\n",
       "    progress {\n",
       "        /* gets rid of default border in Firefox and Opera. */\n",
       "        border: none;\n",
       "        /* Needs to be in here for Safari polyfill so background images work as expected. */\n",
       "        background-size: auto;\n",
       "    }\n",
       "    progress:not([value]), progress:not([value])::-webkit-progress-bar {\n",
       "        background: repeating-linear-gradient(45deg, #7e7e7e, #7e7e7e 10px, #5c5c5c 10px, #5c5c5c 20px);\n",
       "    }\n",
       "    .progress-bar-interrupted, .progress-bar-interrupted::-webkit-progress-bar {\n",
       "        background: #F44336;\n",
       "    }\n",
       "</style>\n"
      ],
      "text/plain": [
       "<IPython.core.display.HTML object>"
      ]
     },
     "metadata": {},
     "output_type": "display_data"
    },
    {
     "data": {
      "text/html": [
       "\n",
       "    <div>\n",
       "      <progress value='10000' class='' max='10000' style='width:300px; height:20px; vertical-align: middle;'></progress>\n",
       "      100.00% [10000/10000 05:34&lt;00:00 Average Loss = 239.44]\n",
       "    </div>\n",
       "    "
      ],
      "text/plain": [
       "<IPython.core.display.HTML object>"
      ]
     },
     "metadata": {},
     "output_type": "display_data"
    },
    {
     "name": "stderr",
     "output_type": "stream",
     "text": [
      "Finished [100%]: Average Loss = 239.43\n"
     ]
    }
   ],
   "source": [
    "with bayesian_regression_tree:\n",
    "    approx = pm.fit(n=10_000)"
   ]
  },
  {
   "cell_type": "code",
   "execution_count": 123,
   "metadata": {},
   "outputs": [
    {
     "data": {
      "image/svg+xml": [
       "<?xml version=\"1.0\" encoding=\"UTF-8\" standalone=\"no\"?>\n",
       "<!DOCTYPE svg PUBLIC \"-//W3C//DTD SVG 1.1//EN\"\n",
       " \"http://www.w3.org/Graphics/SVG/1.1/DTD/svg11.dtd\">\n",
       "<!-- Generated by graphviz version 9.0.0 (0)\n",
       " -->\n",
       "<!-- Pages: 1 -->\n",
       "<svg width=\"587pt\" height=\"464pt\"\n",
       " viewBox=\"0.00 0.00 586.72 463.82\" xmlns=\"http://www.w3.org/2000/svg\" xmlns:xlink=\"http://www.w3.org/1999/xlink\">\n",
       "<g id=\"graph0\" class=\"graph\" transform=\"scale(1 1) rotate(0) translate(4 459.82)\">\n",
       "<polygon fill=\"white\" stroke=\"none\" points=\"-4,4 -4,-459.82 582.72,-459.82 582.72,4 -4,4\"/>\n",
       "<g id=\"clust3\" class=\"cluster\">\n",
       "<title>cluster390</title>\n",
       "<path fill=\"none\" stroke=\"black\" d=\"M289,-243.82C289,-243.82 371,-243.82 371,-243.82 377,-243.82 383,-249.82 383,-255.82 383,-255.82 383,-329.82 383,-329.82 383,-335.82 377,-341.82 371,-341.82 371,-341.82 289,-341.82 289,-341.82 283,-341.82 277,-335.82 277,-329.82 277,-329.82 277,-255.82 277,-255.82 277,-249.82 283,-243.82 289,-243.82\"/>\n",
       "<text text-anchor=\"middle\" x=\"364.88\" y=\"-251.02\" font-family=\"Times New Roman,serif\" font-size=\"14.00\">390</text>\n",
       "</g>\n",
       "<g id=\"clust1\" class=\"cluster\">\n",
       "<title>clusterobs_id (390) x train_cols (3)</title>\n",
       "<path fill=\"none\" stroke=\"black\" d=\"M20,-349.82C20,-349.82 168,-349.82 168,-349.82 174,-349.82 180,-355.82 180,-361.82 180,-361.82 180,-435.82 180,-435.82 180,-441.82 174,-447.82 168,-447.82 168,-447.82 20,-447.82 20,-447.82 14,-447.82 8,-441.82 8,-435.82 8,-435.82 8,-361.82 8,-361.82 8,-355.82 14,-349.82 20,-349.82\"/>\n",
       "<text text-anchor=\"middle\" x=\"94\" y=\"-357.02\" font-family=\"Times New Roman,serif\" font-size=\"14.00\">obs_id (390) x train_cols (3)</text>\n",
       "</g>\n",
       "<g id=\"clust2\" class=\"cluster\">\n",
       "<title>clusterdims_id (390)</title>\n",
       "<path fill=\"none\" stroke=\"black\" d=\"M290,-8C290,-8 370,-8 370,-8 376,-8 382,-14 382,-20 382,-20 382,-94 382,-94 382,-100 376,-106 370,-106 370,-106 290,-106 290,-106 284,-106 278,-100 278,-94 278,-94 278,-20 278,-20 278,-14 284,-8 290,-8\"/>\n",
       "<text text-anchor=\"middle\" x=\"335.38\" y=\"-15.2\" font-family=\"Times New Roman,serif\" font-size=\"14.00\">dims_id (390)</text>\n",
       "</g>\n",
       "<g id=\"clust4\" class=\"cluster\">\n",
       "<title>clusterobs_id (390)</title>\n",
       "<path fill=\"none\" stroke=\"black\" d=\"M287,-114C287,-114 373,-114 373,-114 379,-114 385,-120 385,-126 385,-126 385,-223.82 385,-223.82 385,-229.82 379,-235.82 373,-235.82 373,-235.82 287,-235.82 287,-235.82 281,-235.82 275,-229.82 275,-223.82 275,-223.82 275,-126 275,-126 275,-120 281,-114 287,-114\"/>\n",
       "<text text-anchor=\"middle\" x=\"342.5\" y=\"-121.2\" font-family=\"Times New Roman,serif\" font-size=\"14.00\">obs_id (390)</text>\n",
       "</g>\n",
       "<!-- input -->\n",
       "<g id=\"node1\" class=\"node\">\n",
       "<title>input</title>\n",
       "<path fill=\"lightgrey\" stroke=\"black\" d=\"M158.62,-439.82C158.62,-439.82 95.38,-439.82 95.38,-439.82 89.38,-439.82 83.38,-433.82 83.38,-427.82 83.38,-427.82 83.38,-394.32 83.38,-394.32 83.38,-388.32 89.38,-382.32 95.38,-382.32 95.38,-382.32 158.62,-382.32 158.62,-382.32 164.62,-382.32 170.62,-388.32 170.62,-394.32 170.62,-394.32 170.62,-427.82 170.62,-427.82 170.62,-433.82 164.62,-439.82 158.62,-439.82\"/>\n",
       "<text text-anchor=\"middle\" x=\"127\" y=\"-422.52\" font-family=\"Times New Roman,serif\" font-size=\"14.00\">input</text>\n",
       "<text text-anchor=\"middle\" x=\"127\" y=\"-406.02\" font-family=\"Times New Roman,serif\" font-size=\"14.00\">~</text>\n",
       "<text text-anchor=\"middle\" x=\"127\" y=\"-389.52\" font-family=\"Times New Roman,serif\" font-size=\"14.00\">MutableData</text>\n",
       "</g>\n",
       "<!-- p -->\n",
       "<g id=\"node7\" class=\"node\">\n",
       "<title>p</title>\n",
       "<polygon fill=\"none\" stroke=\"black\" points=\"375.12,-333.82 284.88,-333.82 284.88,-276.32 375.12,-276.32 375.12,-333.82\"/>\n",
       "<text text-anchor=\"middle\" x=\"330\" y=\"-316.52\" font-family=\"Times New Roman,serif\" font-size=\"14.00\">p</text>\n",
       "<text text-anchor=\"middle\" x=\"330\" y=\"-300.02\" font-family=\"Times New Roman,serif\" font-size=\"14.00\">~</text>\n",
       "<text text-anchor=\"middle\" x=\"330\" y=\"-283.52\" font-family=\"Times New Roman,serif\" font-size=\"14.00\">Deterministic</text>\n",
       "</g>\n",
       "<!-- input&#45;&gt;p -->\n",
       "<g id=\"edge4\" class=\"edge\">\n",
       "<title>input&#45;&gt;p</title>\n",
       "<path fill=\"none\" stroke=\"black\" d=\"M146.19,-381.96C155.26,-370.55 166.95,-358.12 180,-349.82 208.21,-331.87 244.03,-321.06 273.59,-314.68\"/>\n",
       "<polygon fill=\"black\" stroke=\"black\" points=\"273.99,-318.17 283.1,-312.75 272.6,-311.31 273.99,-318.17\"/>\n",
       "</g>\n",
       "<!-- observed -->\n",
       "<g id=\"node2\" class=\"node\">\n",
       "<title>observed</title>\n",
       "<path fill=\"lightgrey\" stroke=\"black\" d=\"M361.62,-98C361.62,-98 298.38,-98 298.38,-98 292.38,-98 286.38,-92 286.38,-86 286.38,-86 286.38,-52.5 286.38,-52.5 286.38,-46.5 292.38,-40.5 298.38,-40.5 298.38,-40.5 361.62,-40.5 361.62,-40.5 367.62,-40.5 373.62,-46.5 373.62,-52.5 373.62,-52.5 373.62,-86 373.62,-86 373.62,-92 367.62,-98 361.62,-98\"/>\n",
       "<text text-anchor=\"middle\" x=\"330\" y=\"-80.7\" font-family=\"Times New Roman,serif\" font-size=\"14.00\">observed</text>\n",
       "<text text-anchor=\"middle\" x=\"330\" y=\"-64.2\" font-family=\"Times New Roman,serif\" font-size=\"14.00\">~</text>\n",
       "<text text-anchor=\"middle\" x=\"330\" y=\"-47.7\" font-family=\"Times New Roman,serif\" font-size=\"14.00\">MutableData</text>\n",
       "</g>\n",
       "<!-- beta2 -->\n",
       "<g id=\"node3\" class=\"node\">\n",
       "<title>beta2</title>\n",
       "<ellipse fill=\"none\" stroke=\"black\" cx=\"230\" cy=\"-411.07\" rx=\"41.01\" ry=\"40.66\"/>\n",
       "<text text-anchor=\"middle\" x=\"230\" y=\"-422.52\" font-family=\"Times New Roman,serif\" font-size=\"14.00\">beta2</text>\n",
       "<text text-anchor=\"middle\" x=\"230\" y=\"-406.02\" font-family=\"Times New Roman,serif\" font-size=\"14.00\">~</text>\n",
       "<text text-anchor=\"middle\" x=\"230\" y=\"-389.52\" font-family=\"Times New Roman,serif\" font-size=\"14.00\">Normal</text>\n",
       "</g>\n",
       "<!-- beta2&#45;&gt;p -->\n",
       "<g id=\"edge3\" class=\"edge\">\n",
       "<title>beta2&#45;&gt;p</title>\n",
       "<path fill=\"none\" stroke=\"black\" d=\"M254.78,-378.29C262.56,-368.85 271.37,-358.68 280,-349.82 282.54,-347.21 285.2,-344.59 287.93,-341.99\"/>\n",
       "<polygon fill=\"black\" stroke=\"black\" points=\"290.17,-344.69 295.13,-335.33 285.41,-339.55 290.17,-344.69\"/>\n",
       "</g>\n",
       "<!-- beta3 -->\n",
       "<g id=\"node4\" class=\"node\">\n",
       "<title>beta3</title>\n",
       "<ellipse fill=\"none\" stroke=\"black\" cx=\"330\" cy=\"-411.07\" rx=\"41.01\" ry=\"40.66\"/>\n",
       "<text text-anchor=\"middle\" x=\"330\" y=\"-422.52\" font-family=\"Times New Roman,serif\" font-size=\"14.00\">beta3</text>\n",
       "<text text-anchor=\"middle\" x=\"330\" y=\"-406.02\" font-family=\"Times New Roman,serif\" font-size=\"14.00\">~</text>\n",
       "<text text-anchor=\"middle\" x=\"330\" y=\"-389.52\" font-family=\"Times New Roman,serif\" font-size=\"14.00\">Normal</text>\n",
       "</g>\n",
       "<!-- beta3&#45;&gt;p -->\n",
       "<g id=\"edge2\" class=\"edge\">\n",
       "<title>beta3&#45;&gt;p</title>\n",
       "<path fill=\"none\" stroke=\"black\" d=\"M330,-370.16C330,-362.07 330,-353.58 330,-345.51\"/>\n",
       "<polygon fill=\"black\" stroke=\"black\" points=\"333.5,-345.61 330,-335.61 326.5,-345.61 333.5,-345.61\"/>\n",
       "</g>\n",
       "<!-- beta -->\n",
       "<g id=\"node5\" class=\"node\">\n",
       "<title>beta</title>\n",
       "<ellipse fill=\"none\" stroke=\"black\" cx=\"430\" cy=\"-411.07\" rx=\"41.01\" ry=\"40.66\"/>\n",
       "<text text-anchor=\"middle\" x=\"430\" y=\"-422.52\" font-family=\"Times New Roman,serif\" font-size=\"14.00\">beta</text>\n",
       "<text text-anchor=\"middle\" x=\"430\" y=\"-406.02\" font-family=\"Times New Roman,serif\" font-size=\"14.00\">~</text>\n",
       "<text text-anchor=\"middle\" x=\"430\" y=\"-389.52\" font-family=\"Times New Roman,serif\" font-size=\"14.00\">Normal</text>\n",
       "</g>\n",
       "<!-- beta&#45;&gt;p -->\n",
       "<g id=\"edge5\" class=\"edge\">\n",
       "<title>beta&#45;&gt;p</title>\n",
       "<path fill=\"none\" stroke=\"black\" d=\"M405.22,-378.29C397.44,-368.85 388.63,-358.68 380,-349.82 377.46,-347.21 374.8,-344.59 372.07,-341.99\"/>\n",
       "<polygon fill=\"black\" stroke=\"black\" points=\"374.59,-339.55 364.87,-335.33 369.83,-344.69 374.59,-339.55\"/>\n",
       "</g>\n",
       "<!-- intercept -->\n",
       "<g id=\"node6\" class=\"node\">\n",
       "<title>intercept</title>\n",
       "<ellipse fill=\"none\" stroke=\"black\" cx=\"534\" cy=\"-411.07\" rx=\"44.72\" ry=\"40.66\"/>\n",
       "<text text-anchor=\"middle\" x=\"534\" y=\"-422.52\" font-family=\"Times New Roman,serif\" font-size=\"14.00\">intercept</text>\n",
       "<text text-anchor=\"middle\" x=\"534\" y=\"-406.02\" font-family=\"Times New Roman,serif\" font-size=\"14.00\">~</text>\n",
       "<text text-anchor=\"middle\" x=\"534\" y=\"-389.52\" font-family=\"Times New Roman,serif\" font-size=\"14.00\">Cauchy</text>\n",
       "</g>\n",
       "<!-- intercept&#45;&gt;p -->\n",
       "<g id=\"edge6\" class=\"edge\">\n",
       "<title>intercept&#45;&gt;p</title>\n",
       "<path fill=\"none\" stroke=\"black\" d=\"M509.92,-376.67C501.42,-366.84 491.17,-356.85 480,-349.82 451.71,-332 415.89,-321.2 386.35,-314.79\"/>\n",
       "<polygon fill=\"black\" stroke=\"black\" points=\"387.34,-311.42 376.84,-312.84 385.94,-318.28 387.34,-311.42\"/>\n",
       "</g>\n",
       "<!-- out -->\n",
       "<g id=\"node8\" class=\"node\">\n",
       "<title>out</title>\n",
       "<ellipse fill=\"lightgrey\" stroke=\"black\" cx=\"330\" cy=\"-187.16\" rx=\"47.38\" ry=\"40.66\"/>\n",
       "<text text-anchor=\"middle\" x=\"330\" y=\"-198.61\" font-family=\"Times New Roman,serif\" font-size=\"14.00\">out</text>\n",
       "<text text-anchor=\"middle\" x=\"330\" y=\"-182.11\" font-family=\"Times New Roman,serif\" font-size=\"14.00\">~</text>\n",
       "<text text-anchor=\"middle\" x=\"330\" y=\"-165.61\" font-family=\"Times New Roman,serif\" font-size=\"14.00\">Bernoulli</text>\n",
       "</g>\n",
       "<!-- p&#45;&gt;out -->\n",
       "<g id=\"edge7\" class=\"edge\">\n",
       "<title>p&#45;&gt;out</title>\n",
       "<path fill=\"none\" stroke=\"black\" d=\"M330,-276.01C330,-265.03 330,-252.08 330,-239.55\"/>\n",
       "<polygon fill=\"black\" stroke=\"black\" points=\"333.5,-239.74 330,-229.74 326.5,-239.74 333.5,-239.74\"/>\n",
       "</g>\n",
       "<!-- out&#45;&gt;observed -->\n",
       "<g id=\"edge1\" class=\"edge\">\n",
       "<title>out&#45;&gt;observed</title>\n",
       "<path fill=\"none\" stroke=\"black\" d=\"M330,-146.27C330,-134.38 330,-121.37 330,-109.53\"/>\n",
       "<polygon fill=\"black\" stroke=\"black\" points=\"333.5,-109.67 330,-99.67 326.5,-109.67 333.5,-109.67\"/>\n",
       "</g>\n",
       "</g>\n",
       "</svg>\n"
      ],
      "text/plain": [
       "<graphviz.graphs.Digraph at 0x18188f0e460>"
      ]
     },
     "execution_count": 123,
     "metadata": {},
     "output_type": "execute_result"
    }
   ],
   "source": [
    "pm.model_to_graphviz(bayesian_regression_tree)"
   ]
  },
  {
   "cell_type": "code",
   "execution_count": 245,
   "metadata": {},
   "outputs": [
    {
     "name": "stderr",
     "output_type": "stream",
     "text": [
      "Sampling: []\n"
     ]
    },
    {
     "data": {
      "text/html": [
       "\n",
       "<style>\n",
       "    /* Turns off some styling */\n",
       "    progress {\n",
       "        /* gets rid of default border in Firefox and Opera. */\n",
       "        border: none;\n",
       "        /* Needs to be in here for Safari polyfill so background images work as expected. */\n",
       "        background-size: auto;\n",
       "    }\n",
       "    progress:not([value]), progress:not([value])::-webkit-progress-bar {\n",
       "        background: repeating-linear-gradient(45deg, #7e7e7e, #7e7e7e 10px, #5c5c5c 10px, #5c5c5c 20px);\n",
       "    }\n",
       "    .progress-bar-interrupted, .progress-bar-interrupted::-webkit-progress-bar {\n",
       "        background: #F44336;\n",
       "    }\n",
       "</style>\n"
      ],
      "text/plain": [
       "<IPython.core.display.HTML object>"
      ]
     },
     "metadata": {},
     "output_type": "display_data"
    },
    {
     "data": {
      "text/html": [
       "\n",
       "    <div>\n",
       "      <progress value='5000' class='' max='5000' style='width:300px; height:20px; vertical-align: middle;'></progress>\n",
       "      100.00% [5000/5000 00:19&lt;00:00]\n",
       "    </div>\n",
       "    "
      ],
      "text/plain": [
       "<IPython.core.display.HTML object>"
      ]
     },
     "metadata": {},
     "output_type": "display_data"
    },
    {
     "name": "stdout",
     "output_type": "stream",
     "text": [
      "Accuracy = 80.35714285714286%\n"
     ]
    }
   ],
   "source": [
    "trace = approx.sample(draws=5000)\n",
    "with bayesian_regression_tree:\n",
    "    pm.set_data(new_data={\"input\": X_test})\n",
    "    ppc = pm.sample_posterior_predictive(trace, var_names=['p'], return_inferencedata=True, predictions=True, extend_inferencedata=True)\n",
    "    trace.extend(ppc)\n",
    "#pred = ppc.posterior_predictive[\"out\"].mean((\"chain\", \"draw\")) > 0.50\n",
    "#print(f\"Accuracy = {(y_test == pred.values).mean() * 100}%\")\n",
    "pred = ppc.predictions['p'].mean(('chain', 'draw')) > 0.50\n",
    "print(f\"Accuracy = {(y_test == pred.values).mean() * 100}%\")"
   ]
  },
  {
   "cell_type": "code",
   "execution_count": 246,
   "metadata": {},
   "outputs": [
    {
     "name": "stderr",
     "output_type": "stream",
     "text": [
      "arviz - WARNING - Shape validation failed: input_shape: (1, 5000), minimum_shape: (chains=2, draws=4)\n"
     ]
    },
    {
     "data": {
      "text/html": [
       "<div>\n",
       "<style scoped>\n",
       "    .dataframe tbody tr th:only-of-type {\n",
       "        vertical-align: middle;\n",
       "    }\n",
       "\n",
       "    .dataframe tbody tr th {\n",
       "        vertical-align: top;\n",
       "    }\n",
       "\n",
       "    .dataframe thead th {\n",
       "        text-align: right;\n",
       "    }\n",
       "</style>\n",
       "<table border=\"1\" class=\"dataframe\">\n",
       "  <thead>\n",
       "    <tr style=\"text-align: right;\">\n",
       "      <th></th>\n",
       "      <th>mean</th>\n",
       "      <th>sd</th>\n",
       "      <th>hdi_3%</th>\n",
       "      <th>hdi_97%</th>\n",
       "      <th>mcse_mean</th>\n",
       "      <th>mcse_sd</th>\n",
       "      <th>ess_bulk</th>\n",
       "      <th>ess_tail</th>\n",
       "      <th>r_hat</th>\n",
       "    </tr>\n",
       "  </thead>\n",
       "  <tbody>\n",
       "    <tr>\n",
       "      <th>intercept</th>\n",
       "      <td>-0.015</td>\n",
       "      <td>0.167</td>\n",
       "      <td>-0.314</td>\n",
       "      <td>0.308</td>\n",
       "      <td>0.002</td>\n",
       "      <td>0.002</td>\n",
       "      <td>4922.0</td>\n",
       "      <td>4544.0</td>\n",
       "      <td>NaN</td>\n",
       "    </tr>\n",
       "    <tr>\n",
       "      <th>beta</th>\n",
       "      <td>0.393</td>\n",
       "      <td>0.166</td>\n",
       "      <td>0.081</td>\n",
       "      <td>0.701</td>\n",
       "      <td>0.003</td>\n",
       "      <td>0.002</td>\n",
       "      <td>3743.0</td>\n",
       "      <td>4364.0</td>\n",
       "      <td>NaN</td>\n",
       "    </tr>\n",
       "    <tr>\n",
       "      <th>beta2</th>\n",
       "      <td>-0.201</td>\n",
       "      <td>0.167</td>\n",
       "      <td>-0.496</td>\n",
       "      <td>0.127</td>\n",
       "      <td>0.002</td>\n",
       "      <td>0.002</td>\n",
       "      <td>4951.0</td>\n",
       "      <td>5023.0</td>\n",
       "      <td>NaN</td>\n",
       "    </tr>\n",
       "    <tr>\n",
       "      <th>beta3</th>\n",
       "      <td>1.235</td>\n",
       "      <td>0.214</td>\n",
       "      <td>0.824</td>\n",
       "      <td>1.626</td>\n",
       "      <td>0.003</td>\n",
       "      <td>0.002</td>\n",
       "      <td>4818.0</td>\n",
       "      <td>4783.0</td>\n",
       "      <td>NaN</td>\n",
       "    </tr>\n",
       "    <tr>\n",
       "      <th>p[0]</th>\n",
       "      <td>0.586</td>\n",
       "      <td>0.063</td>\n",
       "      <td>0.469</td>\n",
       "      <td>0.703</td>\n",
       "      <td>0.001</td>\n",
       "      <td>0.001</td>\n",
       "      <td>4986.0</td>\n",
       "      <td>4669.0</td>\n",
       "      <td>NaN</td>\n",
       "    </tr>\n",
       "    <tr>\n",
       "      <th>...</th>\n",
       "      <td>...</td>\n",
       "      <td>...</td>\n",
       "      <td>...</td>\n",
       "      <td>...</td>\n",
       "      <td>...</td>\n",
       "      <td>...</td>\n",
       "      <td>...</td>\n",
       "      <td>...</td>\n",
       "      <td>...</td>\n",
       "    </tr>\n",
       "    <tr>\n",
       "      <th>p[163]</th>\n",
       "      <td>0.486</td>\n",
       "      <td>0.095</td>\n",
       "      <td>0.316</td>\n",
       "      <td>0.669</td>\n",
       "      <td>0.001</td>\n",
       "      <td>0.001</td>\n",
       "      <td>4679.0</td>\n",
       "      <td>4883.0</td>\n",
       "      <td>NaN</td>\n",
       "    </tr>\n",
       "    <tr>\n",
       "      <th>p[164]</th>\n",
       "      <td>0.658</td>\n",
       "      <td>0.057</td>\n",
       "      <td>0.554</td>\n",
       "      <td>0.768</td>\n",
       "      <td>0.001</td>\n",
       "      <td>0.001</td>\n",
       "      <td>4659.0</td>\n",
       "      <td>4982.0</td>\n",
       "      <td>NaN</td>\n",
       "    </tr>\n",
       "    <tr>\n",
       "      <th>p[165]</th>\n",
       "      <td>0.302</td>\n",
       "      <td>0.056</td>\n",
       "      <td>0.200</td>\n",
       "      <td>0.411</td>\n",
       "      <td>0.001</td>\n",
       "      <td>0.001</td>\n",
       "      <td>4905.0</td>\n",
       "      <td>4594.0</td>\n",
       "      <td>NaN</td>\n",
       "    </tr>\n",
       "    <tr>\n",
       "      <th>p[166]</th>\n",
       "      <td>0.316</td>\n",
       "      <td>0.052</td>\n",
       "      <td>0.222</td>\n",
       "      <td>0.415</td>\n",
       "      <td>0.001</td>\n",
       "      <td>0.001</td>\n",
       "      <td>5038.0</td>\n",
       "      <td>4521.0</td>\n",
       "      <td>NaN</td>\n",
       "    </tr>\n",
       "    <tr>\n",
       "      <th>p[167]</th>\n",
       "      <td>0.400</td>\n",
       "      <td>0.043</td>\n",
       "      <td>0.319</td>\n",
       "      <td>0.477</td>\n",
       "      <td>0.001</td>\n",
       "      <td>0.000</td>\n",
       "      <td>4953.0</td>\n",
       "      <td>4742.0</td>\n",
       "      <td>NaN</td>\n",
       "    </tr>\n",
       "  </tbody>\n",
       "</table>\n",
       "<p>172 rows × 9 columns</p>\n",
       "</div>"
      ],
      "text/plain": [
       "            mean     sd  hdi_3%  hdi_97%  mcse_mean  mcse_sd  ess_bulk  \\\n",
       "intercept -0.015  0.167  -0.314    0.308      0.002    0.002    4922.0   \n",
       "beta       0.393  0.166   0.081    0.701      0.003    0.002    3743.0   \n",
       "beta2     -0.201  0.167  -0.496    0.127      0.002    0.002    4951.0   \n",
       "beta3      1.235  0.214   0.824    1.626      0.003    0.002    4818.0   \n",
       "p[0]       0.586  0.063   0.469    0.703      0.001    0.001    4986.0   \n",
       "...          ...    ...     ...      ...        ...      ...       ...   \n",
       "p[163]     0.486  0.095   0.316    0.669      0.001    0.001    4679.0   \n",
       "p[164]     0.658  0.057   0.554    0.768      0.001    0.001    4659.0   \n",
       "p[165]     0.302  0.056   0.200    0.411      0.001    0.001    4905.0   \n",
       "p[166]     0.316  0.052   0.222    0.415      0.001    0.001    5038.0   \n",
       "p[167]     0.400  0.043   0.319    0.477      0.001    0.000    4953.0   \n",
       "\n",
       "           ess_tail  r_hat  \n",
       "intercept    4544.0    NaN  \n",
       "beta         4364.0    NaN  \n",
       "beta2        5023.0    NaN  \n",
       "beta3        4783.0    NaN  \n",
       "p[0]         4669.0    NaN  \n",
       "...             ...    ...  \n",
       "p[163]       4883.0    NaN  \n",
       "p[164]       4982.0    NaN  \n",
       "p[165]       4594.0    NaN  \n",
       "p[166]       4521.0    NaN  \n",
       "p[167]       4742.0    NaN  \n",
       "\n",
       "[172 rows x 9 columns]"
      ]
     },
     "execution_count": 246,
     "metadata": {},
     "output_type": "execute_result"
    }
   ],
   "source": [
    "az.summary(ppc)"
   ]
  },
  {
   "cell_type": "code",
   "execution_count": 228,
   "metadata": {},
   "outputs": [],
   "source": [
    "import pymc_bart as pmb\n",
    "def bayesian_bart(input, output):\n",
    "    coords = {\n",
    "        'train_cols': np.arange(X_train.shape[1]),\n",
    "        #'obs_id': np.arange(X_train.shape[0])\n",
    "    }\n",
    "    with pm.Model(coords=coords) as model:\n",
    "        input = pm.Data('input', X_train, mutable=True, dims=('obs_id','train_cols'))\n",
    "        observed = pm.Data('observed', y_train, mutable=True, dims='dims_id')\n",
    "        sigma = pm.HalfNormal('sigma', 0.5)\n",
    "        mu = pmb.BART('mu', input.get_value(), observed.get_value(), m=50)\n",
    "        out = pm.Normal('out', mu,sigma, observed=observed)\n",
    "        #out = pm.Bernoulli('y_pred', mu, observed= observed)\n",
    "      \n",
    "        \n",
    "    return model\n",
    "\n",
    "bayesian_bart = bayesian_bart(X_train, y_train)\n"
   ]
  },
  {
   "cell_type": "code",
   "execution_count": 229,
   "metadata": {},
   "outputs": [
    {
     "data": {
      "text/html": [
       "\n",
       "<style>\n",
       "    /* Turns off some styling */\n",
       "    progress {\n",
       "        /* gets rid of default border in Firefox and Opera. */\n",
       "        border: none;\n",
       "        /* Needs to be in here for Safari polyfill so background images work as expected. */\n",
       "        background-size: auto;\n",
       "    }\n",
       "    progress:not([value]), progress:not([value])::-webkit-progress-bar {\n",
       "        background: repeating-linear-gradient(45deg, #7e7e7e, #7e7e7e 10px, #5c5c5c 10px, #5c5c5c 20px);\n",
       "    }\n",
       "    .progress-bar-interrupted, .progress-bar-interrupted::-webkit-progress-bar {\n",
       "        background: #F44336;\n",
       "    }\n",
       "</style>\n"
      ],
      "text/plain": [
       "<IPython.core.display.HTML object>"
      ]
     },
     "metadata": {},
     "output_type": "display_data"
    },
    {
     "data": {
      "text/html": [
       "\n",
       "    <div>\n",
       "      <progress value='2540' class='' max='10000' style='width:300px; height:20px; vertical-align: middle;'></progress>\n",
       "      25.40% [2540/10000 02:12&lt;06:30 Average Loss = 233.95]\n",
       "    </div>\n",
       "    "
      ],
      "text/plain": [
       "<IPython.core.display.HTML object>"
      ]
     },
     "metadata": {},
     "output_type": "display_data"
    },
    {
     "name": "stderr",
     "output_type": "stream",
     "text": [
      "Interrupted at 2,542 [25%]: Average Loss = 476.43\n"
     ]
    }
   ],
   "source": [
    "with bayesian_bart:\n",
    "    approx = pm.fit(n=10_000)"
   ]
  },
  {
   "cell_type": "code",
   "execution_count": 231,
   "metadata": {},
   "outputs": [
    {
     "name": "stderr",
     "output_type": "stream",
     "text": [
      "Multiprocess sampling (4 chains in 4 jobs)\n",
      "CompoundStep\n",
      ">NUTS: [sigma]\n",
      ">PGBART: [mu]\n"
     ]
    },
    {
     "data": {
      "text/html": [
       "\n",
       "<style>\n",
       "    /* Turns off some styling */\n",
       "    progress {\n",
       "        /* gets rid of default border in Firefox and Opera. */\n",
       "        border: none;\n",
       "        /* Needs to be in here for Safari polyfill so background images work as expected. */\n",
       "        background-size: auto;\n",
       "    }\n",
       "    progress:not([value]), progress:not([value])::-webkit-progress-bar {\n",
       "        background: repeating-linear-gradient(45deg, #7e7e7e, #7e7e7e 10px, #5c5c5c 10px, #5c5c5c 20px);\n",
       "    }\n",
       "    .progress-bar-interrupted, .progress-bar-interrupted::-webkit-progress-bar {\n",
       "        background: #F44336;\n",
       "    }\n",
       "</style>\n"
      ],
      "text/plain": [
       "<IPython.core.display.HTML object>"
      ]
     },
     "metadata": {},
     "output_type": "display_data"
    },
    {
     "data": {
      "text/html": [
       "\n",
       "    <div>\n",
       "      <progress value='367' class='' max='8000' style='width:300px; height:20px; vertical-align: middle;'></progress>\n",
       "      4.59% [367/8000 01:48&lt;37:44 Sampling 4 chains, 0 divergences]\n",
       "    </div>\n",
       "    "
      ],
      "text/plain": [
       "<IPython.core.display.HTML object>"
      ]
     },
     "metadata": {},
     "output_type": "display_data"
    },
    {
     "ename": "ValueError",
     "evalue": "Not enough samples to build a trace.",
     "output_type": "error",
     "traceback": [
      "\u001b[1;31m---------------------------------------------------------------------------\u001b[0m",
      "\u001b[1;31mValueError\u001b[0m                                Traceback (most recent call last)",
      "Cell \u001b[1;32mIn[231], line 7\u001b[0m\n\u001b[0;32m      5\u001b[0m mu \u001b[38;5;241m=\u001b[39m pmb\u001b[38;5;241m.\u001b[39mBART(\u001b[38;5;124m'\u001b[39m\u001b[38;5;124mmu\u001b[39m\u001b[38;5;124m'\u001b[39m, \u001b[38;5;28minput\u001b[39m\u001b[38;5;241m.\u001b[39mget_value(), observed\u001b[38;5;241m.\u001b[39mget_value(), m\u001b[38;5;241m=\u001b[39m\u001b[38;5;241m50\u001b[39m)\n\u001b[0;32m      6\u001b[0m out \u001b[38;5;241m=\u001b[39m pm\u001b[38;5;241m.\u001b[39mNormal(\u001b[38;5;124m'\u001b[39m\u001b[38;5;124mout\u001b[39m\u001b[38;5;124m'\u001b[39m, mu,sigma, observed\u001b[38;5;241m=\u001b[39mobserved)\n\u001b[1;32m----> 7\u001b[0m idata_posterior \u001b[38;5;241m=\u001b[39m \u001b[43mpm\u001b[49m\u001b[38;5;241;43m.\u001b[39;49m\u001b[43msample\u001b[49m\u001b[43m(\u001b[49m\u001b[43m)\u001b[49m\n\u001b[0;32m      8\u001b[0m posterior_predictive_bart_model \u001b[38;5;241m=\u001b[39m pm\u001b[38;5;241m.\u001b[39msample_posterior_predictive(trace \u001b[38;5;241m=\u001b[39m idata_posterior)\n",
      "File \u001b[1;32mc:\\Users\\ivo\\.conda\\envs\\fjerez_mlabbe\\lib\\site-packages\\pymc\\sampling\\mcmc.py:827\u001b[0m, in \u001b[0;36msample\u001b[1;34m(draws, tune, chains, cores, random_seed, progressbar, step, nuts_sampler, initvals, init, jitter_max_retries, n_init, trace, discard_tuned_samples, compute_convergence_checks, keep_warning_stat, return_inferencedata, idata_kwargs, nuts_sampler_kwargs, callback, mp_ctx, model, **kwargs)\u001b[0m\n\u001b[0;32m    823\u001b[0m t_sampling \u001b[38;5;241m=\u001b[39m time\u001b[38;5;241m.\u001b[39mtime() \u001b[38;5;241m-\u001b[39m t_start\n\u001b[0;32m    825\u001b[0m \u001b[38;5;66;03m# Packaging, validating and returning the result was extracted\u001b[39;00m\n\u001b[0;32m    826\u001b[0m \u001b[38;5;66;03m# into a function to make it easier to test and refactor.\u001b[39;00m\n\u001b[1;32m--> 827\u001b[0m \u001b[38;5;28;01mreturn\u001b[39;00m \u001b[43m_sample_return\u001b[49m\u001b[43m(\u001b[49m\n\u001b[0;32m    828\u001b[0m \u001b[43m    \u001b[49m\u001b[43mrun\u001b[49m\u001b[38;5;241;43m=\u001b[39;49m\u001b[43mrun\u001b[49m\u001b[43m,\u001b[49m\n\u001b[0;32m    829\u001b[0m \u001b[43m    \u001b[49m\u001b[43mtraces\u001b[49m\u001b[38;5;241;43m=\u001b[39;49m\u001b[43mtraces\u001b[49m\u001b[43m,\u001b[49m\n\u001b[0;32m    830\u001b[0m \u001b[43m    \u001b[49m\u001b[43mtune\u001b[49m\u001b[38;5;241;43m=\u001b[39;49m\u001b[43mtune\u001b[49m\u001b[43m,\u001b[49m\n\u001b[0;32m    831\u001b[0m \u001b[43m    \u001b[49m\u001b[43mt_sampling\u001b[49m\u001b[38;5;241;43m=\u001b[39;49m\u001b[43mt_sampling\u001b[49m\u001b[43m,\u001b[49m\n\u001b[0;32m    832\u001b[0m \u001b[43m    \u001b[49m\u001b[43mdiscard_tuned_samples\u001b[49m\u001b[38;5;241;43m=\u001b[39;49m\u001b[43mdiscard_tuned_samples\u001b[49m\u001b[43m,\u001b[49m\n\u001b[0;32m    833\u001b[0m \u001b[43m    \u001b[49m\u001b[43mcompute_convergence_checks\u001b[49m\u001b[38;5;241;43m=\u001b[39;49m\u001b[43mcompute_convergence_checks\u001b[49m\u001b[43m,\u001b[49m\n\u001b[0;32m    834\u001b[0m \u001b[43m    \u001b[49m\u001b[43mreturn_inferencedata\u001b[49m\u001b[38;5;241;43m=\u001b[39;49m\u001b[43mreturn_inferencedata\u001b[49m\u001b[43m,\u001b[49m\n\u001b[0;32m    835\u001b[0m \u001b[43m    \u001b[49m\u001b[43mkeep_warning_stat\u001b[49m\u001b[38;5;241;43m=\u001b[39;49m\u001b[43mkeep_warning_stat\u001b[49m\u001b[43m,\u001b[49m\n\u001b[0;32m    836\u001b[0m \u001b[43m    \u001b[49m\u001b[43midata_kwargs\u001b[49m\u001b[38;5;241;43m=\u001b[39;49m\u001b[43midata_kwargs\u001b[49m\u001b[43m \u001b[49m\u001b[38;5;129;43;01mor\u001b[39;49;00m\u001b[43m \u001b[49m\u001b[43m{\u001b[49m\u001b[43m}\u001b[49m\u001b[43m,\u001b[49m\n\u001b[0;32m    837\u001b[0m \u001b[43m    \u001b[49m\u001b[43mmodel\u001b[49m\u001b[38;5;241;43m=\u001b[39;49m\u001b[43mmodel\u001b[49m\u001b[43m,\u001b[49m\n\u001b[0;32m    838\u001b[0m \u001b[43m\u001b[49m\u001b[43m)\u001b[49m\n",
      "File \u001b[1;32mc:\\Users\\ivo\\.conda\\envs\\fjerez_mlabbe\\lib\\site-packages\\pymc\\sampling\\mcmc.py:858\u001b[0m, in \u001b[0;36m_sample_return\u001b[1;34m(run, traces, tune, t_sampling, discard_tuned_samples, compute_convergence_checks, return_inferencedata, keep_warning_stat, idata_kwargs, model)\u001b[0m\n\u001b[0;32m    856\u001b[0m \u001b[38;5;66;03m# Pick and slice chains to keep the maximum number of samples\u001b[39;00m\n\u001b[0;32m    857\u001b[0m \u001b[38;5;28;01mif\u001b[39;00m discard_tuned_samples:\n\u001b[1;32m--> 858\u001b[0m     traces, length \u001b[38;5;241m=\u001b[39m \u001b[43m_choose_chains\u001b[49m\u001b[43m(\u001b[49m\u001b[43mtraces\u001b[49m\u001b[43m,\u001b[49m\u001b[43m \u001b[49m\u001b[43mtune\u001b[49m\u001b[43m)\u001b[49m\n\u001b[0;32m    859\u001b[0m \u001b[38;5;28;01melse\u001b[39;00m:\n\u001b[0;32m    860\u001b[0m     traces, length \u001b[38;5;241m=\u001b[39m _choose_chains(traces, \u001b[38;5;241m0\u001b[39m)\n",
      "File \u001b[1;32mc:\\Users\\ivo\\.conda\\envs\\fjerez_mlabbe\\lib\\site-packages\\pymc\\backends\\base.py:601\u001b[0m, in \u001b[0;36m_choose_chains\u001b[1;34m(traces, tune)\u001b[0m\n\u001b[0;32m    599\u001b[0m lengths \u001b[38;5;241m=\u001b[39m [\u001b[38;5;28mmax\u001b[39m(\u001b[38;5;241m0\u001b[39m, \u001b[38;5;28mlen\u001b[39m(trace) \u001b[38;5;241m-\u001b[39m tune) \u001b[38;5;28;01mfor\u001b[39;00m trace \u001b[38;5;129;01min\u001b[39;00m traces]\n\u001b[0;32m    600\u001b[0m \u001b[38;5;28;01mif\u001b[39;00m \u001b[38;5;129;01mnot\u001b[39;00m \u001b[38;5;28msum\u001b[39m(lengths):\n\u001b[1;32m--> 601\u001b[0m     \u001b[38;5;28;01mraise\u001b[39;00m \u001b[38;5;167;01mValueError\u001b[39;00m(\u001b[38;5;124m\"\u001b[39m\u001b[38;5;124mNot enough samples to build a trace.\u001b[39m\u001b[38;5;124m\"\u001b[39m)\n\u001b[0;32m    603\u001b[0m idxs \u001b[38;5;241m=\u001b[39m np\u001b[38;5;241m.\u001b[39margsort(lengths)\n\u001b[0;32m    604\u001b[0m l_sort \u001b[38;5;241m=\u001b[39m np\u001b[38;5;241m.\u001b[39marray(lengths)[idxs]\n",
      "\u001b[1;31mValueError\u001b[0m: Not enough samples to build a trace."
     ]
    }
   ],
   "source": [
    "with pm.Model() as bayesian_bart_model:\n",
    "    input = pm.Data('input', X_train, mutable=True)\n",
    "    observed = pm.Data('observed', y_train, mutable=True)\n",
    "    sigma = pm.HalfNormal('sigma', 0.5)\n",
    "    mu = pmb.BART('mu', input.get_value(), observed.get_value(), m=50)\n",
    "    out = pm.Normal('out', mu,sigma, observed=observed)\n",
    "    idata_posterior = pm.sample()\n",
    "    posterior_predictive_bart_model = pm.sample_posterior_predictive(trace = idata_posterior)"
   ]
  },
  {
   "cell_type": "code",
   "execution_count": 222,
   "metadata": {},
   "outputs": [
    {
     "name": "stderr",
     "output_type": "stream",
     "text": [
      "Sampling: [out]\n"
     ]
    },
    {
     "data": {
      "text/html": [
       "\n",
       "<style>\n",
       "    /* Turns off some styling */\n",
       "    progress {\n",
       "        /* gets rid of default border in Firefox and Opera. */\n",
       "        border: none;\n",
       "        /* Needs to be in here for Safari polyfill so background images work as expected. */\n",
       "        background-size: auto;\n",
       "    }\n",
       "    progress:not([value]), progress:not([value])::-webkit-progress-bar {\n",
       "        background: repeating-linear-gradient(45deg, #7e7e7e, #7e7e7e 10px, #5c5c5c 10px, #5c5c5c 20px);\n",
       "    }\n",
       "    .progress-bar-interrupted, .progress-bar-interrupted::-webkit-progress-bar {\n",
       "        background: #F44336;\n",
       "    }\n",
       "</style>\n"
      ],
      "text/plain": [
       "<IPython.core.display.HTML object>"
      ]
     },
     "metadata": {},
     "output_type": "display_data"
    },
    {
     "data": {
      "text/html": [
       "\n",
       "    <div>\n",
       "      <progress value='5000' class='' max='5000' style='width:300px; height:20px; vertical-align: middle;'></progress>\n",
       "      100.00% [5000/5000 00:00&lt;00:00]\n",
       "    </div>\n",
       "    "
      ],
      "text/plain": [
       "<IPython.core.display.HTML object>"
      ]
     },
     "metadata": {},
     "output_type": "display_data"
    }
   ],
   "source": [
    "trace = approx.sample(draws=5000)\n",
    "with bayesian_bart:\n",
    "    pm.set_data(new_data={\"input\": X_test})\n",
    "    ppc = pm.sample_posterior_predictive(trace)#return_inferencedata=True, predictions=True, extend_inferencedata=True)\n",
    "    trace.extend(ppc)\n",
    "    \n",
    "#pred = ppc.posterior_predictive[\"out\"].mean((\"chain\", \"draw\")) > 0.50\n",
    "#print(f\"Accuracy = {(y_test == pred.values).mean() * 100}%\")\n",
    "#pred = ppc.predictions['out'].mean(('chain', 'draw')) > 0.50\n",
    "#print(f\"Accuracy = {(y_test == pred.values).mean() * 100}%\")"
   ]
  },
  {
   "cell_type": "code",
   "execution_count": 184,
   "metadata": {},
   "outputs": [
    {
     "name": "stderr",
     "output_type": "stream",
     "text": [
      "Multiprocess sampling (4 chains in 4 jobs)\n",
      "CompoundStep\n",
      ">NUTS: [σ]\n",
      ">PGBART: [μ]\n"
     ]
    },
    {
     "data": {
      "text/html": [
       "\n",
       "<style>\n",
       "    /* Turns off some styling */\n",
       "    progress {\n",
       "        /* gets rid of default border in Firefox and Opera. */\n",
       "        border: none;\n",
       "        /* Needs to be in here for Safari polyfill so background images work as expected. */\n",
       "        background-size: auto;\n",
       "    }\n",
       "    progress:not([value]), progress:not([value])::-webkit-progress-bar {\n",
       "        background: repeating-linear-gradient(45deg, #7e7e7e, #7e7e7e 10px, #5c5c5c 10px, #5c5c5c 20px);\n",
       "    }\n",
       "    .progress-bar-interrupted, .progress-bar-interrupted::-webkit-progress-bar {\n",
       "        background: #F44336;\n",
       "    }\n",
       "</style>\n"
      ],
      "text/plain": [
       "<IPython.core.display.HTML object>"
      ]
     },
     "metadata": {},
     "output_type": "display_data"
    },
    {
     "data": {
      "text/html": [
       "\n",
       "    <div>\n",
       "      <progress value='142' class='' max='8000' style='width:300px; height:20px; vertical-align: middle;'></progress>\n",
       "      1.77% [142/8000 00:42&lt;39:12 Sampling 4 chains, 0 divergences]\n",
       "    </div>\n",
       "    "
      ],
      "text/plain": [
       "<IPython.core.display.HTML object>"
      ]
     },
     "metadata": {},
     "output_type": "display_data"
    },
    {
     "ename": "ValueError",
     "evalue": "Not enough samples to build a trace.",
     "output_type": "error",
     "traceback": [
      "\u001b[1;31m---------------------------------------------------------------------------\u001b[0m",
      "\u001b[1;31mValueError\u001b[0m                                Traceback (most recent call last)",
      "Cell \u001b[1;32mIn[184], line 6\u001b[0m\n\u001b[0;32m      4\u001b[0m μ \u001b[38;5;241m=\u001b[39m pmb\u001b[38;5;241m.\u001b[39mBART(\u001b[38;5;124m\"\u001b[39m\u001b[38;5;124mμ\u001b[39m\u001b[38;5;124m\"\u001b[39m, pred\u001b[38;5;241m.\u001b[39mget_value(), y_train, m\u001b[38;5;241m=\u001b[39m\u001b[38;5;241m50\u001b[39m)\n\u001b[0;32m      5\u001b[0m y \u001b[38;5;241m=\u001b[39m pm\u001b[38;5;241m.\u001b[39mNormal(\u001b[38;5;124m\"\u001b[39m\u001b[38;5;124my\u001b[39m\u001b[38;5;124m\"\u001b[39m, μ, σ, observed\u001b[38;5;241m=\u001b[39my_train)\n\u001b[1;32m----> 6\u001b[0m idata_2 \u001b[38;5;241m=\u001b[39m \u001b[43mpm\u001b[49m\u001b[38;5;241;43m.\u001b[39;49m\u001b[43msample\u001b[49m\u001b[43m(\u001b[49m\u001b[43mrandom_seed\u001b[49m\u001b[38;5;241;43m=\u001b[39;49m\u001b[38;5;241;43m42\u001b[39;49m\u001b[43m)\u001b[49m\n",
      "File \u001b[1;32mc:\\Users\\ivo\\.conda\\envs\\fjerez_mlabbe\\lib\\site-packages\\pymc\\sampling\\mcmc.py:827\u001b[0m, in \u001b[0;36msample\u001b[1;34m(draws, tune, chains, cores, random_seed, progressbar, step, nuts_sampler, initvals, init, jitter_max_retries, n_init, trace, discard_tuned_samples, compute_convergence_checks, keep_warning_stat, return_inferencedata, idata_kwargs, nuts_sampler_kwargs, callback, mp_ctx, model, **kwargs)\u001b[0m\n\u001b[0;32m    823\u001b[0m t_sampling \u001b[38;5;241m=\u001b[39m time\u001b[38;5;241m.\u001b[39mtime() \u001b[38;5;241m-\u001b[39m t_start\n\u001b[0;32m    825\u001b[0m \u001b[38;5;66;03m# Packaging, validating and returning the result was extracted\u001b[39;00m\n\u001b[0;32m    826\u001b[0m \u001b[38;5;66;03m# into a function to make it easier to test and refactor.\u001b[39;00m\n\u001b[1;32m--> 827\u001b[0m \u001b[38;5;28;01mreturn\u001b[39;00m \u001b[43m_sample_return\u001b[49m\u001b[43m(\u001b[49m\n\u001b[0;32m    828\u001b[0m \u001b[43m    \u001b[49m\u001b[43mrun\u001b[49m\u001b[38;5;241;43m=\u001b[39;49m\u001b[43mrun\u001b[49m\u001b[43m,\u001b[49m\n\u001b[0;32m    829\u001b[0m \u001b[43m    \u001b[49m\u001b[43mtraces\u001b[49m\u001b[38;5;241;43m=\u001b[39;49m\u001b[43mtraces\u001b[49m\u001b[43m,\u001b[49m\n\u001b[0;32m    830\u001b[0m \u001b[43m    \u001b[49m\u001b[43mtune\u001b[49m\u001b[38;5;241;43m=\u001b[39;49m\u001b[43mtune\u001b[49m\u001b[43m,\u001b[49m\n\u001b[0;32m    831\u001b[0m \u001b[43m    \u001b[49m\u001b[43mt_sampling\u001b[49m\u001b[38;5;241;43m=\u001b[39;49m\u001b[43mt_sampling\u001b[49m\u001b[43m,\u001b[49m\n\u001b[0;32m    832\u001b[0m \u001b[43m    \u001b[49m\u001b[43mdiscard_tuned_samples\u001b[49m\u001b[38;5;241;43m=\u001b[39;49m\u001b[43mdiscard_tuned_samples\u001b[49m\u001b[43m,\u001b[49m\n\u001b[0;32m    833\u001b[0m \u001b[43m    \u001b[49m\u001b[43mcompute_convergence_checks\u001b[49m\u001b[38;5;241;43m=\u001b[39;49m\u001b[43mcompute_convergence_checks\u001b[49m\u001b[43m,\u001b[49m\n\u001b[0;32m    834\u001b[0m \u001b[43m    \u001b[49m\u001b[43mreturn_inferencedata\u001b[49m\u001b[38;5;241;43m=\u001b[39;49m\u001b[43mreturn_inferencedata\u001b[49m\u001b[43m,\u001b[49m\n\u001b[0;32m    835\u001b[0m \u001b[43m    \u001b[49m\u001b[43mkeep_warning_stat\u001b[49m\u001b[38;5;241;43m=\u001b[39;49m\u001b[43mkeep_warning_stat\u001b[49m\u001b[43m,\u001b[49m\n\u001b[0;32m    836\u001b[0m \u001b[43m    \u001b[49m\u001b[43midata_kwargs\u001b[49m\u001b[38;5;241;43m=\u001b[39;49m\u001b[43midata_kwargs\u001b[49m\u001b[43m \u001b[49m\u001b[38;5;129;43;01mor\u001b[39;49;00m\u001b[43m \u001b[49m\u001b[43m{\u001b[49m\u001b[43m}\u001b[49m\u001b[43m,\u001b[49m\n\u001b[0;32m    837\u001b[0m \u001b[43m    \u001b[49m\u001b[43mmodel\u001b[49m\u001b[38;5;241;43m=\u001b[39;49m\u001b[43mmodel\u001b[49m\u001b[43m,\u001b[49m\n\u001b[0;32m    838\u001b[0m \u001b[43m\u001b[49m\u001b[43m)\u001b[49m\n",
      "File \u001b[1;32mc:\\Users\\ivo\\.conda\\envs\\fjerez_mlabbe\\lib\\site-packages\\pymc\\sampling\\mcmc.py:858\u001b[0m, in \u001b[0;36m_sample_return\u001b[1;34m(run, traces, tune, t_sampling, discard_tuned_samples, compute_convergence_checks, return_inferencedata, keep_warning_stat, idata_kwargs, model)\u001b[0m\n\u001b[0;32m    856\u001b[0m \u001b[38;5;66;03m# Pick and slice chains to keep the maximum number of samples\u001b[39;00m\n\u001b[0;32m    857\u001b[0m \u001b[38;5;28;01mif\u001b[39;00m discard_tuned_samples:\n\u001b[1;32m--> 858\u001b[0m     traces, length \u001b[38;5;241m=\u001b[39m \u001b[43m_choose_chains\u001b[49m\u001b[43m(\u001b[49m\u001b[43mtraces\u001b[49m\u001b[43m,\u001b[49m\u001b[43m \u001b[49m\u001b[43mtune\u001b[49m\u001b[43m)\u001b[49m\n\u001b[0;32m    859\u001b[0m \u001b[38;5;28;01melse\u001b[39;00m:\n\u001b[0;32m    860\u001b[0m     traces, length \u001b[38;5;241m=\u001b[39m _choose_chains(traces, \u001b[38;5;241m0\u001b[39m)\n",
      "File \u001b[1;32mc:\\Users\\ivo\\.conda\\envs\\fjerez_mlabbe\\lib\\site-packages\\pymc\\backends\\base.py:601\u001b[0m, in \u001b[0;36m_choose_chains\u001b[1;34m(traces, tune)\u001b[0m\n\u001b[0;32m    599\u001b[0m lengths \u001b[38;5;241m=\u001b[39m [\u001b[38;5;28mmax\u001b[39m(\u001b[38;5;241m0\u001b[39m, \u001b[38;5;28mlen\u001b[39m(trace) \u001b[38;5;241m-\u001b[39m tune) \u001b[38;5;28;01mfor\u001b[39;00m trace \u001b[38;5;129;01min\u001b[39;00m traces]\n\u001b[0;32m    600\u001b[0m \u001b[38;5;28;01mif\u001b[39;00m \u001b[38;5;129;01mnot\u001b[39;00m \u001b[38;5;28msum\u001b[39m(lengths):\n\u001b[1;32m--> 601\u001b[0m     \u001b[38;5;28;01mraise\u001b[39;00m \u001b[38;5;167;01mValueError\u001b[39;00m(\u001b[38;5;124m\"\u001b[39m\u001b[38;5;124mNot enough samples to build a trace.\u001b[39m\u001b[38;5;124m\"\u001b[39m)\n\u001b[0;32m    603\u001b[0m idxs \u001b[38;5;241m=\u001b[39m np\u001b[38;5;241m.\u001b[39margsort(lengths)\n\u001b[0;32m    604\u001b[0m l_sort \u001b[38;5;241m=\u001b[39m np\u001b[38;5;241m.\u001b[39marray(lengths)[idxs]\n",
      "\u001b[1;31mValueError\u001b[0m: Not enough samples to build a trace."
     ]
    }
   ],
   "source": [
    "with pm.Model() as model_2:\n",
    "    pred = pm.MutableData(\"pred\", X_train)\n",
    "    σ = pm.HalfNormal(\"σ\", y_train.std())\n",
    "    μ = pmb.BART(\"μ\", pred.get_value(), y_train, m=50)\n",
    "    y = pm.Normal(\"y\", μ, σ, observed=y_train)\n",
    "    idata_2 = pm.sample(random_seed=42)"
   ]
  },
  {
   "cell_type": "code",
   "execution_count": 227,
   "metadata": {},
   "outputs": [
    {
     "name": "stderr",
     "output_type": "stream",
     "text": [
      "Multiprocess sampling (4 chains in 4 jobs)\n",
      "CompoundStep\n",
      ">NUTS: [α]\n",
      ">PGBART: [μ]\n"
     ]
    },
    {
     "data": {
      "text/html": [
       "\n",
       "<style>\n",
       "    /* Turns off some styling */\n",
       "    progress {\n",
       "        /* gets rid of default border in Firefox and Opera. */\n",
       "        border: none;\n",
       "        /* Needs to be in here for Safari polyfill so background images work as expected. */\n",
       "        background-size: auto;\n",
       "    }\n",
       "    progress:not([value]), progress:not([value])::-webkit-progress-bar {\n",
       "        background: repeating-linear-gradient(45deg, #7e7e7e, #7e7e7e 10px, #5c5c5c 10px, #5c5c5c 20px);\n",
       "    }\n",
       "    .progress-bar-interrupted, .progress-bar-interrupted::-webkit-progress-bar {\n",
       "        background: #F44336;\n",
       "    }\n",
       "</style>\n"
      ],
      "text/plain": [
       "<IPython.core.display.HTML object>"
      ]
     },
     "metadata": {},
     "output_type": "display_data"
    },
    {
     "data": {
      "text/html": [
       "\n",
       "    <div>\n",
       "      <progress value='26' class='' max='8000' style='width:300px; height:20px; vertical-align: middle;'></progress>\n",
       "      0.33% [26/8000 00:37&lt;3:12:12 Sampling 4 chains, 0 divergences]\n",
       "    </div>\n",
       "    "
      ],
      "text/plain": [
       "<IPython.core.display.HTML object>"
      ]
     },
     "metadata": {},
     "output_type": "display_data"
    },
    {
     "ename": "ValueError",
     "evalue": "Not enough samples to build a trace.",
     "output_type": "error",
     "traceback": [
      "\u001b[1;31m---------------------------------------------------------------------------\u001b[0m",
      "\u001b[1;31mValueError\u001b[0m                                Traceback (most recent call last)",
      "Cell \u001b[1;32mIn[227], line 7\u001b[0m\n\u001b[0;32m      5\u001b[0m μ \u001b[38;5;241m=\u001b[39m pmb\u001b[38;5;241m.\u001b[39mBART(\u001b[38;5;124m\"\u001b[39m\u001b[38;5;124mμ\u001b[39m\u001b[38;5;124m\"\u001b[39m, X, Y)\n\u001b[0;32m      6\u001b[0m y \u001b[38;5;241m=\u001b[39m pm\u001b[38;5;241m.\u001b[39mNegativeBinomial(\u001b[38;5;124m\"\u001b[39m\u001b[38;5;124my\u001b[39m\u001b[38;5;124m\"\u001b[39m, mu\u001b[38;5;241m=\u001b[39mpm\u001b[38;5;241m.\u001b[39mmath\u001b[38;5;241m.\u001b[39mexp(μ), alpha\u001b[38;5;241m=\u001b[39mα, observed\u001b[38;5;241m=\u001b[39mY, shape\u001b[38;5;241m=\u001b[39mμ\u001b[38;5;241m.\u001b[39mshape)\n\u001b[1;32m----> 7\u001b[0m idata_oos_regression \u001b[38;5;241m=\u001b[39m \u001b[43mpm\u001b[49m\u001b[38;5;241;43m.\u001b[39;49m\u001b[43msample\u001b[49m\u001b[43m(\u001b[49m\u001b[43m)\u001b[49m\n\u001b[0;32m      8\u001b[0m posterior_predictive_oos_regression_train \u001b[38;5;241m=\u001b[39m pm\u001b[38;5;241m.\u001b[39msample_posterior_predictive(\n\u001b[0;32m      9\u001b[0m     trace\u001b[38;5;241m=\u001b[39midata_oos_regression)\n",
      "File \u001b[1;32mc:\\Users\\ivo\\.conda\\envs\\fjerez_mlabbe\\lib\\site-packages\\pymc\\sampling\\mcmc.py:827\u001b[0m, in \u001b[0;36msample\u001b[1;34m(draws, tune, chains, cores, random_seed, progressbar, step, nuts_sampler, initvals, init, jitter_max_retries, n_init, trace, discard_tuned_samples, compute_convergence_checks, keep_warning_stat, return_inferencedata, idata_kwargs, nuts_sampler_kwargs, callback, mp_ctx, model, **kwargs)\u001b[0m\n\u001b[0;32m    823\u001b[0m t_sampling \u001b[38;5;241m=\u001b[39m time\u001b[38;5;241m.\u001b[39mtime() \u001b[38;5;241m-\u001b[39m t_start\n\u001b[0;32m    825\u001b[0m \u001b[38;5;66;03m# Packaging, validating and returning the result was extracted\u001b[39;00m\n\u001b[0;32m    826\u001b[0m \u001b[38;5;66;03m# into a function to make it easier to test and refactor.\u001b[39;00m\n\u001b[1;32m--> 827\u001b[0m \u001b[38;5;28;01mreturn\u001b[39;00m \u001b[43m_sample_return\u001b[49m\u001b[43m(\u001b[49m\n\u001b[0;32m    828\u001b[0m \u001b[43m    \u001b[49m\u001b[43mrun\u001b[49m\u001b[38;5;241;43m=\u001b[39;49m\u001b[43mrun\u001b[49m\u001b[43m,\u001b[49m\n\u001b[0;32m    829\u001b[0m \u001b[43m    \u001b[49m\u001b[43mtraces\u001b[49m\u001b[38;5;241;43m=\u001b[39;49m\u001b[43mtraces\u001b[49m\u001b[43m,\u001b[49m\n\u001b[0;32m    830\u001b[0m \u001b[43m    \u001b[49m\u001b[43mtune\u001b[49m\u001b[38;5;241;43m=\u001b[39;49m\u001b[43mtune\u001b[49m\u001b[43m,\u001b[49m\n\u001b[0;32m    831\u001b[0m \u001b[43m    \u001b[49m\u001b[43mt_sampling\u001b[49m\u001b[38;5;241;43m=\u001b[39;49m\u001b[43mt_sampling\u001b[49m\u001b[43m,\u001b[49m\n\u001b[0;32m    832\u001b[0m \u001b[43m    \u001b[49m\u001b[43mdiscard_tuned_samples\u001b[49m\u001b[38;5;241;43m=\u001b[39;49m\u001b[43mdiscard_tuned_samples\u001b[49m\u001b[43m,\u001b[49m\n\u001b[0;32m    833\u001b[0m \u001b[43m    \u001b[49m\u001b[43mcompute_convergence_checks\u001b[49m\u001b[38;5;241;43m=\u001b[39;49m\u001b[43mcompute_convergence_checks\u001b[49m\u001b[43m,\u001b[49m\n\u001b[0;32m    834\u001b[0m \u001b[43m    \u001b[49m\u001b[43mreturn_inferencedata\u001b[49m\u001b[38;5;241;43m=\u001b[39;49m\u001b[43mreturn_inferencedata\u001b[49m\u001b[43m,\u001b[49m\n\u001b[0;32m    835\u001b[0m \u001b[43m    \u001b[49m\u001b[43mkeep_warning_stat\u001b[49m\u001b[38;5;241;43m=\u001b[39;49m\u001b[43mkeep_warning_stat\u001b[49m\u001b[43m,\u001b[49m\n\u001b[0;32m    836\u001b[0m \u001b[43m    \u001b[49m\u001b[43midata_kwargs\u001b[49m\u001b[38;5;241;43m=\u001b[39;49m\u001b[43midata_kwargs\u001b[49m\u001b[43m \u001b[49m\u001b[38;5;129;43;01mor\u001b[39;49;00m\u001b[43m \u001b[49m\u001b[43m{\u001b[49m\u001b[43m}\u001b[49m\u001b[43m,\u001b[49m\n\u001b[0;32m    837\u001b[0m \u001b[43m    \u001b[49m\u001b[43mmodel\u001b[49m\u001b[38;5;241;43m=\u001b[39;49m\u001b[43mmodel\u001b[49m\u001b[43m,\u001b[49m\n\u001b[0;32m    838\u001b[0m \u001b[43m\u001b[49m\u001b[43m)\u001b[49m\n",
      "File \u001b[1;32mc:\\Users\\ivo\\.conda\\envs\\fjerez_mlabbe\\lib\\site-packages\\pymc\\sampling\\mcmc.py:858\u001b[0m, in \u001b[0;36m_sample_return\u001b[1;34m(run, traces, tune, t_sampling, discard_tuned_samples, compute_convergence_checks, return_inferencedata, keep_warning_stat, idata_kwargs, model)\u001b[0m\n\u001b[0;32m    856\u001b[0m \u001b[38;5;66;03m# Pick and slice chains to keep the maximum number of samples\u001b[39;00m\n\u001b[0;32m    857\u001b[0m \u001b[38;5;28;01mif\u001b[39;00m discard_tuned_samples:\n\u001b[1;32m--> 858\u001b[0m     traces, length \u001b[38;5;241m=\u001b[39m \u001b[43m_choose_chains\u001b[49m\u001b[43m(\u001b[49m\u001b[43mtraces\u001b[49m\u001b[43m,\u001b[49m\u001b[43m \u001b[49m\u001b[43mtune\u001b[49m\u001b[43m)\u001b[49m\n\u001b[0;32m    859\u001b[0m \u001b[38;5;28;01melse\u001b[39;00m:\n\u001b[0;32m    860\u001b[0m     traces, length \u001b[38;5;241m=\u001b[39m _choose_chains(traces, \u001b[38;5;241m0\u001b[39m)\n",
      "File \u001b[1;32mc:\\Users\\ivo\\.conda\\envs\\fjerez_mlabbe\\lib\\site-packages\\pymc\\backends\\base.py:601\u001b[0m, in \u001b[0;36m_choose_chains\u001b[1;34m(traces, tune)\u001b[0m\n\u001b[0;32m    599\u001b[0m lengths \u001b[38;5;241m=\u001b[39m [\u001b[38;5;28mmax\u001b[39m(\u001b[38;5;241m0\u001b[39m, \u001b[38;5;28mlen\u001b[39m(trace) \u001b[38;5;241m-\u001b[39m tune) \u001b[38;5;28;01mfor\u001b[39;00m trace \u001b[38;5;129;01min\u001b[39;00m traces]\n\u001b[0;32m    600\u001b[0m \u001b[38;5;28;01mif\u001b[39;00m \u001b[38;5;129;01mnot\u001b[39;00m \u001b[38;5;28msum\u001b[39m(lengths):\n\u001b[1;32m--> 601\u001b[0m     \u001b[38;5;28;01mraise\u001b[39;00m \u001b[38;5;167;01mValueError\u001b[39;00m(\u001b[38;5;124m\"\u001b[39m\u001b[38;5;124mNot enough samples to build a trace.\u001b[39m\u001b[38;5;124m\"\u001b[39m)\n\u001b[0;32m    603\u001b[0m idxs \u001b[38;5;241m=\u001b[39m np\u001b[38;5;241m.\u001b[39margsort(lengths)\n\u001b[0;32m    604\u001b[0m l_sort \u001b[38;5;241m=\u001b[39m np\u001b[38;5;241m.\u001b[39marray(lengths)[idxs]\n",
      "\u001b[1;31mValueError\u001b[0m: Not enough samples to build a trace."
     ]
    }
   ],
   "source": [
    "with pm.Model() as model_oos_regression:\n",
    "    X = pm.MutableData(\"X\", X_train)\n",
    "    Y = y_train\n",
    "    α = pm.Exponential(\"α\", 1)\n",
    "    μ = pmb.BART(\"μ\", X, Y)\n",
    "    y = pm.NegativeBinomial(\"y\", mu=pm.math.exp(μ), alpha=α, observed=Y, shape=μ.shape)\n",
    "    idata_oos_regression = pm.sample()\n",
    "    posterior_predictive_oos_regression_train = pm.sample_posterior_predictive(\n",
    "        trace=idata_oos_regression)"
   ]
  },
  {
   "cell_type": "code",
   "execution_count": null,
   "metadata": {},
   "outputs": [],
   "source": []
  }
 ],
 "metadata": {
  "kernelspec": {
   "display_name": "fjerez_mlabbe",
   "language": "python",
   "name": "python3"
  },
  "language_info": {
   "codemirror_mode": {
    "name": "ipython",
    "version": 3
   },
   "file_extension": ".py",
   "mimetype": "text/x-python",
   "name": "python",
   "nbconvert_exporter": "python",
   "pygments_lexer": "ipython3",
   "version": "3.9.0"
  }
 },
 "nbformat": 4,
 "nbformat_minor": 2
}
