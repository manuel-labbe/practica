{
 "cells": [
  {
   "cell_type": "code",
   "execution_count": 2,
   "metadata": {},
   "outputs": [
    {
     "name": "stderr",
     "output_type": "stream",
     "text": [
      "WARNING (pytensor.tensor.blas): Using NumPy C-API based implementation for BLAS functions.\n"
     ]
    }
   ],
   "source": [
    "import pandas as pd\n",
    "import numpy as np\n",
    "import seaborn as sns\n",
    "import arviz as az\n",
    "import pymc as pm\n",
    "import matplotlib.pyplot as plt"
   ]
  },
  {
   "cell_type": "code",
   "execution_count": 5,
   "metadata": {},
   "outputs": [
    {
     "name": "stdout",
     "output_type": "stream",
     "text": [
      " El volumen de la unidad C no tiene etiqueta.\n",
      " El n�mero de serie del volumen es: C478-3753\n",
      "\n",
      " Directorio de c:\\Users\\Manuel\\Desktop\\mlabbe\\practica\n",
      "\n",
      "24-12-2023  13:31    <DIR>          .\n",
      "24-12-2023  13:31    <DIR>          ..\n",
      "23-12-2023  21:04    <DIR>          data\n",
      "24-12-2023  13:25               213 fjerez_mlabbe.yml\n",
      "23-12-2023  21:08           151.967 fundamentos_red_bayesiana.pdf\n",
      "23-12-2023  21:05    <DIR>          mlabbe\n",
      "24-12-2023  01:50                 0 modelos.ipynb\n",
      "23-12-2023  21:03    <DIR>          models\n",
      "23-12-2023  20:56                39 README.md\n",
      "               4 archivos        152.219 bytes\n",
      "               5 dirs  38.125.744.128 bytes libres\n"
     ]
    }
   ],
   "source": [
    "ls"
   ]
  },
  {
   "cell_type": "code",
   "execution_count": null,
   "metadata": {},
   "outputs": [],
   "source": []
  },
  {
   "cell_type": "code",
   "execution_count": 4,
   "metadata": {},
   "outputs": [
    {
     "ename": "SyntaxError",
     "evalue": "(unicode error) 'unicodeescape' codec can't decode bytes in position 5-6: malformed \\N character escape (3816220630.py, line 1)",
     "output_type": "error",
     "traceback": [
      "\u001b[1;36m  Cell \u001b[1;32mIn[4], line 1\u001b[1;36m\u001b[0m\n\u001b[1;33m    PATH = '\\data\\New_DB.xlsx'\u001b[0m\n\u001b[1;37m                              ^\u001b[0m\n\u001b[1;31mSyntaxError\u001b[0m\u001b[1;31m:\u001b[0m (unicode error) 'unicodeescape' codec can't decode bytes in position 5-6: malformed \\N character escape\n"
     ]
    }
   ],
   "source": [
    "PATH = '/data/New_DB.xlsx'\n",
    "df = pd.read_excel(PATH)"
   ]
  },
  {
   "cell_type": "code",
   "execution_count": null,
   "metadata": {},
   "outputs": [],
   "source": []
  }
 ],
 "metadata": {
  "kernelspec": {
   "display_name": "fjerez_mlabbe",
   "language": "python",
   "name": "python3"
  },
  "language_info": {
   "codemirror_mode": {
    "name": "ipython",
    "version": 3
   },
   "file_extension": ".py",
   "mimetype": "text/x-python",
   "name": "python",
   "nbconvert_exporter": "python",
   "pygments_lexer": "ipython3",
   "version": "3.9.0"
  }
 },
 "nbformat": 4,
 "nbformat_minor": 2
}
