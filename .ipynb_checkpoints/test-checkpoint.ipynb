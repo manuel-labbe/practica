{
 "cells": [
  {
   "cell_type": "code",
   "execution_count": 65,
   "metadata": {},
   "outputs": [],
   "source": [
    "import pandas as pd\n",
    "import numpy as np\n",
    "import seaborn as sns\n",
    "import arviz as az\n",
    "import pymc as pm\n",
    "import matplotlib.pyplot as plt"
   ]
  },
  {
   "cell_type": "code",
   "execution_count": 66,
   "metadata": {},
   "outputs": [],
   "source": [
    "PATH = 'data/New_DB.xlsx'\n",
    "df = pd.read_excel(PATH)\n",
    "\n",
    "columns =['slope', 'PP', 'valor_humedad_suelo1']\n",
    "X = df.loc[:,columns]\n",
    "train_size = 0.8\n",
    "df_general = X * 1\n",
    "n_df_general = X * 0.8\n",
    "df_general['output'] = 1\n",
    "n_df_general['output'] = 0\n",
    "\n",
    "df_output = pd.concat([df_general, n_df_general])\n",
    "\n",
    "X_slope_PP = df_output.drop('valor_humedad_suelo1', axis=1)\n",
    "X_slope_PP_vhs1 = df_output\n",
    "\n",
    "X_slope_PP = X_slope_PP.dropna()\n",
    "X_slope_PP_vhs1 = X_slope_PP_vhs1.dropna()\n",
    "X_slope_PP = X_slope_PP.reset_index(drop=True)\n",
    "X_slope_PP_vhs1 = X_slope_PP_vhs1.reset_index(drop=True)\n",
    "\n",
    "y_slope_PP = X_slope_PP.output\n",
    "X_slope_PP = X_slope_PP.drop(labels='output', axis=1)\n",
    "\n",
    "y_slope_PP_vhs1 = X_slope_PP_vhs1.output\n",
    "X_slope_PP_vhs1 = X_slope_PP_vhs1.drop(labels='output', axis=1)\n",
    "\n",
    "from sklearn.preprocessing import StandardScaler\n",
    "from sklearn.model_selection import train_test_split\n",
    "import pytensor\n",
    "import pytensor.tensor as pt"
   ]
  },
  {
   "cell_type": "code",
   "execution_count": 67,
   "metadata": {},
   "outputs": [],
   "source": [
    "#X_slope_PP_vhs1['valor_pp'] = X_slope_PP_vhs1['PP'] / X_slope_PP_vhs1['valor_humedad_suelo1']"
   ]
  },
  {
   "cell_type": "code",
   "execution_count": 68,
   "metadata": {},
   "outputs": [],
   "source": [
    "X_train, X_test, y_train, y_test = train_test_split(X_slope_PP_vhs1, y_slope_PP_vhs1, train_size=train_size, stratify=y_slope_PP_vhs1, random_state=42)\n",
    "sc = StandardScaler()\n",
    "floatX = pytensor.config.floatX\n",
    "X_slope_PP_vhs1 = X_slope_PP_vhs1.astype(floatX)\n",
    "y_slope_PP_vhs1 = y_slope_PP_vhs1.astype(floatX)\n",
    "X_train, X_test, y_train, y_test = train_test_split(X_slope_PP_vhs1, y_slope_PP_vhs1, train_size=train_size, stratify=y_slope_PP_vhs1, random_state=42)\n",
    "X_train = sc.fit_transform(X_train)\n",
    "X_test = sc.transform(X_test)\n",
    "\n",
    "random_seed = 12\n",
    "rng = np.random.default_rng(random_seed)"
   ]
  },
  {
   "cell_type": "code",
   "execution_count": 246,
   "metadata": {},
   "outputs": [],
   "source": [
    "def construct_nn(ann_input, ann_output):\n",
    "    n_hidden = 5\n",
    "\n",
    "    # Initialize random weights between each layer\n",
    "    init_1 = rng.standard_normal(size=(X_train.shape[1], n_hidden)).astype(floatX)\n",
    "    init_2 = rng.standard_normal(size=(n_hidden, n_hidden)).astype(floatX)\n",
    "    init_out = rng.standard_normal(size=n_hidden).astype(floatX)\n",
    "\n",
    "    coords = {\n",
    "        \"hidden_layer_1\": np.arange(n_hidden),\n",
    "        \"hidden_layer_2\": np.arange(n_hidden),\n",
    "        \"train_cols\": np.arange(X_train.shape[1]),\n",
    "        # \"obs_id\": np.arange(X_train.shape[0]),\n",
    "    }\n",
    "    with pm.Model(coords=coords) as neural_network:\n",
    "        ann_input = pm.Data(\"ann_input\", X_train, mutable=True, dims=(\"obs_id\", \"train_cols\"))\n",
    "        ann_output = pm.Data(\"ann_output\", y_train, mutable=True, dims=\"obs_id\")\n",
    "\n",
    "        # Weights from input to hidden layer\n",
    "        weights_in_1 = pm.Normal(\n",
    "            \"w_in_1\", 0, sigma=1, initval=init_1, dims=(\"train_cols\", \"hidden_layer_1\")\n",
    "        )\n",
    "\n",
    "        # Weights from 1st to 2nd layer\n",
    "        weights_1_2 = pm.Normal(\n",
    "            \"w_1_2\", 0, sigma=1, initval=init_2, dims=(\"hidden_layer_1\", \"hidden_layer_2\")\n",
    "        )\n",
    "\n",
    "        # Weights from hidden layer to output\n",
    "        weights_2_out = pm.Normal(\"w_2_out\", 0, sigma=1, initval=init_out, dims=\"hidden_layer_2\")\n",
    "\n",
    "        # Build neural-network using tanh activation function\n",
    "        act_1 = pm.math.tanh(pm.math.dot(ann_input, weights_in_1))\n",
    "        act_2 = pm.math.tanh(pm.math.dot(act_1, weights_1_2))\n",
    "        act_out = pm.math.sigmoid(pm.math.dot(act_2, weights_2_out))\n",
    "\n",
    "        # Binary classification -> Bernoulli likelihood\n",
    "        out = pm.Bernoulli(\n",
    "            \"out\",\n",
    "            act_out,\n",
    "            observed=ann_output,\n",
    "            total_size=y_train.shape[0],  # IMPORTANT for minibatches\n",
    "            dims=\"obs_id\",\n",
    "        )\n",
    "    return neural_network\n",
    "\n",
    "\n",
    "neural_network = construct_nn(X_train, y_train)"
   ]
  },
  {
   "cell_type": "code",
   "execution_count": 247,
   "metadata": {},
   "outputs": [
    {
     "data": {
      "text/html": [
       "\n",
       "<style>\n",
       "    /* Turns off some styling */\n",
       "    progress {\n",
       "        /* gets rid of default border in Firefox and Opera. */\n",
       "        border: none;\n",
       "        /* Needs to be in here for Safari polyfill so background images work as expected. */\n",
       "        background-size: auto;\n",
       "    }\n",
       "    progress:not([value]), progress:not([value])::-webkit-progress-bar {\n",
       "        background: repeating-linear-gradient(45deg, #7e7e7e, #7e7e7e 10px, #5c5c5c 10px, #5c5c5c 20px);\n",
       "    }\n",
       "    .progress-bar-interrupted, .progress-bar-interrupted::-webkit-progress-bar {\n",
       "        background: #F44336;\n",
       "    }\n",
       "</style>\n"
      ],
      "text/plain": [
       "<IPython.core.display.HTML object>"
      ]
     },
     "metadata": {},
     "output_type": "display_data"
    },
    {
     "data": {
      "text/html": [
       "\n",
       "    <div>\n",
       "      <progress value='3320' class='' max='30000' style='width:300px; height:20px; vertical-align: middle;'></progress>\n",
       "      11.07% [3320/30000 00:03&lt;00:24 Average Loss = 339.57]\n",
       "    </div>\n",
       "    "
      ],
      "text/plain": [
       "<IPython.core.display.HTML object>"
      ]
     },
     "metadata": {},
     "output_type": "display_data"
    },
    {
     "name": "stderr",
     "output_type": "stream",
     "text": [
      "Interrupted at 3,498 [11%]: Average Loss = 362.64\n"
     ]
    },
    {
     "name": "stdout",
     "output_type": "stream",
     "text": [
      "CPU times: total: 20.1 s\n",
      "Wall time: 5.1 s\n"
     ]
    }
   ],
   "source": [
    "%%time\n",
    "with neural_network:\n",
    "    approx = pm.fit(n=30_000)"
   ]
  },
  {
   "cell_type": "code",
   "execution_count": null,
   "metadata": {},
   "outputs": [
    {
     "name": "stderr",
     "output_type": "stream",
     "text": [
      "Sampling: [out]\n"
     ]
    },
    {
     "data": {
      "text/html": [
       "\n",
       "<style>\n",
       "    /* Turns off some styling */\n",
       "    progress {\n",
       "        /* gets rid of default border in Firefox and Opera. */\n",
       "        border: none;\n",
       "        /* Needs to be in here for Safari polyfill so background images work as expected. */\n",
       "        background-size: auto;\n",
       "    }\n",
       "    progress:not([value]), progress:not([value])::-webkit-progress-bar {\n",
       "        background: repeating-linear-gradient(45deg, #7e7e7e, #7e7e7e 10px, #5c5c5c 10px, #5c5c5c 20px);\n",
       "    }\n",
       "    .progress-bar-interrupted, .progress-bar-interrupted::-webkit-progress-bar {\n",
       "        background: #F44336;\n",
       "    }\n",
       "</style>\n"
      ],
      "text/plain": [
       "<IPython.core.display.HTML object>"
      ]
     },
     "metadata": {},
     "output_type": "display_data"
    },
    {
     "data": {
      "text/html": [
       "\n",
       "    <div>\n",
       "      <progress value='5000' class='' max='5000' style='width:300px; height:20px; vertical-align: middle;'></progress>\n",
       "      100.00% [5000/5000 00:01&lt;00:00]\n",
       "    </div>\n",
       "    "
      ],
      "text/plain": [
       "<IPython.core.display.HTML object>"
      ]
     },
     "metadata": {},
     "output_type": "display_data"
    },
    {
     "name": "stdout",
     "output_type": "stream",
     "text": [
      "Accuracy = 91.96428571428571%\n"
     ]
    }
   ],
   "source": [
    "trace = approx.sample(draws=5000)\n",
    "with neural_network:\n",
    "    pm.set_data(new_data={\"ann_input\": X_test})\n",
    "    ppc = pm.sample_posterior_predictive(trace)\n",
    "    trace.extend(ppc)\n",
    "\n",
    "pred = ppc.posterior_predictive[\"out\"].mean((\"chain\", \"draw\")) > 0.50\n",
    "print(f\"Accuracy = {(y_test == pred.values).mean() * 100}%\")"
   ]
  },
  {
   "cell_type": "code",
   "execution_count": null,
   "metadata": {},
   "outputs": [],
   "source": [
    "from sklearn.metrics import roc_curve, roc_auc_score, accuracy_score, precision_score, recall_score, f1_score, confusion_matrix, classification_report\n"
   ]
  },
  {
   "cell_type": "code",
   "execution_count": null,
   "metadata": {},
   "outputs": [
    {
     "data": {
      "text/plain": [
       "\"X_train, X_test, y_train, y_test = train_test_split(X_slope_PP_vhs1, y_slope_PP_vhs1, train_size=train_size, stratify=y_slope_PP_vhs1, random_state=random_seed)\\n\\nslope_mean = X_train['slope'].mean()\\nslope_std = X_train['slope'].std()\\n\\nPP_mean = X_train['PP'].mean()\\nPP_std = X_train['PP'].std()\\n\\nvhs1_mean = X_train['valor_humedad_suelo1'].mean()\\nvhs1_std = X_train['valor_humedad_suelo1'].std()\\n\\nX_train['slope'] = (X_train['slope'] - slope_mean) / slope_std\\nX_test['slope'] = (X_test['slope'] - slope_mean) / slope_std\\n\\nX_train['PP'] = (X_train['PP'] - PP_mean) / PP_std\\nX_test['PP'] = (X_test['PP'] - PP_mean) / PP_std\\n\\nX_train['valor_humedad_suelo1'] = (X_train['valor_humedad_suelo1'] - vhs1_mean) / vhs1_std\\nX_test['valor_humedad_suelo1'] = (X_test['valor_humedad_suelo1'] - vhs1_mean) / vhs1_std\\n\""
      ]
     },
     "execution_count": 229,
     "metadata": {},
     "output_type": "execute_result"
    }
   ],
   "source": [
    "\"\"\"X_train, X_test, y_train, y_test = train_test_split(X_slope_PP_vhs1, y_slope_PP_vhs1, train_size=train_size, stratify=y_slope_PP_vhs1, random_state=random_seed)\n",
    "\n",
    "slope_mean = X_train['slope'].mean()\n",
    "slope_std = X_train['slope'].std()\n",
    "\n",
    "PP_mean = X_train['PP'].mean()\n",
    "PP_std = X_train['PP'].std()\n",
    "\n",
    "vhs1_mean = X_train['valor_humedad_suelo1'].mean()\n",
    "vhs1_std = X_train['valor_humedad_suelo1'].std()\n",
    "\n",
    "X_train['slope'] = (X_train['slope'] - slope_mean) / slope_std\n",
    "X_test['slope'] = (X_test['slope'] - slope_mean) / slope_std\n",
    "\n",
    "X_train['PP'] = (X_train['PP'] - PP_mean) / PP_std\n",
    "X_test['PP'] = (X_test['PP'] - PP_mean) / PP_std\n",
    "\n",
    "X_train['valor_humedad_suelo1'] = (X_train['valor_humedad_suelo1'] - vhs1_mean) / vhs1_std\n",
    "X_test['valor_humedad_suelo1'] = (X_test['valor_humedad_suelo1'] - vhs1_mean) / vhs1_std\n",
    "\"\"\""
   ]
  },
  {
   "cell_type": "code",
   "execution_count": null,
   "metadata": {},
   "outputs": [
    {
     "data": {
      "text/plain": [
       "\"from sklearn.neighbors import KNeighborsClassifier\\n\\nknn_model = KNeighborsClassifier(n_neighbors=5)\\nknn_model.fit(X_train, y_train)\\n\\ndef augment_data_with_knn(data, model, num_neighbors=5, num_augmentations=2):\\n    augmented_data = []\\n\\n    for _, row in data.iterrows():\\n        features = row[['slope', 'PP', 'valor_humedad_suelo1', 'valor_pp']].values.reshape(1, -1)\\n        neighbors = model.kneighbors(features, n_neighbors=num_neighbors, return_distance=False)[0]\\n\\n        for _ in range(num_augmentations):\\n            # Selecciona aleatoriamente uno de los vecinos más cercanos\\n            neighbor_index = np.random.choice(neighbors)\\n            augmented_row = X_train.iloc[neighbor_index].to_dict()\\n            augmented_row['output'] = y_train.iloc[neighbor_index]\\n            augmented_data.append(augmented_row)\\n\\n    return pd.DataFrame(augmented_data)\\n\\naugemented_df = augment_data_with_knn(X_test, knn_model, num_neighbors=5)\\n\\naugemented_df.head() , len(augemented_df)\""
      ]
     },
     "execution_count": 230,
     "metadata": {},
     "output_type": "execute_result"
    }
   ],
   "source": [
    "\"\"\"from sklearn.neighbors import KNeighborsClassifier\n",
    "\n",
    "knn_model = KNeighborsClassifier(n_neighbors=5)\n",
    "knn_model.fit(X_train, y_train)\n",
    "\n",
    "def augment_data_with_knn(data, model, num_neighbors=5, num_augmentations=2):\n",
    "    augmented_data = []\n",
    "\n",
    "    for _, row in data.iterrows():\n",
    "        features = row[['slope', 'PP', 'valor_humedad_suelo1', 'valor_pp']].values.reshape(1, -1)\n",
    "        neighbors = model.kneighbors(features, n_neighbors=num_neighbors, return_distance=False)[0]\n",
    "\n",
    "        for _ in range(num_augmentations):\n",
    "            # Selecciona aleatoriamente uno de los vecinos más cercanos\n",
    "            neighbor_index = np.random.choice(neighbors)\n",
    "            augmented_row = X_train.iloc[neighbor_index].to_dict()\n",
    "            augmented_row['output'] = y_train.iloc[neighbor_index]\n",
    "            augmented_data.append(augmented_row)\n",
    "\n",
    "    return pd.DataFrame(augmented_data)\n",
    "\n",
    "augemented_df = augment_data_with_knn(X_test, knn_model, num_neighbors=5)\n",
    "\n",
    "augemented_df.head() , len(augemented_df)\"\"\""
   ]
  },
  {
   "cell_type": "code",
   "execution_count": null,
   "metadata": {},
   "outputs": [
    {
     "data": {
      "text/plain": [
       "\"y_train = pd.concat([y_train, augemented_df.output])\\nX_train = pd.concat([X_train, augemented_df.drop(labels='output', axis=1)])\\nX_train.shape, X_test.shape\\nsc = StandardScaler()\\nX_train = sc.fit_transform(X_train)\\nX_test = sc.transform(X_test)\""
      ]
     },
     "execution_count": 231,
     "metadata": {},
     "output_type": "execute_result"
    }
   ],
   "source": [
    "\"\"\"y_train = pd.concat([y_train, augemented_df.output])\n",
    "X_train = pd.concat([X_train, augemented_df.drop(labels='output', axis=1)])\n",
    "X_train.shape, X_test.shape\n",
    "sc = StandardScaler()\n",
    "X_train = sc.fit_transform(X_train)\n",
    "X_test = sc.transform(X_test)\"\"\""
   ]
  },
  {
   "cell_type": "code",
   "execution_count": null,
   "metadata": {},
   "outputs": [
    {
     "data": {
      "text/html": [
       "\n",
       "<style>\n",
       "    /* Turns off some styling */\n",
       "    progress {\n",
       "        /* gets rid of default border in Firefox and Opera. */\n",
       "        border: none;\n",
       "        /* Needs to be in here for Safari polyfill so background images work as expected. */\n",
       "        background-size: auto;\n",
       "    }\n",
       "    progress:not([value]), progress:not([value])::-webkit-progress-bar {\n",
       "        background: repeating-linear-gradient(45deg, #7e7e7e, #7e7e7e 10px, #5c5c5c 10px, #5c5c5c 20px);\n",
       "    }\n",
       "    .progress-bar-interrupted, .progress-bar-interrupted::-webkit-progress-bar {\n",
       "        background: #F44336;\n",
       "    }\n",
       "</style>\n"
      ],
      "text/plain": [
       "<IPython.core.display.HTML object>"
      ]
     },
     "metadata": {},
     "output_type": "display_data"
    },
    {
     "data": {
      "text/html": [
       "\n",
       "    <div>\n",
       "      <progress value='30000' class='' max='30000' style='width:300px; height:20px; vertical-align: middle;'></progress>\n",
       "      100.00% [30000/30000 00:26&lt;00:00 Average Loss = 183.27]\n",
       "    </div>\n",
       "    "
      ],
      "text/plain": [
       "<IPython.core.display.HTML object>"
      ]
     },
     "metadata": {},
     "output_type": "display_data"
    },
    {
     "name": "stderr",
     "output_type": "stream",
     "text": [
      "Finished [100%]: Average Loss = 183.32\n",
      "Sampling: [out]\n"
     ]
    },
    {
     "data": {
      "text/html": [
       "\n",
       "<style>\n",
       "    /* Turns off some styling */\n",
       "    progress {\n",
       "        /* gets rid of default border in Firefox and Opera. */\n",
       "        border: none;\n",
       "        /* Needs to be in here for Safari polyfill so background images work as expected. */\n",
       "        background-size: auto;\n",
       "    }\n",
       "    progress:not([value]), progress:not([value])::-webkit-progress-bar {\n",
       "        background: repeating-linear-gradient(45deg, #7e7e7e, #7e7e7e 10px, #5c5c5c 10px, #5c5c5c 20px);\n",
       "    }\n",
       "    .progress-bar-interrupted, .progress-bar-interrupted::-webkit-progress-bar {\n",
       "        background: #F44336;\n",
       "    }\n",
       "</style>\n"
      ],
      "text/plain": [
       "<IPython.core.display.HTML object>"
      ]
     },
     "metadata": {},
     "output_type": "display_data"
    },
    {
     "data": {
      "text/html": [
       "\n",
       "    <div>\n",
       "      <progress value='5000' class='' max='5000' style='width:300px; height:20px; vertical-align: middle;'></progress>\n",
       "      100.00% [5000/5000 00:01&lt;00:00]\n",
       "    </div>\n",
       "    "
      ],
      "text/plain": [
       "<IPython.core.display.HTML object>"
      ]
     },
     "metadata": {},
     "output_type": "display_data"
    },
    {
     "name": "stdout",
     "output_type": "stream",
     "text": [
      "Accuracy = 91.07142857142857%\n"
     ]
    }
   ],
   "source": [
    "neural_network = construct_nn(X_train, y_train)\n",
    "with neural_network:\n",
    "    approx = pm.fit(n=30_000)\n",
    "\n",
    "trace = approx.sample(draws=5000)\n",
    "with neural_network:\n",
    "    pm.set_data(new_data={\"ann_input\": X_test})\n",
    "    ppc = pm.sample_posterior_predictive(trace)\n",
    "    trace.extend(ppc)\n",
    "\n",
    "pred = ppc.posterior_predictive[\"out\"].mean((\"chain\", \"draw\")) > 0.50\n",
    "print(f\"Accuracy = {(y_test == pred.values).mean() * 100}%\")"
   ]
  },
  {
   "cell_type": "code",
   "execution_count": 10,
   "metadata": {},
   "outputs": [],
   "source": [
    "def bayesian_regression_tree(input, output):\n",
    "    coords = {\n",
    "        'train_cols': np.arange(X_train.shape[1]),\n",
    "        #'obs_id': np.arange(X_train.shape[0])\n",
    "    }\n",
    "    with pm.Model(coords=coords) as model:\n",
    "        input = pm.Data('input', X_train, mutable=True, dims=('obs_id','train_cols'))\n",
    "        observed = pm.Data('observed', y_train, mutable=True, dims='dims_id')\n",
    "        intercept = pm.Normal('intercept', mu = 0, sigma = 10) #5\n",
    "        beta = pm.Normal('beta',mu=0, sigma=5)\n",
    "        beta2 = pm.Normal('beta2', mu=0, sigma=5)\n",
    "        beta3 = pm.Normal('beta3', mu = 0, sigma=5)\n",
    "        alpha = pm.Normal('alpha', mu = 0, sigma=0.1)\n",
    "        alpha2 = pm.Normal('alpha2', mu = 0, sigma = 0.1) #0.1\n",
    "        alpha3 = pm.Normal('alpha3', mu = 0, sigma=1)\n",
    "        alpha4 = pm.Normal('alpha4', mu = 0, sigma = 0.1) #0.1\n",
    "        alpha5 = pm.Normal('alpha5', mu = 0 , sigma = 1) #1\n",
    "        alpha6 = pm.Normal('alpha6', mu = 0 , sigma = 1) #1\n",
    "        p = pm.Deterministic(\n",
    "            'p', \n",
    "            pm.math.invlogit(\n",
    "                intercept + input[:,0]*beta + input[:,1]*beta2 + input[:,2]*beta3 + \n",
    "                (input[:,1]**2)*alpha**2 + (input[:,2]**2)*alpha2**2 + (input[:,0]**2)*alpha3**2 + \n",
    "                (input[:,1]**3)*alpha4**3 + (input[:,2]**3)*alpha5**3 + (input[:,0]**3)*alpha6**3))\n",
    "        final = pm.Bernoulli('out',p , observed = observed, dims='obs_id')\n",
    "        \n",
    "    return model\n",
    "\n",
    "bayesian_regression_tree = bayesian_regression_tree(X_train, y_train)"
   ]
  },
  {
   "cell_type": "code",
   "execution_count": 11,
   "metadata": {},
   "outputs": [
    {
     "data": {
      "text/html": [
       "\n",
       "<style>\n",
       "    /* Turns off some styling */\n",
       "    progress {\n",
       "        /* gets rid of default border in Firefox and Opera. */\n",
       "        border: none;\n",
       "        /* Needs to be in here for Safari polyfill so background images work as expected. */\n",
       "        background-size: auto;\n",
       "    }\n",
       "    progress:not([value]), progress:not([value])::-webkit-progress-bar {\n",
       "        background: repeating-linear-gradient(45deg, #7e7e7e, #7e7e7e 10px, #5c5c5c 10px, #5c5c5c 20px);\n",
       "    }\n",
       "    .progress-bar-interrupted, .progress-bar-interrupted::-webkit-progress-bar {\n",
       "        background: #F44336;\n",
       "    }\n",
       "</style>\n"
      ],
      "text/plain": [
       "<IPython.core.display.HTML object>"
      ]
     },
     "metadata": {},
     "output_type": "display_data"
    },
    {
     "data": {
      "text/html": [
       "\n",
       "    <div>\n",
       "      <progress value='9' class='' max='9' style='width:300px; height:20px; vertical-align: middle;'></progress>\n",
       "      100.00% [9/9 00:01&lt;00:00 logp = -318.56, ||grad|| = 145.9]\n",
       "    </div>\n",
       "    "
      ],
      "text/plain": [
       "<IPython.core.display.HTML object>"
      ]
     },
     "metadata": {},
     "output_type": "display_data"
    },
    {
     "name": "stdout",
     "output_type": "stream",
     "text": [
      "\n"
     ]
    },
    {
     "name": "stderr",
     "output_type": "stream",
     "text": [
      "C:\\Users\\ivo\\AppData\\Local\\Temp\\ipykernel_7508\\2638288232.py:6: FutureWarning: The `start` kwarg was renamed to `initvals` and can now do more. Please check the docstring.\n",
      "  trace = pm.sample(draws=5000, step = step, start = start)# nuts_sampler_kwargs={'hess_inv': hessian_inv})\n",
      "Multiprocess sampling (4 chains in 4 jobs)\n",
      "CompoundStep\n",
      ">Metropolis: [intercept]\n",
      ">Metropolis: [beta]\n",
      ">Metropolis: [beta2]\n",
      ">Metropolis: [beta3]\n",
      ">Metropolis: [alpha]\n",
      ">Metropolis: [alpha2]\n",
      ">Metropolis: [alpha3]\n",
      ">Metropolis: [alpha4]\n",
      ">Metropolis: [alpha5]\n",
      ">Metropolis: [alpha6]\n"
     ]
    },
    {
     "data": {
      "text/html": [
       "\n",
       "<style>\n",
       "    /* Turns off some styling */\n",
       "    progress {\n",
       "        /* gets rid of default border in Firefox and Opera. */\n",
       "        border: none;\n",
       "        /* Needs to be in here for Safari polyfill so background images work as expected. */\n",
       "        background-size: auto;\n",
       "    }\n",
       "    progress:not([value]), progress:not([value])::-webkit-progress-bar {\n",
       "        background: repeating-linear-gradient(45deg, #7e7e7e, #7e7e7e 10px, #5c5c5c 10px, #5c5c5c 20px);\n",
       "    }\n",
       "    .progress-bar-interrupted, .progress-bar-interrupted::-webkit-progress-bar {\n",
       "        background: #F44336;\n",
       "    }\n",
       "</style>\n"
      ],
      "text/plain": [
       "<IPython.core.display.HTML object>"
      ]
     },
     "metadata": {},
     "output_type": "display_data"
    },
    {
     "data": {
      "text/html": [
       "\n",
       "    <div>\n",
       "      <progress value='20' class='' max='24000' style='width:300px; height:20px; vertical-align: middle;'></progress>\n",
       "      0.08% [20/24000 00:05&lt;1:44:52 Sampling 4 chains, 0 divergences]\n",
       "    </div>\n",
       "    "
      ],
      "text/plain": [
       "<IPython.core.display.HTML object>"
      ]
     },
     "metadata": {},
     "output_type": "display_data"
    },
    {
     "ename": "ValueError",
     "evalue": "Not enough samples to build a trace.",
     "output_type": "error",
     "traceback": [
      "\u001b[1;31m---------------------------------------------------------------------------\u001b[0m",
      "\u001b[1;31mValueError\u001b[0m                                Traceback (most recent call last)",
      "Cell \u001b[1;32mIn[11], line 6\u001b[0m\n\u001b[0;32m      3\u001b[0m     \u001b[38;5;66;03m#hessian_inv = np.linalg.inv(pm.find_hessian(start, model=bayesian_regression_tree))\u001b[39;00m\n\u001b[0;32m      4\u001b[0m     \u001b[38;5;66;03m#approx = pm.fit(n=10_000, start=start)\u001b[39;00m\n\u001b[0;32m      5\u001b[0m     step \u001b[38;5;241m=\u001b[39m pm\u001b[38;5;241m.\u001b[39mMetropolis()\n\u001b[1;32m----> 6\u001b[0m     trace \u001b[38;5;241m=\u001b[39m \u001b[43mpm\u001b[49m\u001b[38;5;241;43m.\u001b[39;49m\u001b[43msample\u001b[49m\u001b[43m(\u001b[49m\u001b[43mdraws\u001b[49m\u001b[38;5;241;43m=\u001b[39;49m\u001b[38;5;241;43m5000\u001b[39;49m\u001b[43m,\u001b[49m\u001b[43m \u001b[49m\u001b[43mstep\u001b[49m\u001b[43m \u001b[49m\u001b[38;5;241;43m=\u001b[39;49m\u001b[43m \u001b[49m\u001b[43mstep\u001b[49m\u001b[43m,\u001b[49m\u001b[43m \u001b[49m\u001b[43mstart\u001b[49m\u001b[43m \u001b[49m\u001b[38;5;241;43m=\u001b[39;49m\u001b[43m \u001b[49m\u001b[43mstart\u001b[49m\u001b[43m)\u001b[49m\u001b[38;5;66;03m# nuts_sampler_kwargs={'hess_inv': hessian_inv})\u001b[39;00m\n\u001b[0;32m      8\u001b[0m \u001b[38;5;28;01mwith\u001b[39;00m bayesian_regression_tree:\n\u001b[0;32m      9\u001b[0m     pm\u001b[38;5;241m.\u001b[39mset_data(new_data\u001b[38;5;241m=\u001b[39m{\u001b[38;5;124m\"\u001b[39m\u001b[38;5;124minput\u001b[39m\u001b[38;5;124m\"\u001b[39m: X_test})\n",
      "File \u001b[1;32m~\\.conda\\envs\\fjerez_mlabbe\\lib\\site-packages\\pymc\\sampling\\mcmc.py:827\u001b[0m, in \u001b[0;36msample\u001b[1;34m(draws, tune, chains, cores, random_seed, progressbar, step, nuts_sampler, initvals, init, jitter_max_retries, n_init, trace, discard_tuned_samples, compute_convergence_checks, keep_warning_stat, return_inferencedata, idata_kwargs, nuts_sampler_kwargs, callback, mp_ctx, model, **kwargs)\u001b[0m\n\u001b[0;32m    823\u001b[0m t_sampling \u001b[38;5;241m=\u001b[39m time\u001b[38;5;241m.\u001b[39mtime() \u001b[38;5;241m-\u001b[39m t_start\n\u001b[0;32m    825\u001b[0m \u001b[38;5;66;03m# Packaging, validating and returning the result was extracted\u001b[39;00m\n\u001b[0;32m    826\u001b[0m \u001b[38;5;66;03m# into a function to make it easier to test and refactor.\u001b[39;00m\n\u001b[1;32m--> 827\u001b[0m \u001b[38;5;28;01mreturn\u001b[39;00m \u001b[43m_sample_return\u001b[49m\u001b[43m(\u001b[49m\n\u001b[0;32m    828\u001b[0m \u001b[43m    \u001b[49m\u001b[43mrun\u001b[49m\u001b[38;5;241;43m=\u001b[39;49m\u001b[43mrun\u001b[49m\u001b[43m,\u001b[49m\n\u001b[0;32m    829\u001b[0m \u001b[43m    \u001b[49m\u001b[43mtraces\u001b[49m\u001b[38;5;241;43m=\u001b[39;49m\u001b[43mtraces\u001b[49m\u001b[43m,\u001b[49m\n\u001b[0;32m    830\u001b[0m \u001b[43m    \u001b[49m\u001b[43mtune\u001b[49m\u001b[38;5;241;43m=\u001b[39;49m\u001b[43mtune\u001b[49m\u001b[43m,\u001b[49m\n\u001b[0;32m    831\u001b[0m \u001b[43m    \u001b[49m\u001b[43mt_sampling\u001b[49m\u001b[38;5;241;43m=\u001b[39;49m\u001b[43mt_sampling\u001b[49m\u001b[43m,\u001b[49m\n\u001b[0;32m    832\u001b[0m \u001b[43m    \u001b[49m\u001b[43mdiscard_tuned_samples\u001b[49m\u001b[38;5;241;43m=\u001b[39;49m\u001b[43mdiscard_tuned_samples\u001b[49m\u001b[43m,\u001b[49m\n\u001b[0;32m    833\u001b[0m \u001b[43m    \u001b[49m\u001b[43mcompute_convergence_checks\u001b[49m\u001b[38;5;241;43m=\u001b[39;49m\u001b[43mcompute_convergence_checks\u001b[49m\u001b[43m,\u001b[49m\n\u001b[0;32m    834\u001b[0m \u001b[43m    \u001b[49m\u001b[43mreturn_inferencedata\u001b[49m\u001b[38;5;241;43m=\u001b[39;49m\u001b[43mreturn_inferencedata\u001b[49m\u001b[43m,\u001b[49m\n\u001b[0;32m    835\u001b[0m \u001b[43m    \u001b[49m\u001b[43mkeep_warning_stat\u001b[49m\u001b[38;5;241;43m=\u001b[39;49m\u001b[43mkeep_warning_stat\u001b[49m\u001b[43m,\u001b[49m\n\u001b[0;32m    836\u001b[0m \u001b[43m    \u001b[49m\u001b[43midata_kwargs\u001b[49m\u001b[38;5;241;43m=\u001b[39;49m\u001b[43midata_kwargs\u001b[49m\u001b[43m \u001b[49m\u001b[38;5;129;43;01mor\u001b[39;49;00m\u001b[43m \u001b[49m\u001b[43m{\u001b[49m\u001b[43m}\u001b[49m\u001b[43m,\u001b[49m\n\u001b[0;32m    837\u001b[0m \u001b[43m    \u001b[49m\u001b[43mmodel\u001b[49m\u001b[38;5;241;43m=\u001b[39;49m\u001b[43mmodel\u001b[49m\u001b[43m,\u001b[49m\n\u001b[0;32m    838\u001b[0m \u001b[43m\u001b[49m\u001b[43m)\u001b[49m\n",
      "File \u001b[1;32m~\\.conda\\envs\\fjerez_mlabbe\\lib\\site-packages\\pymc\\sampling\\mcmc.py:858\u001b[0m, in \u001b[0;36m_sample_return\u001b[1;34m(run, traces, tune, t_sampling, discard_tuned_samples, compute_convergence_checks, return_inferencedata, keep_warning_stat, idata_kwargs, model)\u001b[0m\n\u001b[0;32m    856\u001b[0m \u001b[38;5;66;03m# Pick and slice chains to keep the maximum number of samples\u001b[39;00m\n\u001b[0;32m    857\u001b[0m \u001b[38;5;28;01mif\u001b[39;00m discard_tuned_samples:\n\u001b[1;32m--> 858\u001b[0m     traces, length \u001b[38;5;241m=\u001b[39m \u001b[43m_choose_chains\u001b[49m\u001b[43m(\u001b[49m\u001b[43mtraces\u001b[49m\u001b[43m,\u001b[49m\u001b[43m \u001b[49m\u001b[43mtune\u001b[49m\u001b[43m)\u001b[49m\n\u001b[0;32m    859\u001b[0m \u001b[38;5;28;01melse\u001b[39;00m:\n\u001b[0;32m    860\u001b[0m     traces, length \u001b[38;5;241m=\u001b[39m _choose_chains(traces, \u001b[38;5;241m0\u001b[39m)\n",
      "File \u001b[1;32m~\\.conda\\envs\\fjerez_mlabbe\\lib\\site-packages\\pymc\\backends\\base.py:601\u001b[0m, in \u001b[0;36m_choose_chains\u001b[1;34m(traces, tune)\u001b[0m\n\u001b[0;32m    599\u001b[0m lengths \u001b[38;5;241m=\u001b[39m [\u001b[38;5;28mmax\u001b[39m(\u001b[38;5;241m0\u001b[39m, \u001b[38;5;28mlen\u001b[39m(trace) \u001b[38;5;241m-\u001b[39m tune) \u001b[38;5;28;01mfor\u001b[39;00m trace \u001b[38;5;129;01min\u001b[39;00m traces]\n\u001b[0;32m    600\u001b[0m \u001b[38;5;28;01mif\u001b[39;00m \u001b[38;5;129;01mnot\u001b[39;00m \u001b[38;5;28msum\u001b[39m(lengths):\n\u001b[1;32m--> 601\u001b[0m     \u001b[38;5;28;01mraise\u001b[39;00m \u001b[38;5;167;01mValueError\u001b[39;00m(\u001b[38;5;124m\"\u001b[39m\u001b[38;5;124mNot enough samples to build a trace.\u001b[39m\u001b[38;5;124m\"\u001b[39m)\n\u001b[0;32m    603\u001b[0m idxs \u001b[38;5;241m=\u001b[39m np\u001b[38;5;241m.\u001b[39margsort(lengths)\n\u001b[0;32m    604\u001b[0m l_sort \u001b[38;5;241m=\u001b[39m np\u001b[38;5;241m.\u001b[39marray(lengths)[idxs]\n",
      "\u001b[1;31mValueError\u001b[0m: Not enough samples to build a trace."
     ]
    }
   ],
   "source": [
    "with bayesian_regression_tree:\n",
    "    start = pm.find_MAP()\n",
    "    #hessian_inv = np.linalg.inv(pm.find_hessian(start, model=bayesian_regression_tree))\n",
    "    #approx = pm.fit(n=10_000, start=start)\n",
    "    step = pm.Metropolis()\n",
    "    trace = pm.sample(draws=5000, step = step, start = start)# nuts_sampler_kwargs={'hess_inv': hessian_inv})\n",
    "\n",
    "with bayesian_regression_tree:\n",
    "    pm.set_data(new_data={\"input\": X_test})\n",
    "    ppc = pm.sample_posterior_predictive(trace, var_names=['p'], return_inferencedata=True, predictions=True, extend_inferencedata=True)\n",
    "    trace.extend(ppc)\n",
    "#pred = ppc.posterior_predictive[\"out\"].mean((\"chain\", \"draw\")) > 0.50\n",
    "#print(f\"Accuracy = {(y_test == pred.values).mean() * 100}%\")\n",
    "pred = ppc.predictions['p'].mean(('chain', 'draw')) > 0.5\n",
    "print(f\"Accuracy = {(y_test == pred.values).mean() * 100}%\")"
   ]
  },
  {
   "cell_type": "code",
   "execution_count": 112,
   "metadata": {},
   "outputs": [],
   "source": [
    "def modelo_formula_cov(input, output):\n",
    "    coords = {\n",
    "        'train_cols': np.arange(X_train.shape[1]),\n",
    "        #'obs_id': np.arange(X_train.shape[0])\n",
    "    }\n",
    "    with pm.Model(coords=coords) as model:\n",
    "        input = pm.Data('input', X_train, mutable=True, )#dims=('obs_id','train_cols'))\n",
    "        observed = pm.Data('observed', y_train, mutable=True, )#dims='dims_id')\n",
    "        white_noise = pm.gp.cov.WhiteNoise(5)\n",
    "        intercept = pm.Normal('intercept', mu=0,sigma=5)\n",
    "    \n",
    "        beta_1 = pm.Normal('beta_1',mu=0, sigma=5)\n",
    "        beta_2 = pm.Normal('beta_2', mu=0, sigma=5)\n",
    "        beta_3 = pm.Normal('beta_3', mu = 0, sigma=5)\n",
    "        p = pm.Deterministic(\n",
    "            'p', \n",
    "            pm.math.invlogit(\n",
    "                intercept + input[:,0]*beta_1 + input[:,1]*beta_2 + input[:,2]*beta_3\n",
    "            ))\n",
    "            \n",
    "        out = pm.Bernoulli('out', p, observed = observed,)# dims='obs_id')\n",
    "    return model\n",
    "\n",
    "modelo_formula_cov = modelo_formula_cov(X_train, y_train)"
   ]
  },
  {
   "cell_type": "code",
   "execution_count": 113,
   "metadata": {},
   "outputs": [
    {
     "data": {
      "image/svg+xml": [
       "<?xml version=\"1.0\" encoding=\"UTF-8\" standalone=\"no\"?>\n",
       "<!DOCTYPE svg PUBLIC \"-//W3C//DTD SVG 1.1//EN\"\n",
       " \"http://www.w3.org/Graphics/SVG/1.1/DTD/svg11.dtd\">\n",
       "<!-- Generated by graphviz version 9.0.0 (0)\n",
       " -->\n",
       "<!-- Pages: 1 -->\n",
       "<svg width=\"520pt\" height=\"439pt\"\n",
       " viewBox=\"0.00 0.00 519.72 438.82\" xmlns=\"http://www.w3.org/2000/svg\" xmlns:xlink=\"http://www.w3.org/1999/xlink\">\n",
       "<g id=\"graph0\" class=\"graph\" transform=\"scale(1 1) rotate(0) translate(4 434.82)\">\n",
       "<polygon fill=\"white\" stroke=\"none\" points=\"-4,4 -4,-434.82 515.72,-434.82 515.72,4 -4,4\"/>\n",
       "<g id=\"clust1\" class=\"cluster\">\n",
       "<title>cluster446 x 3</title>\n",
       "<path fill=\"none\" stroke=\"black\" d=\"M20,-324.82C20,-324.82 100,-324.82 100,-324.82 106,-324.82 112,-330.82 112,-336.82 112,-336.82 112,-410.82 112,-410.82 112,-416.82 106,-422.82 100,-422.82 100,-422.82 20,-422.82 20,-422.82 14,-422.82 8,-416.82 8,-410.82 8,-410.82 8,-336.82 8,-336.82 8,-330.82 14,-324.82 20,-324.82\"/>\n",
       "<text text-anchor=\"middle\" x=\"83.38\" y=\"-332.02\" font-family=\"Times New Roman,serif\" font-size=\"14.00\">446 x 3</text>\n",
       "</g>\n",
       "<g id=\"clust2\" class=\"cluster\">\n",
       "<title>cluster446</title>\n",
       "<path fill=\"none\" stroke=\"black\" d=\"M220,-8C220,-8 306,-8 306,-8 312,-8 318,-14 318,-20 318,-20 318,-304.82 318,-304.82 318,-310.82 312,-316.82 306,-316.82 306,-316.82 220,-316.82 220,-316.82 214,-316.82 208,-310.82 208,-304.82 208,-304.82 208,-20 208,-20 208,-14 214,-8 220,-8\"/>\n",
       "<text text-anchor=\"middle\" x=\"299.88\" y=\"-15.2\" font-family=\"Times New Roman,serif\" font-size=\"14.00\">446</text>\n",
       "</g>\n",
       "<!-- input -->\n",
       "<g id=\"node1\" class=\"node\">\n",
       "<title>input</title>\n",
       "<path fill=\"lightgrey\" stroke=\"black\" d=\"M91.62,-414.82C91.62,-414.82 28.38,-414.82 28.38,-414.82 22.38,-414.82 16.38,-408.82 16.38,-402.82 16.38,-402.82 16.38,-369.32 16.38,-369.32 16.38,-363.32 22.38,-357.32 28.38,-357.32 28.38,-357.32 91.62,-357.32 91.62,-357.32 97.62,-357.32 103.62,-363.32 103.62,-369.32 103.62,-369.32 103.62,-402.82 103.62,-402.82 103.62,-408.82 97.62,-414.82 91.62,-414.82\"/>\n",
       "<text text-anchor=\"middle\" x=\"60\" y=\"-397.52\" font-family=\"Times New Roman,serif\" font-size=\"14.00\">input</text>\n",
       "<text text-anchor=\"middle\" x=\"60\" y=\"-381.02\" font-family=\"Times New Roman,serif\" font-size=\"14.00\">~</text>\n",
       "<text text-anchor=\"middle\" x=\"60\" y=\"-364.52\" font-family=\"Times New Roman,serif\" font-size=\"14.00\">MutableData</text>\n",
       "</g>\n",
       "<!-- p -->\n",
       "<g id=\"node3\" class=\"node\">\n",
       "<title>p</title>\n",
       "<polygon fill=\"none\" stroke=\"black\" points=\"308.12,-308.82 217.88,-308.82 217.88,-251.32 308.12,-251.32 308.12,-308.82\"/>\n",
       "<text text-anchor=\"middle\" x=\"263\" y=\"-291.52\" font-family=\"Times New Roman,serif\" font-size=\"14.00\">p</text>\n",
       "<text text-anchor=\"middle\" x=\"263\" y=\"-275.02\" font-family=\"Times New Roman,serif\" font-size=\"14.00\">~</text>\n",
       "<text text-anchor=\"middle\" x=\"263\" y=\"-258.52\" font-family=\"Times New Roman,serif\" font-size=\"14.00\">Deterministic</text>\n",
       "</g>\n",
       "<!-- input&#45;&gt;p -->\n",
       "<g id=\"edge6\" class=\"edge\">\n",
       "<title>input&#45;&gt;p</title>\n",
       "<path fill=\"none\" stroke=\"black\" d=\"M79.19,-356.96C88.26,-345.55 99.95,-333.12 113,-324.82 141.21,-306.87 177.03,-296.06 206.59,-289.68\"/>\n",
       "<polygon fill=\"black\" stroke=\"black\" points=\"206.99,-293.17 216.1,-287.75 205.6,-286.31 206.99,-293.17\"/>\n",
       "</g>\n",
       "<!-- observed -->\n",
       "<g id=\"node2\" class=\"node\">\n",
       "<title>observed</title>\n",
       "<path fill=\"lightgrey\" stroke=\"black\" d=\"M294.62,-98C294.62,-98 231.38,-98 231.38,-98 225.38,-98 219.38,-92 219.38,-86 219.38,-86 219.38,-52.5 219.38,-52.5 219.38,-46.5 225.38,-40.5 231.38,-40.5 231.38,-40.5 294.62,-40.5 294.62,-40.5 300.62,-40.5 306.62,-46.5 306.62,-52.5 306.62,-52.5 306.62,-86 306.62,-86 306.62,-92 300.62,-98 294.62,-98\"/>\n",
       "<text text-anchor=\"middle\" x=\"263\" y=\"-80.7\" font-family=\"Times New Roman,serif\" font-size=\"14.00\">observed</text>\n",
       "<text text-anchor=\"middle\" x=\"263\" y=\"-64.2\" font-family=\"Times New Roman,serif\" font-size=\"14.00\">~</text>\n",
       "<text text-anchor=\"middle\" x=\"263\" y=\"-47.7\" font-family=\"Times New Roman,serif\" font-size=\"14.00\">MutableData</text>\n",
       "</g>\n",
       "<!-- out -->\n",
       "<g id=\"node4\" class=\"node\">\n",
       "<title>out</title>\n",
       "<ellipse fill=\"lightgrey\" stroke=\"black\" cx=\"263\" cy=\"-174.66\" rx=\"47.38\" ry=\"40.66\"/>\n",
       "<text text-anchor=\"middle\" x=\"263\" y=\"-186.11\" font-family=\"Times New Roman,serif\" font-size=\"14.00\">out</text>\n",
       "<text text-anchor=\"middle\" x=\"263\" y=\"-169.61\" font-family=\"Times New Roman,serif\" font-size=\"14.00\">~</text>\n",
       "<text text-anchor=\"middle\" x=\"263\" y=\"-153.11\" font-family=\"Times New Roman,serif\" font-size=\"14.00\">Bernoulli</text>\n",
       "</g>\n",
       "<!-- p&#45;&gt;out -->\n",
       "<g id=\"edge7\" class=\"edge\">\n",
       "<title>p&#45;&gt;out</title>\n",
       "<path fill=\"none\" stroke=\"black\" d=\"M263,-251.08C263,-243.6 263,-235.27 263,-226.95\"/>\n",
       "<polygon fill=\"black\" stroke=\"black\" points=\"266.5,-227.21 263,-217.21 259.5,-227.21 266.5,-227.21\"/>\n",
       "</g>\n",
       "<!-- out&#45;&gt;observed -->\n",
       "<g id=\"edge1\" class=\"edge\">\n",
       "<title>out&#45;&gt;observed</title>\n",
       "<path fill=\"none\" stroke=\"black\" d=\"M263,-133.68C263,-125.83 263,-117.6 263,-109.76\"/>\n",
       "<polygon fill=\"black\" stroke=\"black\" points=\"266.5,-109.79 263,-99.79 259.5,-109.79 266.5,-109.79\"/>\n",
       "</g>\n",
       "<!-- beta_2 -->\n",
       "<g id=\"node5\" class=\"node\">\n",
       "<title>beta_2</title>\n",
       "<ellipse fill=\"none\" stroke=\"black\" cx=\"163\" cy=\"-386.07\" rx=\"41.01\" ry=\"40.66\"/>\n",
       "<text text-anchor=\"middle\" x=\"163\" y=\"-397.52\" font-family=\"Times New Roman,serif\" font-size=\"14.00\">beta_2</text>\n",
       "<text text-anchor=\"middle\" x=\"163\" y=\"-381.02\" font-family=\"Times New Roman,serif\" font-size=\"14.00\">~</text>\n",
       "<text text-anchor=\"middle\" x=\"163\" y=\"-364.52\" font-family=\"Times New Roman,serif\" font-size=\"14.00\">Normal</text>\n",
       "</g>\n",
       "<!-- beta_2&#45;&gt;p -->\n",
       "<g id=\"edge5\" class=\"edge\">\n",
       "<title>beta_2&#45;&gt;p</title>\n",
       "<path fill=\"none\" stroke=\"black\" d=\"M187.78,-353.29C195.56,-343.85 204.37,-333.68 213,-324.82 215.54,-322.21 218.2,-319.59 220.93,-316.99\"/>\n",
       "<polygon fill=\"black\" stroke=\"black\" points=\"223.17,-319.69 228.13,-310.33 218.41,-314.55 223.17,-319.69\"/>\n",
       "</g>\n",
       "<!-- beta_1 -->\n",
       "<g id=\"node6\" class=\"node\">\n",
       "<title>beta_1</title>\n",
       "<ellipse fill=\"none\" stroke=\"black\" cx=\"263\" cy=\"-386.07\" rx=\"41.01\" ry=\"40.66\"/>\n",
       "<text text-anchor=\"middle\" x=\"263\" y=\"-397.52\" font-family=\"Times New Roman,serif\" font-size=\"14.00\">beta_1</text>\n",
       "<text text-anchor=\"middle\" x=\"263\" y=\"-381.02\" font-family=\"Times New Roman,serif\" font-size=\"14.00\">~</text>\n",
       "<text text-anchor=\"middle\" x=\"263\" y=\"-364.52\" font-family=\"Times New Roman,serif\" font-size=\"14.00\">Normal</text>\n",
       "</g>\n",
       "<!-- beta_1&#45;&gt;p -->\n",
       "<g id=\"edge2\" class=\"edge\">\n",
       "<title>beta_1&#45;&gt;p</title>\n",
       "<path fill=\"none\" stroke=\"black\" d=\"M263,-345.16C263,-337.07 263,-328.58 263,-320.51\"/>\n",
       "<polygon fill=\"black\" stroke=\"black\" points=\"266.5,-320.61 263,-310.61 259.5,-320.61 266.5,-320.61\"/>\n",
       "</g>\n",
       "<!-- beta_3 -->\n",
       "<g id=\"node7\" class=\"node\">\n",
       "<title>beta_3</title>\n",
       "<ellipse fill=\"none\" stroke=\"black\" cx=\"363\" cy=\"-386.07\" rx=\"41.01\" ry=\"40.66\"/>\n",
       "<text text-anchor=\"middle\" x=\"363\" y=\"-397.52\" font-family=\"Times New Roman,serif\" font-size=\"14.00\">beta_3</text>\n",
       "<text text-anchor=\"middle\" x=\"363\" y=\"-381.02\" font-family=\"Times New Roman,serif\" font-size=\"14.00\">~</text>\n",
       "<text text-anchor=\"middle\" x=\"363\" y=\"-364.52\" font-family=\"Times New Roman,serif\" font-size=\"14.00\">Normal</text>\n",
       "</g>\n",
       "<!-- beta_3&#45;&gt;p -->\n",
       "<g id=\"edge3\" class=\"edge\">\n",
       "<title>beta_3&#45;&gt;p</title>\n",
       "<path fill=\"none\" stroke=\"black\" d=\"M338.22,-353.29C330.44,-343.85 321.63,-333.68 313,-324.82 310.46,-322.21 307.8,-319.59 305.07,-316.99\"/>\n",
       "<polygon fill=\"black\" stroke=\"black\" points=\"307.59,-314.55 297.87,-310.33 302.83,-319.69 307.59,-314.55\"/>\n",
       "</g>\n",
       "<!-- intercept -->\n",
       "<g id=\"node8\" class=\"node\">\n",
       "<title>intercept</title>\n",
       "<ellipse fill=\"none\" stroke=\"black\" cx=\"467\" cy=\"-386.07\" rx=\"44.72\" ry=\"40.66\"/>\n",
       "<text text-anchor=\"middle\" x=\"467\" y=\"-397.52\" font-family=\"Times New Roman,serif\" font-size=\"14.00\">intercept</text>\n",
       "<text text-anchor=\"middle\" x=\"467\" y=\"-381.02\" font-family=\"Times New Roman,serif\" font-size=\"14.00\">~</text>\n",
       "<text text-anchor=\"middle\" x=\"467\" y=\"-364.52\" font-family=\"Times New Roman,serif\" font-size=\"14.00\">Normal</text>\n",
       "</g>\n",
       "<!-- intercept&#45;&gt;p -->\n",
       "<g id=\"edge4\" class=\"edge\">\n",
       "<title>intercept&#45;&gt;p</title>\n",
       "<path fill=\"none\" stroke=\"black\" d=\"M442.92,-351.67C434.42,-341.84 424.17,-331.85 413,-324.82 384.71,-307 348.89,-296.2 319.35,-289.79\"/>\n",
       "<polygon fill=\"black\" stroke=\"black\" points=\"320.34,-286.42 309.84,-287.84 318.94,-293.28 320.34,-286.42\"/>\n",
       "</g>\n",
       "</g>\n",
       "</svg>\n"
      ],
      "text/plain": [
       "<graphviz.graphs.Digraph at 0x1ed510b6bb0>"
      ]
     },
     "execution_count": 113,
     "metadata": {},
     "output_type": "execute_result"
    }
   ],
   "source": [
    "pm.model_to_graphviz(modelo_formula_cov)"
   ]
  },
  {
   "cell_type": "code",
   "execution_count": 114,
   "metadata": {},
   "outputs": [
    {
     "data": {
      "text/html": [
       "\n",
       "<style>\n",
       "    /* Turns off some styling */\n",
       "    progress {\n",
       "        /* gets rid of default border in Firefox and Opera. */\n",
       "        border: none;\n",
       "        /* Needs to be in here for Safari polyfill so background images work as expected. */\n",
       "        background-size: auto;\n",
       "    }\n",
       "    progress:not([value]), progress:not([value])::-webkit-progress-bar {\n",
       "        background: repeating-linear-gradient(45deg, #7e7e7e, #7e7e7e 10px, #5c5c5c 10px, #5c5c5c 20px);\n",
       "    }\n",
       "    .progress-bar-interrupted, .progress-bar-interrupted::-webkit-progress-bar {\n",
       "        background: #F44336;\n",
       "    }\n",
       "</style>\n"
      ],
      "text/plain": [
       "<IPython.core.display.HTML object>"
      ]
     },
     "metadata": {},
     "output_type": "display_data"
    },
    {
     "data": {
      "text/html": [
       "\n",
       "    <div>\n",
       "      <progress value='11' class='' max='11' style='width:300px; height:20px; vertical-align: middle;'></progress>\n",
       "      100.00% [11/11 00:00&lt;00:00 logp = -147.63, ||grad|| = 4.2566e-05]\n",
       "    </div>\n",
       "    "
      ],
      "text/plain": [
       "<IPython.core.display.HTML object>"
      ]
     },
     "metadata": {},
     "output_type": "display_data"
    },
    {
     "name": "stdout",
     "output_type": "stream",
     "text": [
      "\n"
     ]
    },
    {
     "name": "stderr",
     "output_type": "stream",
     "text": [
      "C:\\Users\\ivo\\AppData\\Local\\Temp\\ipykernel_7508\\581455022.py:6: FutureWarning: The `start` kwarg was renamed to `initvals` and can now do more. Please check the docstring.\n",
      "  trace = pm.sample(draws=5000, step = step, start = start)# nuts_sampler_kwargs={'hess_inv': hessian_inv})\n",
      "Multiprocess sampling (4 chains in 4 jobs)\n",
      "CompoundStep\n",
      ">Metropolis: [intercept]\n",
      ">Metropolis: [beta_1]\n",
      ">Metropolis: [beta_2]\n",
      ">Metropolis: [beta_3]\n"
     ]
    },
    {
     "data": {
      "text/html": [
       "\n",
       "<style>\n",
       "    /* Turns off some styling */\n",
       "    progress {\n",
       "        /* gets rid of default border in Firefox and Opera. */\n",
       "        border: none;\n",
       "        /* Needs to be in here for Safari polyfill so background images work as expected. */\n",
       "        background-size: auto;\n",
       "    }\n",
       "    progress:not([value]), progress:not([value])::-webkit-progress-bar {\n",
       "        background: repeating-linear-gradient(45deg, #7e7e7e, #7e7e7e 10px, #5c5c5c 10px, #5c5c5c 20px);\n",
       "    }\n",
       "    .progress-bar-interrupted, .progress-bar-interrupted::-webkit-progress-bar {\n",
       "        background: #F44336;\n",
       "    }\n",
       "</style>\n"
      ],
      "text/plain": [
       "<IPython.core.display.HTML object>"
      ]
     },
     "metadata": {},
     "output_type": "display_data"
    },
    {
     "data": {
      "text/html": [
       "\n",
       "    <div>\n",
       "      <progress value='24000' class='' max='24000' style='width:300px; height:20px; vertical-align: middle;'></progress>\n",
       "      100.00% [24000/24000 15:49&lt;00:00 Sampling 4 chains, 0 divergences]\n",
       "    </div>\n",
       "    "
      ],
      "text/plain": [
       "<IPython.core.display.HTML object>"
      ]
     },
     "metadata": {},
     "output_type": "display_data"
    },
    {
     "name": "stderr",
     "output_type": "stream",
     "text": [
      "Sampling 4 chains for 1_000 tune and 5_000 draw iterations (4_000 + 20_000 draws total) took 958 seconds.\n",
      "Sampling: []\n"
     ]
    },
    {
     "data": {
      "text/html": [
       "\n",
       "<style>\n",
       "    /* Turns off some styling */\n",
       "    progress {\n",
       "        /* gets rid of default border in Firefox and Opera. */\n",
       "        border: none;\n",
       "        /* Needs to be in here for Safari polyfill so background images work as expected. */\n",
       "        background-size: auto;\n",
       "    }\n",
       "    progress:not([value]), progress:not([value])::-webkit-progress-bar {\n",
       "        background: repeating-linear-gradient(45deg, #7e7e7e, #7e7e7e 10px, #5c5c5c 10px, #5c5c5c 20px);\n",
       "    }\n",
       "    .progress-bar-interrupted, .progress-bar-interrupted::-webkit-progress-bar {\n",
       "        background: #F44336;\n",
       "    }\n",
       "</style>\n"
      ],
      "text/plain": [
       "<IPython.core.display.HTML object>"
      ]
     },
     "metadata": {},
     "output_type": "display_data"
    },
    {
     "data": {
      "text/html": [
       "\n",
       "    <div>\n",
       "      <progress value='20000' class='' max='20000' style='width:300px; height:20px; vertical-align: middle;'></progress>\n",
       "      100.00% [20000/20000 00:53&lt;00:00]\n",
       "    </div>\n",
       "    "
      ],
      "text/plain": [
       "<IPython.core.display.HTML object>"
      ]
     },
     "metadata": {},
     "output_type": "display_data"
    },
    {
     "name": "stdout",
     "output_type": "stream",
     "text": [
      "Accuracy = 91.07142857142857%\n"
     ]
    }
   ],
   "source": [
    "with modelo_formula_cov:\n",
    "    start = pm.find_MAP()\n",
    "    #hessian_inv = np.linalg.inv(pm.find_hessian(start, model=bayesian_regression_tree))\n",
    "    #approx = pm.fit(n=10_000, start=start)\n",
    "    step = pm.Metropolis()\n",
    "    trace = pm.sample(draws=5000, step = step, start = start)# nuts_sampler_kwargs={'hess_inv': hessian_inv})\n",
    "\n",
    "with modelo_formula_cov:\n",
    "    pm.set_data(new_data={\"input\": X_test})\n",
    "    ppc = pm.sample_posterior_predictive(trace, var_names=['p'], return_inferencedata=True, predictions=True, extend_inferencedata=True)\n",
    "    trace.extend(ppc)\n",
    "#pred = ppc.posterior_predictive[\"out\"].mean((\"chain\", \"draw\")) > 0.50\n",
    "#print(f\"Accuracy = {(y_test == pred.values).mean() * 100}%\")\n",
    "pred = ppc.predictions['p'].mean(('chain', 'draw')) > 0.5\n",
    "print(f\"Accuracy = {(y_test == pred.values).mean() * 100}%\")"
   ]
  },
  {
   "cell_type": "code",
   "execution_count": 179,
   "metadata": {},
   "outputs": [],
   "source": [
    "from sklearn.metrics import (roc_curve, roc_auc_score, confusion_matrix, accuracy_score, f1_score, \n",
    "                             precision_recall_curve, classification_report) "
   ]
  },
  {
   "cell_type": "code",
   "execution_count": 160,
   "metadata": {},
   "outputs": [],
   "source": [
    "y_score = pred.values"
   ]
  },
  {
   "cell_type": "code",
   "execution_count": 161,
   "metadata": {},
   "outputs": [
    {
     "data": {
      "text/plain": [
       "0.9107142857142857"
      ]
     },
     "execution_count": 161,
     "metadata": {},
     "output_type": "execute_result"
    }
   ],
   "source": [
    "roc_auc_score(y_score=y_score, \n",
    "              y_true=y_test)"
   ]
  },
  {
   "cell_type": "code",
   "execution_count": 162,
   "metadata": {},
   "outputs": [],
   "source": [
    "pred_scores = dict(y_true=y_test, y_score=y_score)\n",
    "cols = ['False Positive Rate', 'True Positive Rate', 'threshold']\n",
    "roc = pd.DataFrame(dict(zip(cols, roc_curve(**pred_scores))))"
   ]
  },
  {
   "cell_type": "code",
   "execution_count": 164,
   "metadata": {},
   "outputs": [],
   "source": [
    "precision, recall, ts = precision_recall_curve(y_true=y_test, probas_pred=y_score)\n",
    "pr_curve = pd.DataFrame({'Precision': precision, 'Recall': recall})"
   ]
  },
  {
   "cell_type": "code",
   "execution_count": 165,
   "metadata": {},
   "outputs": [],
   "source": [
    "f1 = pd.Series({t: f1_score(y_true=y_test, y_pred=y_score>t) for t in ts})\n",
    "best_threshold = f1.idxmax()"
   ]
  },
  {
   "cell_type": "code",
   "execution_count": 177,
   "metadata": {},
   "outputs": [
    {
     "data": {
      "text/plain": [
       "(0.9464285714285714, 0.8833333333333333)"
      ]
     },
     "execution_count": 177,
     "metadata": {},
     "output_type": "execute_result"
    }
   ],
   "source": [
    "from sklearn.metrics import recall_score, precision_score, confusion_matrix\n",
    "recall = recall_score(y_test, y_score)\n",
    "precision = precision_score(y_test,y_score)\n",
    "recall, precision"
   ]
  },
  {
   "cell_type": "code",
   "execution_count": 178,
   "metadata": {},
   "outputs": [
    {
     "name": "stdout",
     "output_type": "stream",
     "text": [
      "[[49  7]\n",
      " [ 3 53]]\n"
     ]
    }
   ],
   "source": [
    "confusion_matrix = confusion_matrix(y_test, y_score)\n",
    "print(confusion_matrix)"
   ]
  },
  {
   "cell_type": "code",
   "execution_count": 168,
   "metadata": {},
   "outputs": [
    {
     "ename": "TypeError",
     "evalue": "matplotlib.text.Text() got multiple values for keyword argument 'text'",
     "output_type": "error",
     "traceback": [
      "\u001b[1;31m---------------------------------------------------------------------------\u001b[0m",
      "\u001b[1;31mTypeError\u001b[0m                                 Traceback (most recent call last)",
      "Cell \u001b[1;32mIn[168], line 18\u001b[0m\n\u001b[0;32m     16\u001b[0m axes[\u001b[38;5;241m2\u001b[39m]\u001b[38;5;241m.\u001b[39mset_xlabel(\u001b[38;5;124m'\u001b[39m\u001b[38;5;124mThreshold\u001b[39m\u001b[38;5;124m'\u001b[39m)\n\u001b[0;32m     17\u001b[0m axes[\u001b[38;5;241m2\u001b[39m]\u001b[38;5;241m.\u001b[39maxvline(best_threshold, lw\u001b[38;5;241m=\u001b[39m\u001b[38;5;241m1\u001b[39m, ls\u001b[38;5;241m=\u001b[39m\u001b[38;5;124m'\u001b[39m\u001b[38;5;124m--\u001b[39m\u001b[38;5;124m'\u001b[39m, color\u001b[38;5;241m=\u001b[39m\u001b[38;5;124m'\u001b[39m\u001b[38;5;124mk\u001b[39m\u001b[38;5;124m'\u001b[39m)\n\u001b[1;32m---> 18\u001b[0m \u001b[43maxes\u001b[49m\u001b[43m[\u001b[49m\u001b[38;5;241;43m2\u001b[39;49m\u001b[43m]\u001b[49m\u001b[38;5;241;43m.\u001b[39;49m\u001b[43mtext\u001b[49m\u001b[43m(\u001b[49m\u001b[43mtext\u001b[49m\u001b[38;5;241;43m=\u001b[39;49m\u001b[38;5;124;43mf\u001b[39;49m\u001b[38;5;124;43m'\u001b[39;49m\u001b[38;5;124;43mMax F1 @ \u001b[39;49m\u001b[38;5;132;43;01m{\u001b[39;49;00m\u001b[43mbest_threshold\u001b[49m\u001b[38;5;132;43;01m:\u001b[39;49;00m\u001b[38;5;124;43m.2f\u001b[39;49m\u001b[38;5;132;43;01m}\u001b[39;49;00m\u001b[38;5;124;43m'\u001b[39;49m\u001b[43m,\u001b[49m\u001b[43m \u001b[49m\u001b[43mx\u001b[49m\u001b[38;5;241;43m=\u001b[39;49m\u001b[38;5;241;43m.60\u001b[39;49m\u001b[43m,\u001b[49m\u001b[43m \u001b[49m\u001b[43my\u001b[49m\u001b[38;5;241;43m=\u001b[39;49m\u001b[38;5;241;43m.95\u001b[39;49m\u001b[43m,\u001b[49m\u001b[43m \u001b[49m\u001b[43ms\u001b[49m\u001b[38;5;241;43m=\u001b[39;49m\u001b[38;5;241;43m5\u001b[39;49m\u001b[43m)\u001b[49m\n\u001b[0;32m     19\u001b[0m fig\u001b[38;5;241m.\u001b[39msuptitle(\u001b[38;5;124mf\u001b[39m\u001b[38;5;124m'\u001b[39m\u001b[38;5;124mroc_auc_score = \u001b[39m\u001b[38;5;132;01m{\u001b[39;00m\u001b[38;5;28mround\u001b[39m(roc_auc_score(\u001b[38;5;241m*\u001b[39m\u001b[38;5;241m*\u001b[39mpred_scores),\u001b[38;5;241m2\u001b[39m)\u001b[38;5;132;01m}\u001b[39;00m\u001b[38;5;124m'\u001b[39m, fontsize\u001b[38;5;241m=\u001b[39m\u001b[38;5;241m24\u001b[39m)\n\u001b[0;32m     20\u001b[0m fig\u001b[38;5;241m.\u001b[39mtight_layout()\n",
      "File \u001b[1;32m~\\.conda\\envs\\fjerez_mlabbe\\lib\\site-packages\\matplotlib\\axes\\_axes.py:700\u001b[0m, in \u001b[0;36mAxes.text\u001b[1;34m(self, x, y, s, fontdict, **kwargs)\u001b[0m\n\u001b[0;32m    632\u001b[0m \u001b[38;5;250m\u001b[39m\u001b[38;5;124;03m\"\"\"\u001b[39;00m\n\u001b[0;32m    633\u001b[0m \u001b[38;5;124;03mAdd text to the Axes.\u001b[39;00m\n\u001b[0;32m    634\u001b[0m \n\u001b[1;32m   (...)\u001b[0m\n\u001b[0;32m    690\u001b[0m \u001b[38;5;124;03m    >>> text(x, y, s, bbox=dict(facecolor='red', alpha=0.5))\u001b[39;00m\n\u001b[0;32m    691\u001b[0m \u001b[38;5;124;03m\"\"\"\u001b[39;00m\n\u001b[0;32m    692\u001b[0m effective_kwargs \u001b[38;5;241m=\u001b[39m {\n\u001b[0;32m    693\u001b[0m     \u001b[38;5;124m'\u001b[39m\u001b[38;5;124mverticalalignment\u001b[39m\u001b[38;5;124m'\u001b[39m: \u001b[38;5;124m'\u001b[39m\u001b[38;5;124mbaseline\u001b[39m\u001b[38;5;124m'\u001b[39m,\n\u001b[0;32m    694\u001b[0m     \u001b[38;5;124m'\u001b[39m\u001b[38;5;124mhorizontalalignment\u001b[39m\u001b[38;5;124m'\u001b[39m: \u001b[38;5;124m'\u001b[39m\u001b[38;5;124mleft\u001b[39m\u001b[38;5;124m'\u001b[39m,\n\u001b[1;32m   (...)\u001b[0m\n\u001b[0;32m    698\u001b[0m     \u001b[38;5;241m*\u001b[39m\u001b[38;5;241m*\u001b[39mkwargs,\n\u001b[0;32m    699\u001b[0m }\n\u001b[1;32m--> 700\u001b[0m t \u001b[38;5;241m=\u001b[39m mtext\u001b[38;5;241m.\u001b[39mText(x, y, text\u001b[38;5;241m=\u001b[39ms, \u001b[38;5;241m*\u001b[39m\u001b[38;5;241m*\u001b[39meffective_kwargs)\n\u001b[0;32m    701\u001b[0m \u001b[38;5;28;01mif\u001b[39;00m t\u001b[38;5;241m.\u001b[39mget_clip_path() \u001b[38;5;129;01mis\u001b[39;00m \u001b[38;5;28;01mNone\u001b[39;00m:\n\u001b[0;32m    702\u001b[0m     t\u001b[38;5;241m.\u001b[39mset_clip_path(\u001b[38;5;28mself\u001b[39m\u001b[38;5;241m.\u001b[39mpatch)\n",
      "\u001b[1;31mTypeError\u001b[0m: matplotlib.text.Text() got multiple values for keyword argument 'text'"
     ]
    },
    {
     "data": {
      "image/png": "[encoded data removed]",
      "text/plain": [
       "<Figure size 1300x500 with 3 Axes>"
      ]
     },
     "metadata": {},
     "output_type": "display_data"
    }
   ],
   "source": [
    "fig, axes = plt.subplots(ncols=3, figsize=(13, 5))\n",
    "\n",
    "ax = sns.scatterplot(x='False Positive Rate', y='True Positive Rate', data=roc, s=50, legend=False, ax=axes[0])\n",
    "axes[0].plot('False Positive Rate', 'True Positive Rate', data=roc, lw=1, color='k')\n",
    "axes[0].plot(np.linspace(0,1,100), np.linspace(0,1,100), color='k', ls='--', lw=1)\n",
    "axes[0].fill_between(y1=roc['True Positive Rate'], x=roc['False Positive Rate'], alpha=.3, color='red')\n",
    "axes[0].set_title('Receiver Operating Characteristic')\n",
    "\n",
    "\n",
    "sns.scatterplot(x='Recall', y='Precision', data=pr_curve, ax=axes[1])\n",
    "axes[1].set_ylim(0,1)\n",
    "axes[1].set_title('Precision-Recall Curve')\n",
    "\n",
    "\n",
    "f1.plot(ax=axes[2], title='F1 Scores', ylim=(0,1))\n",
    "axes[2].set_xlabel('Threshold')\n",
    "axes[2].axvline(best_threshold, lw=1, ls='--', color='k')\n",
    "axes[2].text(text=f'Max F1 @ {best_threshold:.2f}', x=.60, y=.95, s=5)\n",
    "fig.suptitle(f'roc_auc_score = {round(roc_auc_score(**pred_scores),2)}', fontsize=24)\n",
    "fig.tight_layout()\n",
    "plt.subplots_adjust(top=.8)\n",
    "plt.show();"
   ]
  },
  {
   "cell_type": "code",
   "execution_count": null,
   "metadata": {},
   "outputs": [],
   "source": []
  }
 ],
 "metadata": {
  "kernelspec": {
   "display_name": "Python 3 (ipykernel)",
   "language": "python",
   "name": "python3"
  },
  "language_info": {
   "codemirror_mode": {
    "name": "ipython",
    "version": 3
   },
   "file_extension": ".py",
   "mimetype": "text/x-python",
   "name": "python",
   "nbconvert_exporter": "python",
   "pygments_lexer": "ipython3",
   "version": "3.9.0"
  }
 },
 "nbformat": 4,
 "nbformat_minor": 4
}
